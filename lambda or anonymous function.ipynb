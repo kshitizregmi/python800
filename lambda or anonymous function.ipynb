{
 "cells": [
  {
   "cell_type": "markdown",
   "id": "59edc360",
   "metadata": {},
   "source": [
    "```python\n",
    "\n",
    "lambda arguments: Experession\n",
    "\n",
    "```"
   ]
  },
  {
   "cell_type": "code",
   "execution_count": 1,
   "id": "4185806d",
   "metadata": {},
   "outputs": [],
   "source": [
    "sq = lambda x : x ** 2"
   ]
  },
  {
   "cell_type": "code",
   "execution_count": 2,
   "id": "89a55b17",
   "metadata": {},
   "outputs": [
    {
     "data": {
      "text/plain": [
       "25"
      ]
     },
     "execution_count": 2,
     "metadata": {},
     "output_type": "execute_result"
    }
   ],
   "source": [
    "sq(5)"
   ]
  },
  {
   "cell_type": "markdown",
   "id": "a4a1f189",
   "metadata": {},
   "source": [
    "# filter() and map() use lambda function"
   ]
  },
  {
   "cell_type": "code",
   "execution_count": 4,
   "id": "16a61c4c",
   "metadata": {},
   "outputs": [
    {
     "data": {
      "text/plain": [
       "<filter at 0x7f0306e5dee0>"
      ]
     },
     "execution_count": 4,
     "metadata": {},
     "output_type": "execute_result"
    }
   ],
   "source": [
    "filter(lambda x : x % 2 == 0, [1,2,3,4,5,6])"
   ]
  },
  {
   "cell_type": "code",
   "execution_count": 5,
   "id": "ee3cb7f9",
   "metadata": {},
   "outputs": [
    {
     "data": {
      "text/plain": [
       "[2, 4, 6]"
      ]
     },
     "execution_count": 5,
     "metadata": {},
     "output_type": "execute_result"
    }
   ],
   "source": [
    "list(filter(lambda x : x % 2 == 0, [1,2,3,4,5,6]))"
   ]
  },
  {
   "cell_type": "code",
   "execution_count": 6,
   "id": "53c3370e",
   "metadata": {},
   "outputs": [
    {
     "data": {
      "text/plain": [
       "[1, 3, 5]"
      ]
     },
     "execution_count": 6,
     "metadata": {},
     "output_type": "execute_result"
    }
   ],
   "source": [
    "list(filter(lambda x: x % 2 != 0, [1,2,3,4,5,6]))"
   ]
  },
  {
   "cell_type": "code",
   "execution_count": 7,
   "id": "0ff0da5a",
   "metadata": {},
   "outputs": [],
   "source": [
    "corpus = ['He is a good boy.', 'He is a football player']"
   ]
  },
  {
   "cell_type": "code",
   "execution_count": 12,
   "id": "1c847fff",
   "metadata": {},
   "outputs": [
    {
     "data": {
      "text/plain": [
       "list"
      ]
     },
     "execution_count": 12,
     "metadata": {},
     "output_type": "execute_result"
    }
   ],
   "source": [
    "type(corpus)"
   ]
  },
  {
   "cell_type": "code",
   "execution_count": 8,
   "id": "d439fea4",
   "metadata": {},
   "outputs": [
    {
     "data": {
      "text/plain": [
       "<filter at 0x7f0306e5deb0>"
      ]
     },
     "execution_count": 8,
     "metadata": {},
     "output_type": "execute_result"
    }
   ],
   "source": [
    "filter(lambda x: x.replace(\"He\", \"She\") , corpus)"
   ]
  },
  {
   "cell_type": "code",
   "execution_count": 10,
   "id": "c4089c03",
   "metadata": {},
   "outputs": [
    {
     "data": {
      "text/plain": [
       "['She is a good boy.', 'She is a football player']"
      ]
     },
     "execution_count": 10,
     "metadata": {},
     "output_type": "execute_result"
    }
   ],
   "source": [
    "list(map(lambda x: x.replace(\"He\", \"She\") , corpus))"
   ]
  },
  {
   "cell_type": "code",
   "execution_count": null,
   "id": "330f83b8",
   "metadata": {},
   "outputs": [],
   "source": []
  }
 ],
 "metadata": {
  "kernelspec": {
   "display_name": "Python (reco)",
   "language": "python",
   "name": "my_environment_name"
  },
  "language_info": {
   "codemirror_mode": {
    "name": "ipython",
    "version": 3
   },
   "file_extension": ".py",
   "mimetype": "text/x-python",
   "name": "python",
   "nbconvert_exporter": "python",
   "pygments_lexer": "ipython3",
   "version": "3.9.13"
  }
 },
 "nbformat": 4,
 "nbformat_minor": 5
}
