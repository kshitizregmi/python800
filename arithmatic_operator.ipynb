{
 "cells": [
  {
   "cell_type": "code",
   "execution_count": 2,
   "id": "1dc97202",
   "metadata": {},
   "outputs": [
    {
     "name": "stdout",
     "output_type": "stream",
     "text": [
      "14\n"
     ]
    }
   ],
   "source": [
    "a = 5\n",
    "b = 9\n",
    "c = a + b\n",
    "print(c)"
   ]
  },
  {
   "cell_type": "code",
   "execution_count": 3,
   "id": "c08a9d6e",
   "metadata": {},
   "outputs": [
    {
     "name": "stdout",
     "output_type": "stream",
     "text": [
      "14\n"
     ]
    }
   ],
   "source": [
    "print(14)"
   ]
  },
  {
   "cell_type": "code",
   "execution_count": 4,
   "id": "dbb7b465",
   "metadata": {},
   "outputs": [
    {
     "name": "stdout",
     "output_type": "stream",
     "text": [
      "Hello, world!\n"
     ]
    }
   ],
   "source": [
    "print(\"Hello, world!\") # use quote to print text"
   ]
  },
  {
   "cell_type": "code",
   "execution_count": 5,
   "id": "a0e22e2e",
   "metadata": {},
   "outputs": [
    {
     "data": {
      "text/plain": [
       "7"
      ]
     },
     "execution_count": 5,
     "metadata": {},
     "output_type": "execute_result"
    }
   ],
   "source": [
    "15//2 # floor division"
   ]
  },
  {
   "cell_type": "code",
   "execution_count": 7,
   "id": "66ea111b",
   "metadata": {},
   "outputs": [
    {
     "data": {
      "text/plain": [
       "7.5"
      ]
     },
     "execution_count": 7,
     "metadata": {},
     "output_type": "execute_result"
    }
   ],
   "source": [
    "15/2 # division"
   ]
  },
  {
   "cell_type": "code",
   "execution_count": 8,
   "id": "6cc8e071",
   "metadata": {},
   "outputs": [
    {
     "data": {
      "text/plain": [
       "6"
      ]
     },
     "execution_count": 8,
     "metadata": {},
     "output_type": "execute_result"
    }
   ],
   "source": [
    "2 * 3 # multiply"
   ]
  },
  {
   "cell_type": "code",
   "execution_count": 10,
   "id": "09f6b01b",
   "metadata": {},
   "outputs": [
    {
     "data": {
      "text/plain": [
       "8"
      ]
     },
     "execution_count": 10,
     "metadata": {},
     "output_type": "execute_result"
    }
   ],
   "source": [
    "2 ** 3 # 2 ko power 3 (Exponentiation operator)"
   ]
  },
  {
   "cell_type": "code",
   "execution_count": 11,
   "id": "3b1c731f",
   "metadata": {},
   "outputs": [
    {
     "data": {
      "text/plain": [
       "81"
      ]
     },
     "execution_count": 11,
     "metadata": {},
     "output_type": "execute_result"
    }
   ],
   "source": [
    "9 ** 2 # 9 to the power 2 -- 9 * 9"
   ]
  },
  {
   "cell_type": "code",
   "execution_count": 12,
   "id": "d8eb1f1c",
   "metadata": {},
   "outputs": [
    {
     "data": {
      "text/plain": [
       "1"
      ]
     },
     "execution_count": 12,
     "metadata": {},
     "output_type": "execute_result"
    }
   ],
   "source": [
    "5 % 2 # modulus operator returns remainder"
   ]
  },
  {
   "cell_type": "code",
   "execution_count": 13,
   "id": "a6939706",
   "metadata": {},
   "outputs": [],
   "source": [
    "a = 20 # legal"
   ]
  },
  {
   "cell_type": "code",
   "execution_count": 14,
   "id": "790fabf1",
   "metadata": {},
   "outputs": [
    {
     "data": {
      "text/plain": [
       "20"
      ]
     },
     "execution_count": 14,
     "metadata": {},
     "output_type": "execute_result"
    }
   ],
   "source": [
    "a"
   ]
  },
  {
   "cell_type": "code",
   "execution_count": 15,
   "id": "dcffb879",
   "metadata": {},
   "outputs": [
    {
     "ename": "SyntaxError",
     "evalue": "cannot assign to literal (3955223923.py, line 1)",
     "output_type": "error",
     "traceback": [
      "\u001b[0;36m  File \u001b[0;32m\"/tmp/ipykernel_8507/3955223923.py\"\u001b[0;36m, line \u001b[0;32m1\u001b[0m\n\u001b[0;31m    20 = a\u001b[0m\n\u001b[0m    ^\u001b[0m\n\u001b[0;31mSyntaxError\u001b[0m\u001b[0;31m:\u001b[0m cannot assign to literal\n"
     ]
    }
   ],
   "source": [
    "20 = a"
   ]
  },
  {
   "cell_type": "code",
   "execution_count": null,
   "id": "06d365af",
   "metadata": {},
   "outputs": [],
   "source": []
  }
 ],
 "metadata": {
  "kernelspec": {
   "display_name": "Python (reco)",
   "language": "python",
   "name": "my_environment_name"
  },
  "language_info": {
   "codemirror_mode": {
    "name": "ipython",
    "version": 3
   },
   "file_extension": ".py",
   "mimetype": "text/x-python",
   "name": "python",
   "nbconvert_exporter": "python",
   "pygments_lexer": "ipython3",
   "version": "3.9.13"
  }
 },
 "nbformat": 4,
 "nbformat_minor": 5
}
