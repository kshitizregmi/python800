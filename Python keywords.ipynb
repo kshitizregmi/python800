{
 "cells": [
  {
   "cell_type": "markdown",
   "id": "06a2bae5",
   "metadata": {},
   "source": [
    "# Keywords in python\n",
    "\n",
    "* Reserved word in python\n",
    "* used to write a syntax in python\n",
    "* you cannot use keywords as variable/object name\n",
    "* case sensative: uppercase and lowercase name are different\n",
    "* example of keywords : global, True, False, for, if, etc."
   ]
  },
  {
   "cell_type": "code",
   "execution_count": 1,
   "id": "d63eb826",
   "metadata": {},
   "outputs": [
    {
     "ename": "SyntaxError",
     "evalue": "invalid syntax (1404077010.py, line 1)",
     "output_type": "error",
     "traceback": [
      "\u001b[0;36m  File \u001b[0;32m\"/tmp/ipykernel_10276/1404077010.py\"\u001b[0;36m, line \u001b[0;32m1\u001b[0m\n\u001b[0;31m    global = 5\u001b[0m\n\u001b[0m           ^\u001b[0m\n\u001b[0;31mSyntaxError\u001b[0m\u001b[0;31m:\u001b[0m invalid syntax\n"
     ]
    }
   ],
   "source": [
    "global = 5"
   ]
  },
  {
   "cell_type": "code",
   "execution_count": 4,
   "id": "8e454334",
   "metadata": {},
   "outputs": [
    {
     "ename": "SyntaxError",
     "evalue": "cannot assign to False (657355827.py, line 1)",
     "output_type": "error",
     "traceback": [
      "\u001b[0;36m  File \u001b[0;32m\"/tmp/ipykernel_10276/657355827.py\"\u001b[0;36m, line \u001b[0;32m1\u001b[0m\n\u001b[0;31m    False = \"hi\"\u001b[0m\n\u001b[0m    ^\u001b[0m\n\u001b[0;31mSyntaxError\u001b[0m\u001b[0;31m:\u001b[0m cannot assign to False\n"
     ]
    }
   ],
   "source": [
    "False = \"hi\""
   ]
  },
  {
   "cell_type": "markdown",
   "id": "d87ed407",
   "metadata": {},
   "source": [
    "# python keywords are case sensative"
   ]
  },
  {
   "cell_type": "code",
   "execution_count": 5,
   "id": "98d9efc6",
   "metadata": {},
   "outputs": [
    {
     "ename": "SyntaxError",
     "evalue": "cannot assign to False (1261848717.py, line 1)",
     "output_type": "error",
     "traceback": [
      "\u001b[0;36m  File \u001b[0;32m\"/tmp/ipykernel_10276/1261848717.py\"\u001b[0;36m, line \u001b[0;32m1\u001b[0m\n\u001b[0;31m    False = 'hi' # False is a keyword\u001b[0m\n\u001b[0m    ^\u001b[0m\n\u001b[0;31mSyntaxError\u001b[0m\u001b[0;31m:\u001b[0m cannot assign to False\n"
     ]
    }
   ],
   "source": [
    "False = 'hi' # False is a keyword"
   ]
  },
  {
   "cell_type": "code",
   "execution_count": 6,
   "id": "09cbeb67",
   "metadata": {},
   "outputs": [],
   "source": [
    "false = 'hi' # false is not a keyword"
   ]
  },
  {
   "cell_type": "code",
   "execution_count": 7,
   "id": "6e34221c",
   "metadata": {},
   "outputs": [
    {
     "data": {
      "text/plain": [
       "'hi'"
      ]
     },
     "execution_count": 7,
     "metadata": {},
     "output_type": "execute_result"
    }
   ],
   "source": [
    "false"
   ]
  },
  {
   "cell_type": "markdown",
   "id": "9c04e0e8",
   "metadata": {},
   "source": [
    "We cannot use special symbols like !, @, #, $, -, % etc. in our identifier.\n"
   ]
  },
  {
   "cell_type": "code",
   "execution_count": 8,
   "id": "ba76dbb6",
   "metadata": {},
   "outputs": [
    {
     "ename": "SyntaxError",
     "evalue": "invalid syntax (3887747773.py, line 1)",
     "output_type": "error",
     "traceback": [
      "\u001b[0;36m  File \u001b[0;32m\"/tmp/ipykernel_10276/3887747773.py\"\u001b[0;36m, line \u001b[0;32m1\u001b[0m\n\u001b[0;31m    @name = \"kshitiz\"\u001b[0m\n\u001b[0m          ^\u001b[0m\n\u001b[0;31mSyntaxError\u001b[0m\u001b[0;31m:\u001b[0m invalid syntax\n"
     ]
    }
   ],
   "source": [
    "@name = \"kshitiz\""
   ]
  },
  {
   "cell_type": "code",
   "execution_count": 9,
   "id": "bffc3202",
   "metadata": {},
   "outputs": [
    {
     "ename": "SyntaxError",
     "evalue": "invalid syntax (3948196849.py, line 1)",
     "output_type": "error",
     "traceback": [
      "\u001b[0;36m  File \u001b[0;32m\"/tmp/ipykernel_10276/3948196849.py\"\u001b[0;36m, line \u001b[0;32m1\u001b[0m\n\u001b[0;31m    $name = \"kshitiz\"\u001b[0m\n\u001b[0m    ^\u001b[0m\n\u001b[0;31mSyntaxError\u001b[0m\u001b[0;31m:\u001b[0m invalid syntax\n"
     ]
    }
   ],
   "source": [
    "$name = \"kshitiz\""
   ]
  },
  {
   "cell_type": "code",
   "execution_count": 10,
   "id": "2ae554d0",
   "metadata": {},
   "outputs": [
    {
     "ename": "SyntaxError",
     "evalue": "cannot assign to operator (2018239585.py, line 1)",
     "output_type": "error",
     "traceback": [
      "\u001b[0;36m  File \u001b[0;32m\"/tmp/ipykernel_10276/2018239585.py\"\u001b[0;36m, line \u001b[0;32m1\u001b[0m\n\u001b[0;31m    first-name = \"kshitiz\"\u001b[0m\n\u001b[0m    ^\u001b[0m\n\u001b[0;31mSyntaxError\u001b[0m\u001b[0;31m:\u001b[0m cannot assign to operator\n"
     ]
    }
   ],
   "source": [
    "first-name = \"kshitiz\""
   ]
  },
  {
   "cell_type": "code",
   "execution_count": 11,
   "id": "7e50af6d",
   "metadata": {},
   "outputs": [
    {
     "ename": "SyntaxError",
     "evalue": "invalid syntax (3708315065.py, line 1)",
     "output_type": "error",
     "traceback": [
      "\u001b[0;36m  File \u001b[0;32m\"/tmp/ipykernel_10276/3708315065.py\"\u001b[0;36m, line \u001b[0;32m1\u001b[0m\n\u001b[0;31m    first name = \"kshitiz\"\u001b[0m\n\u001b[0m          ^\u001b[0m\n\u001b[0;31mSyntaxError\u001b[0m\u001b[0;31m:\u001b[0m invalid syntax\n"
     ]
    }
   ],
   "source": [
    "first name = \"kshitiz\""
   ]
  },
  {
   "cell_type": "code",
   "execution_count": 12,
   "id": "3a27cbfa",
   "metadata": {},
   "outputs": [],
   "source": [
    "first_name = 'kshitiz' # underscores are allowed"
   ]
  },
  {
   "cell_type": "code",
   "execution_count": 13,
   "id": "af478cf9",
   "metadata": {},
   "outputs": [
    {
     "ename": "SyntaxError",
     "evalue": "invalid syntax (1586217565.py, line 1)",
     "output_type": "error",
     "traceback": [
      "\u001b[0;36m  File \u001b[0;32m\"/tmp/ipykernel_10276/1586217565.py\"\u001b[0;36m, line \u001b[0;32m1\u001b[0m\n\u001b[0;31m    9name = 'Khsiitz' # number agadi aaudaina\u001b[0m\n\u001b[0m     ^\u001b[0m\n\u001b[0;31mSyntaxError\u001b[0m\u001b[0;31m:\u001b[0m invalid syntax\n"
     ]
    }
   ],
   "source": [
    "9name = 'Khsiitz' # number agadi aaudaina"
   ]
  },
  {
   "cell_type": "code",
   "execution_count": 14,
   "id": "ebc752e3",
   "metadata": {},
   "outputs": [],
   "source": [
    "name9 = 'Kshitiz' # numbers can follow alphabets"
   ]
  },
  {
   "cell_type": "code",
   "execution_count": 15,
   "id": "c4fadb4d",
   "metadata": {},
   "outputs": [],
   "source": [
    "FirstName = 'ram' # uppercase and lower case combination are allowed"
   ]
  },
  {
   "cell_type": "markdown",
   "id": "0a36a7a8",
   "metadata": {},
   "source": [
    "# Python is case sensative language"
   ]
  },
  {
   "cell_type": "code",
   "execution_count": 20,
   "id": "e7bfd344",
   "metadata": {},
   "outputs": [],
   "source": [
    "a = 55\n",
    "A = 11"
   ]
  },
  {
   "cell_type": "code",
   "execution_count": 21,
   "id": "dbb62a75",
   "metadata": {},
   "outputs": [
    {
     "data": {
      "text/plain": [
       "55"
      ]
     },
     "execution_count": 21,
     "metadata": {},
     "output_type": "execute_result"
    }
   ],
   "source": [
    "a"
   ]
  },
  {
   "cell_type": "code",
   "execution_count": 22,
   "id": "140500f3",
   "metadata": {},
   "outputs": [
    {
     "data": {
      "text/plain": [
       "11"
      ]
     },
     "execution_count": 22,
     "metadata": {},
     "output_type": "execute_result"
    }
   ],
   "source": [
    "A"
   ]
  },
  {
   "cell_type": "code",
   "execution_count": 23,
   "id": "d8f2d9a5",
   "metadata": {},
   "outputs": [
    {
     "name": "stdout",
     "output_type": "stream",
     "text": [
      "The value of a is 55\n"
     ]
    }
   ],
   "source": [
    "print(f\"The value of a is {a}\")"
   ]
  },
  {
   "cell_type": "code",
   "execution_count": 24,
   "id": "d231a342",
   "metadata": {},
   "outputs": [
    {
     "name": "stdout",
     "output_type": "stream",
     "text": [
      "The value of A is 11\n"
     ]
    }
   ],
   "source": [
    "print(f\"The value of A is {A}\")"
   ]
  },
  {
   "cell_type": "code",
   "execution_count": 25,
   "id": "62e8d558",
   "metadata": {},
   "outputs": [
    {
     "name": "stdout",
     "output_type": "stream",
     "text": [
      "The value of a is 55\n"
     ]
    }
   ],
   "source": [
    "print(\"The value of a is {}\".format(a))"
   ]
  },
  {
   "cell_type": "code",
   "execution_count": null,
   "id": "2c252ca9",
   "metadata": {},
   "outputs": [],
   "source": []
  }
 ],
 "metadata": {
  "kernelspec": {
   "display_name": "Python 3 (ipykernel)",
   "language": "python",
   "name": "python3"
  },
  "language_info": {
   "codemirror_mode": {
    "name": "ipython",
    "version": 3
   },
   "file_extension": ".py",
   "mimetype": "text/x-python",
   "name": "python",
   "nbconvert_exporter": "python",
   "pygments_lexer": "ipython3",
   "version": "3.9.13"
  }
 },
 "nbformat": 4,
 "nbformat_minor": 5
}
