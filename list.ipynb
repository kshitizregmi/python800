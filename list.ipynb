{
 "cells": [
  {
   "cell_type": "code",
   "execution_count": 9,
   "id": "d7747d1f",
   "metadata": {},
   "outputs": [],
   "source": [
    "fruits = [\"apple\", \"banana\", \"mango\", \"orange\", \"pear\"]"
   ]
  },
  {
   "cell_type": "code",
   "execution_count": 10,
   "id": "37129d5e",
   "metadata": {},
   "outputs": [],
   "source": [
    "# python list are mutable"
   ]
  },
  {
   "cell_type": "code",
   "execution_count": 11,
   "id": "6282fdbc",
   "metadata": {},
   "outputs": [],
   "source": [
    "fruits[1] = \"Papaya\""
   ]
  },
  {
   "cell_type": "code",
   "execution_count": 12,
   "id": "2c391a16",
   "metadata": {},
   "outputs": [
    {
     "data": {
      "text/plain": [
       "['apple', 'Papaya', 'mango', 'orange', 'pear']"
      ]
     },
     "execution_count": 12,
     "metadata": {},
     "output_type": "execute_result"
    }
   ],
   "source": [
    "fruits"
   ]
  },
  {
   "cell_type": "code",
   "execution_count": 13,
   "id": "89698eb7",
   "metadata": {},
   "outputs": [
    {
     "data": {
      "text/plain": [
       "['mango', 'orange']"
      ]
     },
     "execution_count": 13,
     "metadata": {},
     "output_type": "execute_result"
    }
   ],
   "source": [
    "fruits[2:4]"
   ]
  },
  {
   "cell_type": "code",
   "execution_count": 14,
   "id": "9dcad6bc",
   "metadata": {},
   "outputs": [],
   "source": [
    "fruits[2:4] = ['Kiwi', 'Avocado']"
   ]
  },
  {
   "cell_type": "code",
   "execution_count": 15,
   "id": "1c7d2c6e",
   "metadata": {},
   "outputs": [
    {
     "data": {
      "text/plain": [
       "['apple', 'Papaya', 'Kiwi', 'Avocado', 'pear']"
      ]
     },
     "execution_count": 15,
     "metadata": {},
     "output_type": "execute_result"
    }
   ],
   "source": [
    "fruits"
   ]
  },
  {
   "cell_type": "markdown",
   "id": "60049fb3",
   "metadata": {},
   "source": [
    "# .insert() method in python list"
   ]
  },
  {
   "cell_type": "code",
   "execution_count": 20,
   "id": "4ad9b86d",
   "metadata": {},
   "outputs": [
    {
     "data": {
      "text/plain": [
       "'banana'"
      ]
     },
     "execution_count": 20,
     "metadata": {},
     "output_type": "execute_result"
    }
   ],
   "source": [
    "fruits = [\"apple\", \"banana\", \"mango\", \"orange\", \"pear\"]\n",
    "fruits[1]"
   ]
  },
  {
   "cell_type": "code",
   "execution_count": 21,
   "id": "bb78aa71",
   "metadata": {},
   "outputs": [],
   "source": [
    "fruits.insert(1, \"Kiwi\")"
   ]
  },
  {
   "cell_type": "code",
   "execution_count": 22,
   "id": "7779c28d",
   "metadata": {},
   "outputs": [
    {
     "data": {
      "text/plain": [
       "['apple', 'Kiwi', 'banana', 'mango', 'orange', 'pear']"
      ]
     },
     "execution_count": 22,
     "metadata": {},
     "output_type": "execute_result"
    }
   ],
   "source": [
    "fruits"
   ]
  },
  {
   "cell_type": "code",
   "execution_count": 23,
   "id": "c2261a44",
   "metadata": {},
   "outputs": [
    {
     "data": {
      "text/plain": [
       "'Kiwi'"
      ]
     },
     "execution_count": 23,
     "metadata": {},
     "output_type": "execute_result"
    }
   ],
   "source": [
    "fruits[1]"
   ]
  },
  {
   "cell_type": "markdown",
   "id": "1bd1a24c",
   "metadata": {},
   "source": [
    "# .append() method in python "
   ]
  },
  {
   "cell_type": "code",
   "execution_count": 24,
   "id": "92e37998",
   "metadata": {},
   "outputs": [],
   "source": [
    "car = []"
   ]
  },
  {
   "cell_type": "code",
   "execution_count": 25,
   "id": "f577cbc5",
   "metadata": {},
   "outputs": [
    {
     "data": {
      "text/plain": [
       "[]"
      ]
     },
     "execution_count": 25,
     "metadata": {},
     "output_type": "execute_result"
    }
   ],
   "source": [
    "car"
   ]
  },
  {
   "cell_type": "code",
   "execution_count": 26,
   "id": "8810abca",
   "metadata": {},
   "outputs": [],
   "source": [
    "car.append(\"Tesla\")"
   ]
  },
  {
   "cell_type": "code",
   "execution_count": 27,
   "id": "15757925",
   "metadata": {},
   "outputs": [
    {
     "data": {
      "text/plain": [
       "['Tesla']"
      ]
     },
     "execution_count": 27,
     "metadata": {},
     "output_type": "execute_result"
    }
   ],
   "source": [
    "car"
   ]
  },
  {
   "cell_type": "code",
   "execution_count": 28,
   "id": "9d1f5abc",
   "metadata": {},
   "outputs": [],
   "source": [
    "car.append(\"BMW\")"
   ]
  },
  {
   "cell_type": "code",
   "execution_count": 29,
   "id": "acffcad1",
   "metadata": {},
   "outputs": [
    {
     "data": {
      "text/plain": [
       "['Tesla', 'BMW']"
      ]
     },
     "execution_count": 29,
     "metadata": {},
     "output_type": "execute_result"
    }
   ],
   "source": [
    "car"
   ]
  },
  {
   "cell_type": "code",
   "execution_count": 30,
   "id": "f812e7a8",
   "metadata": {},
   "outputs": [
    {
     "data": {
      "text/plain": [
       "[4, 5, 88]"
      ]
     },
     "execution_count": 30,
     "metadata": {},
     "output_type": "execute_result"
    }
   ],
   "source": [
    "num = [4,5]\n",
    "num.append(88)\n",
    "num"
   ]
  },
  {
   "cell_type": "code",
   "execution_count": 31,
   "id": "2c216f0b",
   "metadata": {},
   "outputs": [],
   "source": [
    "num.append([44,55])"
   ]
  },
  {
   "cell_type": "code",
   "execution_count": 32,
   "id": "7c02e2d1",
   "metadata": {},
   "outputs": [
    {
     "data": {
      "text/plain": [
       "[4, 5, 88, [44, 55]]"
      ]
     },
     "execution_count": 32,
     "metadata": {},
     "output_type": "execute_result"
    }
   ],
   "source": [
    "num"
   ]
  },
  {
   "cell_type": "code",
   "execution_count": 33,
   "id": "e9e38808",
   "metadata": {},
   "outputs": [
    {
     "data": {
      "text/plain": [
       "[44, 55]"
      ]
     },
     "execution_count": 33,
     "metadata": {},
     "output_type": "execute_result"
    }
   ],
   "source": [
    "num[3]"
   ]
  },
  {
   "cell_type": "code",
   "execution_count": 34,
   "id": "584dfb77",
   "metadata": {},
   "outputs": [
    {
     "data": {
      "text/plain": [
       "44"
      ]
     },
     "execution_count": 34,
     "metadata": {},
     "output_type": "execute_result"
    }
   ],
   "source": [
    "num[3][0]"
   ]
  },
  {
   "cell_type": "markdown",
   "id": "fe14593d",
   "metadata": {},
   "source": [
    "# list of list"
   ]
  },
  {
   "cell_type": "code",
   "execution_count": 35,
   "id": "bd55625b",
   "metadata": {},
   "outputs": [],
   "source": [
    "num = [[2,3], [1,6,7,2], [0], [8,77,6,8,7,6]]"
   ]
  },
  {
   "cell_type": "code",
   "execution_count": 36,
   "id": "669ce74c",
   "metadata": {},
   "outputs": [
    {
     "data": {
      "text/plain": [
       "[[2, 3], [1, 6, 7, 2], [0], [8, 77, 6, 8, 7, 6]]"
      ]
     },
     "execution_count": 36,
     "metadata": {},
     "output_type": "execute_result"
    }
   ],
   "source": [
    "num"
   ]
  },
  {
   "cell_type": "code",
   "execution_count": 37,
   "id": "ecf7211f",
   "metadata": {},
   "outputs": [
    {
     "data": {
      "text/plain": [
       "[2, 3]"
      ]
     },
     "execution_count": 37,
     "metadata": {},
     "output_type": "execute_result"
    }
   ],
   "source": [
    "num[0]"
   ]
  },
  {
   "cell_type": "code",
   "execution_count": 38,
   "id": "14d25652",
   "metadata": {},
   "outputs": [
    {
     "data": {
      "text/plain": [
       "[8, 77, 6, 8, 7, 6]"
      ]
     },
     "execution_count": 38,
     "metadata": {},
     "output_type": "execute_result"
    }
   ],
   "source": [
    "num[-1]"
   ]
  },
  {
   "cell_type": "markdown",
   "id": "5139e3a3",
   "metadata": {},
   "source": [
    "# extend() method"
   ]
  },
  {
   "cell_type": "code",
   "execution_count": 43,
   "id": "26bab36c",
   "metadata": {},
   "outputs": [],
   "source": [
    "x = [1,3,55,73]\n",
    "y = [2,4,6,11]"
   ]
  },
  {
   "cell_type": "code",
   "execution_count": 48,
   "id": "905e8154",
   "metadata": {},
   "outputs": [],
   "source": [
    "# x + y # concat list using + operator"
   ]
  },
  {
   "cell_type": "code",
   "execution_count": 45,
   "id": "e38bf703",
   "metadata": {},
   "outputs": [],
   "source": [
    "x.extend(y)"
   ]
  },
  {
   "cell_type": "code",
   "execution_count": 46,
   "id": "235301d5",
   "metadata": {},
   "outputs": [
    {
     "data": {
      "text/plain": [
       "[1, 3, 55, 73, 2, 4, 6, 11]"
      ]
     },
     "execution_count": 46,
     "metadata": {},
     "output_type": "execute_result"
    }
   ],
   "source": [
    "x"
   ]
  },
  {
   "cell_type": "code",
   "execution_count": 47,
   "id": "4f835a0c",
   "metadata": {},
   "outputs": [
    {
     "data": {
      "text/plain": [
       "[2, 4, 6, 11]"
      ]
     },
     "execution_count": 47,
     "metadata": {},
     "output_type": "execute_result"
    }
   ],
   "source": [
    "y"
   ]
  },
  {
   "cell_type": "code",
   "execution_count": 49,
   "id": "c223ac84",
   "metadata": {},
   "outputs": [],
   "source": [
    "x = [1,3,55,73]\n",
    "y = [2,4,6,11]\n",
    "y.extend(x)"
   ]
  },
  {
   "cell_type": "code",
   "execution_count": 50,
   "id": "6c14bfd1",
   "metadata": {},
   "outputs": [
    {
     "data": {
      "text/plain": [
       "[1, 3, 55, 73]"
      ]
     },
     "execution_count": 50,
     "metadata": {},
     "output_type": "execute_result"
    }
   ],
   "source": [
    "x"
   ]
  },
  {
   "cell_type": "code",
   "execution_count": 51,
   "id": "047b090b",
   "metadata": {},
   "outputs": [
    {
     "data": {
      "text/plain": [
       "[2, 4, 6, 11, 1, 3, 55, 73]"
      ]
     },
     "execution_count": 51,
     "metadata": {},
     "output_type": "execute_result"
    }
   ],
   "source": [
    "y"
   ]
  },
  {
   "cell_type": "markdown",
   "id": "686de068",
   "metadata": {},
   "source": [
    "# remove() method"
   ]
  },
  {
   "cell_type": "code",
   "execution_count": 56,
   "id": "9427f150",
   "metadata": {},
   "outputs": [],
   "source": [
    "car = ['Tesla', 'BMW', 'Tesla', 'Mercedes', 'BMW']"
   ]
  },
  {
   "cell_type": "code",
   "execution_count": 57,
   "id": "d5e617ac",
   "metadata": {},
   "outputs": [],
   "source": [
    "car.remove(\"BMW\") # remove first occurance of item"
   ]
  },
  {
   "cell_type": "code",
   "execution_count": 58,
   "id": "2b663466",
   "metadata": {},
   "outputs": [
    {
     "data": {
      "text/plain": [
       "['Tesla', 'Tesla', 'Mercedes', 'BMW']"
      ]
     },
     "execution_count": 58,
     "metadata": {},
     "output_type": "execute_result"
    }
   ],
   "source": [
    "car"
   ]
  },
  {
   "cell_type": "markdown",
   "id": "d7bccaf5",
   "metadata": {},
   "source": [
    "# .pop() method in python list"
   ]
  },
  {
   "cell_type": "code",
   "execution_count": 59,
   "id": "cca67344",
   "metadata": {},
   "outputs": [],
   "source": [
    "car = ['Tesla', 'BMW', 'Tesla', 'Mercedes', 'BMW']"
   ]
  },
  {
   "cell_type": "code",
   "execution_count": 60,
   "id": "1cd0bcfa",
   "metadata": {},
   "outputs": [
    {
     "data": {
      "text/plain": [
       "'BMW'"
      ]
     },
     "execution_count": 60,
     "metadata": {},
     "output_type": "execute_result"
    }
   ],
   "source": [
    "car.pop()"
   ]
  },
  {
   "cell_type": "code",
   "execution_count": 61,
   "id": "9577ff37",
   "metadata": {},
   "outputs": [
    {
     "data": {
      "text/plain": [
       "['Tesla', 'BMW', 'Tesla', 'Mercedes']"
      ]
     },
     "execution_count": 61,
     "metadata": {},
     "output_type": "execute_result"
    }
   ],
   "source": [
    "car"
   ]
  },
  {
   "cell_type": "code",
   "execution_count": 62,
   "id": "8e72cc8c",
   "metadata": {},
   "outputs": [
    {
     "data": {
      "text/plain": [
       "'Mercedes'"
      ]
     },
     "execution_count": 62,
     "metadata": {},
     "output_type": "execute_result"
    }
   ],
   "source": [
    "car.pop()"
   ]
  },
  {
   "cell_type": "code",
   "execution_count": 63,
   "id": "3a027d92",
   "metadata": {},
   "outputs": [
    {
     "data": {
      "text/plain": [
       "['Tesla', 'BMW', 'Tesla']"
      ]
     },
     "execution_count": 63,
     "metadata": {},
     "output_type": "execute_result"
    }
   ],
   "source": [
    "car"
   ]
  },
  {
   "cell_type": "code",
   "execution_count": 64,
   "id": "f8185860",
   "metadata": {},
   "outputs": [],
   "source": [
    "car = ['Tesla', 'BMW', 'Tesla', 'Mercedes', 'BMW']"
   ]
  },
  {
   "cell_type": "code",
   "execution_count": 65,
   "id": "d81cdfba",
   "metadata": {},
   "outputs": [
    {
     "data": {
      "text/plain": [
       "'BMW'"
      ]
     },
     "execution_count": 65,
     "metadata": {},
     "output_type": "execute_result"
    }
   ],
   "source": [
    "car.pop(1) # pop using index"
   ]
  },
  {
   "cell_type": "code",
   "execution_count": 68,
   "id": "9ca45d0d",
   "metadata": {},
   "outputs": [
    {
     "data": {
      "text/plain": [
       "['Tesla', 'Tesla', 'Mercedes', 'BMW']"
      ]
     },
     "execution_count": 68,
     "metadata": {},
     "output_type": "execute_result"
    }
   ],
   "source": [
    "car"
   ]
  },
  {
   "cell_type": "markdown",
   "id": "ed34ed00",
   "metadata": {},
   "source": [
    "# python list as stack and queue\n",
    "\n",
    "\n",
    "* stack : LIFO\n",
    "    * operation in stack : push and pop , In python push is done by append() and pop is done by pop() method\n",
    "    \n",
    "* Queue : FIFO\n",
    "    * operation enqueue and dequeue : In python enqueue append() and dequeue pop(0)"
   ]
  },
  {
   "cell_type": "markdown",
   "id": "4b5a9ac8",
   "metadata": {},
   "source": [
    "# Sorting of list — sort() method"
   ]
  },
  {
   "cell_type": "code",
   "execution_count": 69,
   "id": "88d35dfe",
   "metadata": {},
   "outputs": [],
   "source": [
    "x = [99, -9, 5, 22, 1,0, 7]"
   ]
  },
  {
   "cell_type": "code",
   "execution_count": 70,
   "id": "388398cc",
   "metadata": {},
   "outputs": [],
   "source": [
    "x.sort() # ascending"
   ]
  },
  {
   "cell_type": "code",
   "execution_count": 71,
   "id": "84c57da4",
   "metadata": {},
   "outputs": [
    {
     "data": {
      "text/plain": [
       "[-9, 0, 1, 5, 7, 22, 99]"
      ]
     },
     "execution_count": 71,
     "metadata": {},
     "output_type": "execute_result"
    }
   ],
   "source": [
    "x"
   ]
  },
  {
   "cell_type": "code",
   "execution_count": 72,
   "id": "6b821e74",
   "metadata": {},
   "outputs": [
    {
     "data": {
      "text/plain": [
       "[99, 22, 7, 5, 1, 0, -9]"
      ]
     },
     "execution_count": 72,
     "metadata": {},
     "output_type": "execute_result"
    }
   ],
   "source": [
    "x = [99, -9, 5, 22, 1,0, 7]\n",
    "x.sort(reverse = True) # descending\n",
    "x"
   ]
  },
  {
   "cell_type": "code",
   "execution_count": 73,
   "id": "41f214b5",
   "metadata": {},
   "outputs": [],
   "source": [
    "# builtin python method"
   ]
  },
  {
   "cell_type": "code",
   "execution_count": 74,
   "id": "6dd005bc",
   "metadata": {},
   "outputs": [
    {
     "data": {
      "text/plain": [
       "[-9, 0, 1, 5, 7, 22, 99]"
      ]
     },
     "execution_count": 74,
     "metadata": {},
     "output_type": "execute_result"
    }
   ],
   "source": [
    "x = [99, -9, 5, 22, 1,0, 7]\n",
    "sorted(x)"
   ]
  },
  {
   "cell_type": "code",
   "execution_count": 75,
   "id": "bda4ca27",
   "metadata": {},
   "outputs": [
    {
     "data": {
      "text/plain": [
       "[99, 22, 7, 5, 1, 0, -9]"
      ]
     },
     "execution_count": 75,
     "metadata": {},
     "output_type": "execute_result"
    }
   ],
   "source": [
    "sorted(x, reverse = True)"
   ]
  },
  {
   "cell_type": "code",
   "execution_count": null,
   "id": "f3ee51e0",
   "metadata": {},
   "outputs": [],
   "source": []
  },
  {
   "cell_type": "code",
   "execution_count": 77,
   "id": "efcfc8e2",
   "metadata": {},
   "outputs": [],
   "source": [
    "car = ['mercedes', 'bmw', 'tesla']"
   ]
  },
  {
   "cell_type": "code",
   "execution_count": 79,
   "id": "b95ff507",
   "metadata": {},
   "outputs": [],
   "source": [
    "car.sort()"
   ]
  },
  {
   "cell_type": "code",
   "execution_count": 80,
   "id": "2b4ed855",
   "metadata": {},
   "outputs": [
    {
     "data": {
      "text/plain": [
       "['bmw', 'mercedes', 'tesla']"
      ]
     },
     "execution_count": 80,
     "metadata": {},
     "output_type": "execute_result"
    }
   ],
   "source": [
    "car"
   ]
  },
  {
   "cell_type": "code",
   "execution_count": null,
   "id": "5410d861",
   "metadata": {},
   "outputs": [],
   "source": []
  }
 ],
 "metadata": {
  "kernelspec": {
   "display_name": "Python (reco)",
   "language": "python",
   "name": "my_environment_name"
  },
  "language_info": {
   "codemirror_mode": {
    "name": "ipython",
    "version": 3
   },
   "file_extension": ".py",
   "mimetype": "text/x-python",
   "name": "python",
   "nbconvert_exporter": "python",
   "pygments_lexer": "ipython3",
   "version": "3.9.13"
  }
 },
 "nbformat": 4,
 "nbformat_minor": 5
}
