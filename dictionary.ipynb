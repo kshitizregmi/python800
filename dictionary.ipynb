{
 "cells": [
  {
   "cell_type": "markdown",
   "id": "79684465",
   "metadata": {},
   "source": [
    "# dictionary:\n",
    "\n",
    "Syntax:\n",
    "\n",
    "\n",
    "```python\n",
    "{\n",
    "    key: value\n",
    "}\n",
    "```"
   ]
  },
  {
   "cell_type": "code",
   "execution_count": 3,
   "id": "3335f330",
   "metadata": {},
   "outputs": [],
   "source": [
    "d = {} # empty dictionary"
   ]
  },
  {
   "cell_type": "code",
   "execution_count": 4,
   "id": "fc7843e0",
   "metadata": {},
   "outputs": [
    {
     "data": {
      "text/plain": [
       "dict"
      ]
     },
     "execution_count": 4,
     "metadata": {},
     "output_type": "execute_result"
    }
   ],
   "source": [
    "type(d)"
   ]
  },
  {
   "cell_type": "code",
   "execution_count": 5,
   "id": "2df19d17",
   "metadata": {},
   "outputs": [],
   "source": [
    "d = dict() # empty dictionary"
   ]
  },
  {
   "cell_type": "code",
   "execution_count": 6,
   "id": "4b129405",
   "metadata": {},
   "outputs": [
    {
     "data": {
      "text/plain": [
       "dict"
      ]
     },
     "execution_count": 6,
     "metadata": {},
     "output_type": "execute_result"
    }
   ],
   "source": [
    "type(d)"
   ]
  },
  {
   "cell_type": "code",
   "execution_count": 7,
   "id": "71be60f3",
   "metadata": {},
   "outputs": [
    {
     "data": {
      "text/plain": [
       "{1.2: 'one point two'}"
      ]
     },
     "execution_count": 7,
     "metadata": {},
     "output_type": "execute_result"
    }
   ],
   "source": [
    "{\n",
    "    1.2: \"one point two\"\n",
    "}"
   ]
  },
  {
   "cell_type": "code",
   "execution_count": 8,
   "id": "748dae32",
   "metadata": {
    "scrolled": true
   },
   "outputs": [
    {
     "ename": "TypeError",
     "evalue": "unhashable type: 'list'",
     "output_type": "error",
     "traceback": [
      "\u001b[0;31m---------------------------------------------------------------------------\u001b[0m",
      "\u001b[0;31mTypeError\u001b[0m                                 Traceback (most recent call last)",
      "\u001b[0;32m/tmp/ipykernel_9091/506953704.py\u001b[0m in \u001b[0;36m<module>\u001b[0;34m\u001b[0m\n\u001b[0;32m----> 1\u001b[0;31m {\n\u001b[0m\u001b[1;32m      2\u001b[0m     \u001b[0;34m[\u001b[0m\u001b[0;36m1\u001b[0m\u001b[0;34m,\u001b[0m\u001b[0;36m2\u001b[0m\u001b[0;34m]\u001b[0m\u001b[0;34m:\u001b[0m \u001b[0;36m40\u001b[0m\u001b[0;34m\u001b[0m\u001b[0;34m\u001b[0m\u001b[0m\n\u001b[1;32m      3\u001b[0m }\n",
      "\u001b[0;31mTypeError\u001b[0m: unhashable type: 'list'"
     ]
    }
   ],
   "source": [
    "# list tuple set are not allowed as keys\n",
    "\n",
    "{\n",
    "    [1,2]: 40\n",
    "} "
   ]
  },
  {
   "cell_type": "code",
   "execution_count": 9,
   "id": "384a9ffe",
   "metadata": {},
   "outputs": [
    {
     "data": {
      "text/plain": [
       "{'name': 'Kshitiz', 'age': 25}"
      ]
     },
     "execution_count": 9,
     "metadata": {},
     "output_type": "execute_result"
    }
   ],
   "source": [
    "# dictionary with keys name and age, and values kshitiz and 25\n",
    "{\n",
    "    'name': 'Kshitiz',\n",
    "    'age': 25\n",
    "}"
   ]
  },
  {
   "cell_type": "markdown",
   "id": "564d0a33",
   "metadata": {},
   "source": [
    "# Accessing dictionary items and add key value pair in  dictionary"
   ]
  },
  {
   "cell_type": "code",
   "execution_count": 10,
   "id": "1c123fe2",
   "metadata": {},
   "outputs": [],
   "source": [
    "info = dict()"
   ]
  },
  {
   "cell_type": "code",
   "execution_count": 11,
   "id": "2f8f76f3",
   "metadata": {},
   "outputs": [
    {
     "data": {
      "text/plain": [
       "{}"
      ]
     },
     "execution_count": 11,
     "metadata": {},
     "output_type": "execute_result"
    }
   ],
   "source": [
    "info"
   ]
  },
  {
   "cell_type": "code",
   "execution_count": 15,
   "id": "7a560a5d",
   "metadata": {},
   "outputs": [],
   "source": [
    "info['name'] = 'kshitiz Regmi' # add key value pair on dictionary"
   ]
  },
  {
   "cell_type": "code",
   "execution_count": 16,
   "id": "a16f56b4",
   "metadata": {},
   "outputs": [
    {
     "data": {
      "text/plain": [
       "{'name': 'kshitiz Regmi'}"
      ]
     },
     "execution_count": 16,
     "metadata": {},
     "output_type": "execute_result"
    }
   ],
   "source": [
    "info"
   ]
  },
  {
   "cell_type": "code",
   "execution_count": 17,
   "id": "4f3da460",
   "metadata": {},
   "outputs": [],
   "source": [
    "info.update({'teaches': ['Python', \"Data Science\", \"ML\", 'AI', 'Deep learning']})"
   ]
  },
  {
   "cell_type": "code",
   "execution_count": 18,
   "id": "c5bc049a",
   "metadata": {},
   "outputs": [
    {
     "data": {
      "text/plain": [
       "{'name': 'kshitiz Regmi',\n",
       " 'teaches': ['Python', 'Data Science', 'ML', 'AI', 'Deep learning']}"
      ]
     },
     "execution_count": 18,
     "metadata": {},
     "output_type": "execute_result"
    }
   ],
   "source": [
    "info"
   ]
  },
  {
   "cell_type": "code",
   "execution_count": 19,
   "id": "5b4c32a4",
   "metadata": {},
   "outputs": [
    {
     "data": {
      "text/plain": [
       "['Python', 'Data Science', 'ML', 'AI', 'Deep learning']"
      ]
     },
     "execution_count": 19,
     "metadata": {},
     "output_type": "execute_result"
    }
   ],
   "source": [
    "info['teaches']"
   ]
  },
  {
   "cell_type": "code",
   "execution_count": 20,
   "id": "3f225b93",
   "metadata": {},
   "outputs": [],
   "source": [
    "info.update({'name': \"KSHITIZ REGMI\"}) # if key exist update the value"
   ]
  },
  {
   "cell_type": "code",
   "execution_count": 21,
   "id": "fabad557",
   "metadata": {},
   "outputs": [
    {
     "data": {
      "text/plain": [
       "{'name': 'KSHITIZ REGMI',\n",
       " 'teaches': ['Python', 'Data Science', 'ML', 'AI', 'Deep learning']}"
      ]
     },
     "execution_count": 21,
     "metadata": {},
     "output_type": "execute_result"
    }
   ],
   "source": [
    "info"
   ]
  },
  {
   "cell_type": "code",
   "execution_count": 23,
   "id": "8dcdde7a",
   "metadata": {},
   "outputs": [
    {
     "data": {
      "text/plain": [
       "['Python', 'Data Science', 'ML', 'AI', 'Deep learning']"
      ]
     },
     "execution_count": 23,
     "metadata": {},
     "output_type": "execute_result"
    }
   ],
   "source": [
    "info['teaches'] # access the values of key teaches"
   ]
  },
  {
   "cell_type": "code",
   "execution_count": 24,
   "id": "f58625f7",
   "metadata": {},
   "outputs": [
    {
     "data": {
      "text/plain": [
       "['Python', 'Data Science', 'ML', 'AI', 'Deep learning']"
      ]
     },
     "execution_count": 24,
     "metadata": {},
     "output_type": "execute_result"
    }
   ],
   "source": [
    "info.get('teaches') # access the values of key teaches"
   ]
  },
  {
   "cell_type": "code",
   "execution_count": 27,
   "id": "c3dbd30f",
   "metadata": {},
   "outputs": [],
   "source": [
    "broadway = {\n",
    "    'location': \"Tinkune\"\n",
    "}"
   ]
  },
  {
   "cell_type": "code",
   "execution_count": 28,
   "id": "9d103c92",
   "metadata": {},
   "outputs": [
    {
     "data": {
      "text/plain": [
       "{'location': 'Tinkune'}"
      ]
     },
     "execution_count": 28,
     "metadata": {},
     "output_type": "execute_result"
    }
   ],
   "source": [
    "broadway"
   ]
  },
  {
   "cell_type": "code",
   "execution_count": 29,
   "id": "f12b4836",
   "metadata": {},
   "outputs": [],
   "source": [
    "broadway.update({'class': 'Python'})"
   ]
  },
  {
   "cell_type": "code",
   "execution_count": 30,
   "id": "c551f348",
   "metadata": {},
   "outputs": [
    {
     "data": {
      "text/plain": [
       "{'location': 'Tinkune', 'class': 'Python'}"
      ]
     },
     "execution_count": 30,
     "metadata": {},
     "output_type": "execute_result"
    }
   ],
   "source": [
    "broadway"
   ]
  },
  {
   "cell_type": "code",
   "execution_count": 31,
   "id": "c00f0a5a",
   "metadata": {},
   "outputs": [
    {
     "data": {
      "text/plain": [
       "'Tinkune'"
      ]
     },
     "execution_count": 31,
     "metadata": {},
     "output_type": "execute_result"
    }
   ],
   "source": [
    "broadway.get('location')"
   ]
  },
  {
   "cell_type": "code",
   "execution_count": 32,
   "id": "22bcb01b",
   "metadata": {},
   "outputs": [
    {
     "data": {
      "text/plain": [
       "'Tinkune'"
      ]
     },
     "execution_count": 32,
     "metadata": {},
     "output_type": "execute_result"
    }
   ],
   "source": [
    "broadway['location']"
   ]
  },
  {
   "cell_type": "markdown",
   "id": "3cceaf92",
   "metadata": {},
   "source": [
    "# .keys() and .values() method in dictionary"
   ]
  },
  {
   "cell_type": "code",
   "execution_count": 40,
   "id": "896ab636",
   "metadata": {},
   "outputs": [],
   "source": [
    "country = {\n",
    "    'Nepal': \"Kathmandu\",\n",
    "    'India': \"New Delhi\",\n",
    "    'Bangladesh': \"Dhaka\",\n",
    "    'Bhutan': 'Thimpu'\n",
    "}"
   ]
  },
  {
   "cell_type": "code",
   "execution_count": 41,
   "id": "3ac8da33",
   "metadata": {},
   "outputs": [
    {
     "data": {
      "text/plain": [
       "dict_keys(['Nepal', 'India', 'Bangladesh', 'Bhutan'])"
      ]
     },
     "execution_count": 41,
     "metadata": {},
     "output_type": "execute_result"
    }
   ],
   "source": [
    "country.keys()"
   ]
  },
  {
   "cell_type": "code",
   "execution_count": 42,
   "id": "82b275da",
   "metadata": {},
   "outputs": [
    {
     "data": {
      "text/plain": [
       "dict_values(['Kathmandu', 'New Delhi', 'Dhaka', 'Thimpu'])"
      ]
     },
     "execution_count": 42,
     "metadata": {},
     "output_type": "execute_result"
    }
   ],
   "source": [
    "country.values()"
   ]
  },
  {
   "cell_type": "code",
   "execution_count": 43,
   "id": "5357c06b",
   "metadata": {},
   "outputs": [
    {
     "data": {
      "text/plain": [
       "dict_items([('Nepal', 'Kathmandu'), ('India', 'New Delhi'), ('Bangladesh', 'Dhaka'), ('Bhutan', 'Thimpu')])"
      ]
     },
     "execution_count": 43,
     "metadata": {},
     "output_type": "execute_result"
    }
   ],
   "source": [
    "country.items()"
   ]
  },
  {
   "cell_type": "code",
   "execution_count": 45,
   "id": "455155b2",
   "metadata": {},
   "outputs": [
    {
     "data": {
      "text/plain": [
       "[('Nepal', 'Kathmandu'),\n",
       " ('India', 'New Delhi'),\n",
       " ('Bangladesh', 'Dhaka'),\n",
       " ('Bhutan', 'Thimpu')]"
      ]
     },
     "execution_count": 45,
     "metadata": {},
     "output_type": "execute_result"
    }
   ],
   "source": [
    "list(country.items())"
   ]
  },
  {
   "cell_type": "code",
   "execution_count": 46,
   "id": "07f1974b",
   "metadata": {},
   "outputs": [
    {
     "data": {
      "text/plain": [
       "('Nepal', 'Kathmandu')"
      ]
     },
     "execution_count": 46,
     "metadata": {},
     "output_type": "execute_result"
    }
   ],
   "source": [
    "list(country.items())[0]"
   ]
  },
  {
   "cell_type": "markdown",
   "id": "6d46f1ab",
   "metadata": {},
   "source": [
    "# looping in dictionary"
   ]
  },
  {
   "cell_type": "code",
   "execution_count": 47,
   "id": "f58fb250",
   "metadata": {},
   "outputs": [],
   "source": [
    "country = {\n",
    "    'Nepal': \"Kathmandu\",\n",
    "    'India': \"New Delhi\",\n",
    "    'Bangladesh': \"Dhaka\",\n",
    "    'Bhutan': 'Thimpu'\n",
    "}"
   ]
  },
  {
   "cell_type": "code",
   "execution_count": 51,
   "id": "f82a5abe",
   "metadata": {},
   "outputs": [
    {
     "name": "stdout",
     "output_type": "stream",
     "text": [
      "Nepal Kathmandu\n",
      "India New Delhi\n",
      "Bangladesh Dhaka\n",
      "Bhutan Thimpu\n"
     ]
    }
   ],
   "source": [
    "for item in country:\n",
    "    print(item, country.get(item))"
   ]
  },
  {
   "cell_type": "code",
   "execution_count": 49,
   "id": "b72a5972",
   "metadata": {},
   "outputs": [
    {
     "name": "stdout",
     "output_type": "stream",
     "text": [
      "Counrty = Nepal and capital is Kathmandu\n",
      "Counrty = India and capital is New Delhi\n",
      "Counrty = Bangladesh and capital is Dhaka\n",
      "Counrty = Bhutan and capital is Thimpu\n"
     ]
    }
   ],
   "source": [
    "for cou, cap in country.items():\n",
    "    print(f\"Counrty = {cou} and capital is {cap}\")"
   ]
  },
  {
   "cell_type": "code",
   "execution_count": 53,
   "id": "918c61f7",
   "metadata": {},
   "outputs": [
    {
     "data": {
      "text/plain": [
       "(1, 5)"
      ]
     },
     "execution_count": 53,
     "metadata": {},
     "output_type": "execute_result"
    }
   ],
   "source": [
    "(1, 5)"
   ]
  },
  {
   "cell_type": "code",
   "execution_count": 54,
   "id": "c7e579b9",
   "metadata": {},
   "outputs": [],
   "source": [
    "a, b = (1, 5)"
   ]
  },
  {
   "cell_type": "code",
   "execution_count": 55,
   "id": "a84ac715",
   "metadata": {},
   "outputs": [
    {
     "data": {
      "text/plain": [
       "1"
      ]
     },
     "execution_count": 55,
     "metadata": {},
     "output_type": "execute_result"
    }
   ],
   "source": [
    "a"
   ]
  },
  {
   "cell_type": "code",
   "execution_count": 56,
   "id": "3cc4c2ec",
   "metadata": {},
   "outputs": [
    {
     "data": {
      "text/plain": [
       "5"
      ]
     },
     "execution_count": 56,
     "metadata": {},
     "output_type": "execute_result"
    }
   ],
   "source": [
    "b"
   ]
  },
  {
   "cell_type": "markdown",
   "id": "2f816509",
   "metadata": {},
   "source": [
    "# .pop()"
   ]
  },
  {
   "cell_type": "code",
   "execution_count": 57,
   "id": "40d8cd63",
   "metadata": {},
   "outputs": [],
   "source": [
    "country = {\n",
    "    'Nepal': \"Kathmandu\",\n",
    "    'India': \"New Delhi\",\n",
    "    'Bangladesh': \"Dhaka\",\n",
    "    'Bhutan': 'Thimpu'\n",
    "}"
   ]
  },
  {
   "cell_type": "code",
   "execution_count": 59,
   "id": "481e5f7a",
   "metadata": {},
   "outputs": [
    {
     "data": {
      "text/plain": [
       "'Thimpu'"
      ]
     },
     "execution_count": 59,
     "metadata": {},
     "output_type": "execute_result"
    }
   ],
   "source": [
    "country.pop(\"Bhutan\")"
   ]
  },
  {
   "cell_type": "code",
   "execution_count": 60,
   "id": "45821d2f",
   "metadata": {},
   "outputs": [
    {
     "data": {
      "text/plain": [
       "{'Nepal': 'Kathmandu', 'India': 'New Delhi', 'Bangladesh': 'Dhaka'}"
      ]
     },
     "execution_count": 60,
     "metadata": {},
     "output_type": "execute_result"
    }
   ],
   "source": [
    "country"
   ]
  },
  {
   "cell_type": "markdown",
   "id": "f0d54875",
   "metadata": {},
   "source": [
    "# dictionary comprehension"
   ]
  },
  {
   "cell_type": "code",
   "execution_count": 61,
   "id": "4c9af572",
   "metadata": {},
   "outputs": [],
   "source": [
    "data = {\"one\": 1, 'two': 2, 'three': 3}"
   ]
  },
  {
   "cell_type": "code",
   "execution_count": 62,
   "id": "32c3071e",
   "metadata": {},
   "outputs": [
    {
     "data": {
      "text/plain": [
       "{'one': 1, 'two': 2, 'three': 3}"
      ]
     },
     "execution_count": 62,
     "metadata": {},
     "output_type": "execute_result"
    }
   ],
   "source": [
    "data"
   ]
  },
  {
   "cell_type": "code",
   "execution_count": 65,
   "id": "035a6d68",
   "metadata": {},
   "outputs": [
    {
     "data": {
      "text/plain": [
       "{1: 'one', 2: 'two', 3: 'three'}"
      ]
     },
     "execution_count": 65,
     "metadata": {},
     "output_type": "execute_result"
    }
   ],
   "source": [
    "{val:key for key, val in data.items()}"
   ]
  },
  {
   "cell_type": "markdown",
   "id": "20ba066b",
   "metadata": {},
   "source": [
    "# nested dictionary"
   ]
  },
  {
   "cell_type": "code",
   "execution_count": 71,
   "id": "91a4aa4f",
   "metadata": {},
   "outputs": [],
   "source": [
    "child = {\n",
    "    'child1': {'name': 'Hari', 'age': 45, 'gender': 'M'},\n",
    "    'child2' : {'name': \"Ram\", 'student': True, 'age': 18, 'gender': 'M'}\n",
    "}"
   ]
  },
  {
   "cell_type": "code",
   "execution_count": 72,
   "id": "f4767588",
   "metadata": {},
   "outputs": [
    {
     "data": {
      "text/plain": [
       "{'child1': {'name': 'Hari', 'age': 45, 'gender': 'M'},\n",
       " 'child2': {'name': 'Ram', 'student': True, 'age': 18, 'gender': 'M'}}"
      ]
     },
     "execution_count": 72,
     "metadata": {},
     "output_type": "execute_result"
    }
   ],
   "source": [
    "child"
   ]
  },
  {
   "cell_type": "code",
   "execution_count": 73,
   "id": "33116239",
   "metadata": {},
   "outputs": [
    {
     "data": {
      "text/plain": [
       "{'name': 'Ram', 'student': True, 'age': 18, 'gender': 'M'}"
      ]
     },
     "execution_count": 73,
     "metadata": {},
     "output_type": "execute_result"
    }
   ],
   "source": [
    "child['child2']"
   ]
  },
  {
   "cell_type": "code",
   "execution_count": 74,
   "id": "6cce8b08",
   "metadata": {},
   "outputs": [
    {
     "data": {
      "text/plain": [
       "'Ram'"
      ]
     },
     "execution_count": 74,
     "metadata": {},
     "output_type": "execute_result"
    }
   ],
   "source": [
    "child['child2']['name']"
   ]
  },
  {
   "cell_type": "code",
   "execution_count": 75,
   "id": "f0ed342e",
   "metadata": {},
   "outputs": [
    {
     "data": {
      "text/plain": [
       "True"
      ]
     },
     "execution_count": 75,
     "metadata": {},
     "output_type": "execute_result"
    }
   ],
   "source": [
    "child['child2']['student']"
   ]
  },
  {
   "cell_type": "code",
   "execution_count": 76,
   "id": "cc404da1",
   "metadata": {},
   "outputs": [
    {
     "data": {
      "text/plain": [
       "True"
      ]
     },
     "execution_count": 76,
     "metadata": {},
     "output_type": "execute_result"
    }
   ],
   "source": [
    "child.get('child2').get('student')"
   ]
  },
  {
   "cell_type": "code",
   "execution_count": null,
   "id": "f051e506",
   "metadata": {},
   "outputs": [],
   "source": []
  }
 ],
 "metadata": {
  "kernelspec": {
   "display_name": "Python 3 (ipykernel)",
   "language": "python",
   "name": "python3"
  },
  "language_info": {
   "codemirror_mode": {
    "name": "ipython",
    "version": 3
   },
   "file_extension": ".py",
   "mimetype": "text/x-python",
   "name": "python",
   "nbconvert_exporter": "python",
   "pygments_lexer": "ipython3",
   "version": "3.9.13"
  }
 },
 "nbformat": 4,
 "nbformat_minor": 5
}
