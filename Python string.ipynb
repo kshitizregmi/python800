{
 "cells": [
  {
   "cell_type": "markdown",
   "id": "0687c2a1",
   "metadata": {},
   "source": [
    "# datalore.jetbrains.com"
   ]
  },
  {
   "cell_type": "markdown",
   "id": "a2596865",
   "metadata": {},
   "source": [
    "# Python strings"
   ]
  },
  {
   "cell_type": "code",
   "execution_count": 2,
   "id": "bd762d71",
   "metadata": {},
   "outputs": [
    {
     "name": "stdout",
     "output_type": "stream",
     "text": [
      "Enter your name : kshitiz\n"
     ]
    }
   ],
   "source": [
    "user_input = input(\"Enter your name : \")"
   ]
  },
  {
   "cell_type": "code",
   "execution_count": 3,
   "id": "b6988caa",
   "metadata": {},
   "outputs": [
    {
     "data": {
      "text/plain": [
       "str"
      ]
     },
     "execution_count": 3,
     "metadata": {},
     "output_type": "execute_result"
    }
   ],
   "source": [
    "type(user_input)"
   ]
  },
  {
   "cell_type": "code",
   "execution_count": 6,
   "id": "bf18f57a",
   "metadata": {},
   "outputs": [
    {
     "name": "stdout",
     "output_type": "stream",
     "text": [
      "<class 'str'>\n"
     ]
    }
   ],
   "source": [
    "print(type(user_input)) # object of str class"
   ]
  },
  {
   "cell_type": "code",
   "execution_count": 5,
   "id": "554773a2",
   "metadata": {},
   "outputs": [
    {
     "data": {
      "text/plain": [
       "'kshitiz'"
      ]
     },
     "execution_count": 5,
     "metadata": {},
     "output_type": "execute_result"
    }
   ],
   "source": [
    "user_input"
   ]
  },
  {
   "cell_type": "code",
   "execution_count": 11,
   "id": "26144cfd",
   "metadata": {},
   "outputs": [],
   "source": [
    "txt1 = \"Hi my name is kshitiz\"\n",
    "txt2 = 'Hi my name is kshitiz'"
   ]
  },
  {
   "cell_type": "code",
   "execution_count": 12,
   "id": "19851b37",
   "metadata": {},
   "outputs": [
    {
     "data": {
      "text/plain": [
       "True"
      ]
     },
     "execution_count": 12,
     "metadata": {},
     "output_type": "execute_result"
    }
   ],
   "source": [
    "txt1 == txt2"
   ]
  },
  {
   "cell_type": "code",
   "execution_count": 13,
   "id": "1cd8679d",
   "metadata": {},
   "outputs": [
    {
     "ename": "SyntaxError",
     "evalue": "invalid syntax (3554085947.py, line 2)",
     "output_type": "error",
     "traceback": [
      "\u001b[0;36m  File \u001b[0;32m\"/tmp/ipykernel_8206/3554085947.py\"\u001b[0;36m, line \u001b[0;32m2\u001b[0m\n\u001b[0;31m    msg = 'I don't like it'\u001b[0m\n\u001b[0m                 ^\u001b[0m\n\u001b[0;31mSyntaxError\u001b[0m\u001b[0;31m:\u001b[0m invalid syntax\n"
     ]
    }
   ],
   "source": [
    "# you cannot use single quote vitra single quote\n",
    "msg = 'I don't like it' "
   ]
  },
  {
   "cell_type": "code",
   "execution_count": 14,
   "id": "a25d929e",
   "metadata": {},
   "outputs": [],
   "source": [
    "msg = \"I don't like it.\""
   ]
  },
  {
   "cell_type": "code",
   "execution_count": 15,
   "id": "0def5cc7",
   "metadata": {},
   "outputs": [
    {
     "name": "stdout",
     "output_type": "stream",
     "text": [
      "I don't like it.\n"
     ]
    }
   ],
   "source": [
    "print(msg)"
   ]
  },
  {
   "cell_type": "code",
   "execution_count": 17,
   "id": "ac2c462e",
   "metadata": {},
   "outputs": [],
   "source": [
    "msg = 'He said, \"I like this.\"'"
   ]
  },
  {
   "cell_type": "markdown",
   "id": "b913a642",
   "metadata": {},
   "source": [
    "# Single Line and Multi line string"
   ]
  },
  {
   "cell_type": "code",
   "execution_count": 18,
   "id": "e66ad384",
   "metadata": {},
   "outputs": [
    {
     "ename": "SyntaxError",
     "evalue": "EOL while scanning string literal (3052983787.py, line 1)",
     "output_type": "error",
     "traceback": [
      "\u001b[0;36m  File \u001b[0;32m\"/tmp/ipykernel_8206/3052983787.py\"\u001b[0;36m, line \u001b[0;32m1\u001b[0m\n\u001b[0;31m    txt = \"Hi my\u001b[0m\n\u001b[0m                 ^\u001b[0m\n\u001b[0;31mSyntaxError\u001b[0m\u001b[0;31m:\u001b[0m EOL while scanning string literal\n"
     ]
    }
   ],
   "source": [
    "# you cannot use one quote or one double quote to write multi line string\n",
    "txt = \"Hi my \n",
    "name is \n",
    "kshitiz\n",
    "\""
   ]
  },
  {
   "cell_type": "markdown",
   "id": "40536353",
   "metadata": {},
   "source": [
    "# use triple quotes to write multi line string"
   ]
  },
  {
   "cell_type": "code",
   "execution_count": 38,
   "id": "f20ec1c2",
   "metadata": {},
   "outputs": [],
   "source": [
    "msg = \"\"\"Hi my\n",
    "name is kshitiz\n",
    "\"\"\""
   ]
  },
  {
   "cell_type": "code",
   "execution_count": 39,
   "id": "f3051d45",
   "metadata": {},
   "outputs": [
    {
     "data": {
      "text/plain": [
       "'Hi my\\nname is kshitiz\\n'"
      ]
     },
     "execution_count": 39,
     "metadata": {},
     "output_type": "execute_result"
    }
   ],
   "source": [
    "msg"
   ]
  },
  {
   "cell_type": "code",
   "execution_count": 40,
   "id": "805e79fc",
   "metadata": {},
   "outputs": [
    {
     "data": {
      "text/plain": [
       "str"
      ]
     },
     "execution_count": 40,
     "metadata": {},
     "output_type": "execute_result"
    }
   ],
   "source": [
    "type(msg)"
   ]
  },
  {
   "cell_type": "code",
   "execution_count": 21,
   "id": "60f2766e",
   "metadata": {},
   "outputs": [
    {
     "name": "stdout",
     "output_type": "stream",
     "text": [
      "Hi my\n",
      "name is kshitiz\n",
      "\n"
     ]
    }
   ],
   "source": [
    "print(msg)"
   ]
  },
  {
   "cell_type": "code",
   "execution_count": 33,
   "id": "45cfdc2e",
   "metadata": {},
   "outputs": [],
   "source": [
    "greet = '''Hello \n",
    "good morning.\n",
    "'''"
   ]
  },
  {
   "cell_type": "code",
   "execution_count": 34,
   "id": "c278d679",
   "metadata": {},
   "outputs": [
    {
     "data": {
      "text/plain": [
       "'Hello \\ngood morning.\\n'"
      ]
     },
     "execution_count": 34,
     "metadata": {},
     "output_type": "execute_result"
    }
   ],
   "source": [
    "greet"
   ]
  },
  {
   "cell_type": "markdown",
   "id": "56ce2690",
   "metadata": {},
   "source": [
    "# assert"
   ]
  },
  {
   "cell_type": "code",
   "execution_count": 35,
   "id": "f487922b",
   "metadata": {},
   "outputs": [],
   "source": [
    "assert \"nepal\" == 'nepal' # True nothing happens"
   ]
  },
  {
   "cell_type": "code",
   "execution_count": 36,
   "id": "ab895203",
   "metadata": {},
   "outputs": [
    {
     "ename": "AssertionError",
     "evalue": "",
     "output_type": "error",
     "traceback": [
      "\u001b[0;31m---------------------------------------------------------------------------\u001b[0m",
      "\u001b[0;31mAssertionError\u001b[0m                            Traceback (most recent call last)",
      "\u001b[0;32m/tmp/ipykernel_8206/390843895.py\u001b[0m in \u001b[0;36m<module>\u001b[0;34m\u001b[0m\n\u001b[0;32m----> 1\u001b[0;31m \u001b[0;32massert\u001b[0m \u001b[0;34m\"Nepal\"\u001b[0m \u001b[0;34m==\u001b[0m \u001b[0;34m'nepal'\u001b[0m\u001b[0;34m\u001b[0m\u001b[0;34m\u001b[0m\u001b[0m\n\u001b[0m",
      "\u001b[0;31mAssertionError\u001b[0m: "
     ]
    }
   ],
   "source": [
    "assert \"Nepal\" == 'nepal' # assert is used to debug the code- False -- AssertionError"
   ]
  },
  {
   "cell_type": "code",
   "execution_count": 37,
   "id": "2029fa53",
   "metadata": {},
   "outputs": [
    {
     "data": {
      "text/plain": [
       "False"
      ]
     },
     "execution_count": 37,
     "metadata": {},
     "output_type": "execute_result"
    }
   ],
   "source": [
    "\"Nepal\" == 'nepal'"
   ]
  },
  {
   "cell_type": "markdown",
   "id": "461c6eac",
   "metadata": {},
   "source": [
    "# Indexing and slicing of string"
   ]
  },
  {
   "cell_type": "code",
   "execution_count": 41,
   "id": "aff498ab",
   "metadata": {},
   "outputs": [],
   "source": [
    "s = \"Hello world\""
   ]
  },
  {
   "cell_type": "code",
   "execution_count": 42,
   "id": "72c90f06",
   "metadata": {},
   "outputs": [
    {
     "data": {
      "text/plain": [
       "'e'"
      ]
     },
     "execution_count": 42,
     "metadata": {},
     "output_type": "execute_result"
    }
   ],
   "source": [
    "s[1]"
   ]
  },
  {
   "cell_type": "code",
   "execution_count": 43,
   "id": "7f4d16e0",
   "metadata": {},
   "outputs": [
    {
     "data": {
      "text/plain": [
       "'H'"
      ]
     },
     "execution_count": 43,
     "metadata": {},
     "output_type": "execute_result"
    }
   ],
   "source": [
    "s[0] # indexing starts with zero"
   ]
  },
  {
   "cell_type": "code",
   "execution_count": 44,
   "id": "d647dbb5",
   "metadata": {},
   "outputs": [
    {
     "data": {
      "text/plain": [
       "'l'"
      ]
     },
     "execution_count": 44,
     "metadata": {},
     "output_type": "execute_result"
    }
   ],
   "source": [
    "s[2]"
   ]
  },
  {
   "cell_type": "code",
   "execution_count": 45,
   "id": "5f554037",
   "metadata": {},
   "outputs": [
    {
     "data": {
      "text/plain": [
       "'l'"
      ]
     },
     "execution_count": 45,
     "metadata": {},
     "output_type": "execute_result"
    }
   ],
   "source": [
    "s[3]"
   ]
  },
  {
   "cell_type": "code",
   "execution_count": 46,
   "id": "5476578a",
   "metadata": {},
   "outputs": [
    {
     "ename": "IndexError",
     "evalue": "string index out of range",
     "output_type": "error",
     "traceback": [
      "\u001b[0;31m---------------------------------------------------------------------------\u001b[0m",
      "\u001b[0;31mIndexError\u001b[0m                                Traceback (most recent call last)",
      "\u001b[0;32m/tmp/ipykernel_8206/1734129449.py\u001b[0m in \u001b[0;36m<module>\u001b[0;34m\u001b[0m\n\u001b[0;32m----> 1\u001b[0;31m \u001b[0ms\u001b[0m\u001b[0;34m[\u001b[0m\u001b[0;36m11\u001b[0m\u001b[0;34m]\u001b[0m\u001b[0;34m\u001b[0m\u001b[0;34m\u001b[0m\u001b[0m\n\u001b[0m",
      "\u001b[0;31mIndexError\u001b[0m: string index out of range"
     ]
    }
   ],
   "source": [
    "s[11]"
   ]
  },
  {
   "cell_type": "code",
   "execution_count": 47,
   "id": "3f3f5708",
   "metadata": {},
   "outputs": [
    {
     "data": {
      "text/plain": [
       "11"
      ]
     },
     "execution_count": 47,
     "metadata": {},
     "output_type": "execute_result"
    }
   ],
   "source": [
    "len(s)"
   ]
  },
  {
   "cell_type": "code",
   "execution_count": 48,
   "id": "b271f7a6",
   "metadata": {},
   "outputs": [
    {
     "ename": "TypeError",
     "evalue": "string indices must be integers",
     "output_type": "error",
     "traceback": [
      "\u001b[0;31m---------------------------------------------------------------------------\u001b[0m",
      "\u001b[0;31mTypeError\u001b[0m                                 Traceback (most recent call last)",
      "\u001b[0;32m/tmp/ipykernel_8206/1247432754.py\u001b[0m in \u001b[0;36m<module>\u001b[0;34m\u001b[0m\n\u001b[0;32m----> 1\u001b[0;31m \u001b[0ms\u001b[0m\u001b[0;34m[\u001b[0m\u001b[0;36m1.2\u001b[0m\u001b[0;34m]\u001b[0m \u001b[0;31m# invalid index cannot be float\u001b[0m\u001b[0;34m\u001b[0m\u001b[0;34m\u001b[0m\u001b[0m\n\u001b[0m",
      "\u001b[0;31mTypeError\u001b[0m: string indices must be integers"
     ]
    }
   ],
   "source": [
    "s[1.2] # invalid index cannot be float"
   ]
  },
  {
   "cell_type": "markdown",
   "id": "cfa4c51b",
   "metadata": {},
   "source": [
    "# range(start, stop, step) \n",
    "\n",
    "Finds values between start to stop with given step.\n",
    "* stop value is excluded"
   ]
  },
  {
   "cell_type": "code",
   "execution_count": 53,
   "id": "580ad330",
   "metadata": {},
   "outputs": [],
   "source": [
    "s = \"hello world\"\n",
    "length = len(s)"
   ]
  },
  {
   "cell_type": "code",
   "execution_count": 54,
   "id": "64e96594",
   "metadata": {},
   "outputs": [
    {
     "data": {
      "text/plain": [
       "11"
      ]
     },
     "execution_count": 54,
     "metadata": {},
     "output_type": "execute_result"
    }
   ],
   "source": [
    "length"
   ]
  },
  {
   "cell_type": "code",
   "execution_count": 55,
   "id": "2e8aac6e",
   "metadata": {},
   "outputs": [
    {
     "data": {
      "text/plain": [
       "range(0, 11)"
      ]
     },
     "execution_count": 55,
     "metadata": {},
     "output_type": "execute_result"
    }
   ],
   "source": [
    "range(0,length, 1) # zero to length with step 1"
   ]
  },
  {
   "cell_type": "code",
   "execution_count": 58,
   "id": "2b9a202c",
   "metadata": {},
   "outputs": [
    {
     "data": {
      "text/plain": [
       "[0, 1, 2, 3, 4, 5, 6, 7, 8, 9, 10]"
      ]
     },
     "execution_count": 58,
     "metadata": {},
     "output_type": "execute_result"
    }
   ],
   "source": [
    "list(range(0,length, 1))"
   ]
  },
  {
   "cell_type": "code",
   "execution_count": 66,
   "id": "51fbe9a2",
   "metadata": {},
   "outputs": [
    {
     "name": "stdout",
     "output_type": "stream",
     "text": [
      "The index is 0 and the letter is h\n",
      "The index is 1 and the letter is e\n",
      "The index is 2 and the letter is l\n",
      "The index is 3 and the letter is l\n",
      "The index is 4 and the letter is o\n",
      "The index is 5 and the letter is  \n",
      "The index is 6 and the letter is w\n",
      "The index is 7 and the letter is o\n",
      "The index is 8 and the letter is r\n",
      "The index is 9 and the letter is l\n",
      "The index is 10 and the letter is d\n"
     ]
    }
   ],
   "source": [
    "s = \"hello world\"\n",
    "for index in range(0, len(s), 1):\n",
    "    letter = s[index]\n",
    "    print(f\"The index is {index} and the letter is {letter}\")"
   ]
  },
  {
   "cell_type": "markdown",
   "id": "8e353e07",
   "metadata": {},
   "source": [
    "# print string index and letter in reverse order"
   ]
  },
  {
   "cell_type": "code",
   "execution_count": 67,
   "id": "e4d896e6",
   "metadata": {},
   "outputs": [],
   "source": [
    "s = 'hello world'"
   ]
  },
  {
   "cell_type": "code",
   "execution_count": 69,
   "id": "d45c2919",
   "metadata": {},
   "outputs": [
    {
     "data": {
      "text/plain": [
       "10"
      ]
     },
     "execution_count": 69,
     "metadata": {},
     "output_type": "execute_result"
    }
   ],
   "source": [
    "len(s) - 1"
   ]
  },
  {
   "cell_type": "code",
   "execution_count": 70,
   "id": "06f37dc1",
   "metadata": {},
   "outputs": [
    {
     "data": {
      "text/plain": [
       "range(10, -1, -1)"
      ]
     },
     "execution_count": 70,
     "metadata": {},
     "output_type": "execute_result"
    }
   ],
   "source": [
    "range(len(s) - 1, -1, -1)"
   ]
  },
  {
   "cell_type": "code",
   "execution_count": 71,
   "id": "dfc38439",
   "metadata": {},
   "outputs": [
    {
     "data": {
      "text/plain": [
       "[10, 9, 8, 7, 6, 5, 4, 3, 2, 1, 0]"
      ]
     },
     "execution_count": 71,
     "metadata": {},
     "output_type": "execute_result"
    }
   ],
   "source": [
    "list(range(len(s) - 1, -1, -1))"
   ]
  },
  {
   "cell_type": "code",
   "execution_count": 78,
   "id": "43798c50",
   "metadata": {},
   "outputs": [
    {
     "name": "stdout",
     "output_type": "stream",
     "text": [
      "The index is 10 and the letter is d\n",
      "The index is 9 and the letter is l\n",
      "The index is 8 and the letter is r\n",
      "The index is 7 and the letter is o\n",
      "The index is 6 and the letter is w\n",
      "The index is 5 and the letter is  \n",
      "The index is 4 and the letter is o\n",
      "The index is 3 and the letter is l\n",
      "The index is 2 and the letter is l\n",
      "The index is 1 and the letter is e\n",
      "The index is 0 and the letter is h\n"
     ]
    }
   ],
   "source": [
    "s = 'hello world'\n",
    "for index in range(len(s) -1 , -1, -1):\n",
    "    letter = s[index]\n",
    "    print(f\"The index is {index} and the letter is {letter}\")"
   ]
  },
  {
   "cell_type": "code",
   "execution_count": null,
   "id": "29b9e7fc",
   "metadata": {},
   "outputs": [],
   "source": []
  },
  {
   "cell_type": "code",
   "execution_count": 84,
   "id": "7757ebb6",
   "metadata": {},
   "outputs": [
    {
     "name": "stdout",
     "output_type": "stream",
     "text": [
      "vowel = a\n",
      "Consonant = e\n",
      "Consonant = y\n",
      "vowel = i\n"
     ]
    }
   ],
   "source": [
    "text = 'aeyi'\n",
    "for index in range(0, len(text), 1):\n",
    "    letter = text[index]\n",
    "    if letter == 'a' or letter == 'i' or letter == 'o' or letter == 'u':\n",
    "        print(f\"vowel = {letter}\")\n",
    "    else:\n",
    "        print(f\"Consonant = {letter}\")"
   ]
  },
  {
   "cell_type": "markdown",
   "id": "a2ef2aaf",
   "metadata": {},
   "source": [
    "# slicing of string"
   ]
  },
  {
   "cell_type": "code",
   "execution_count": 85,
   "id": "4d6a9b95",
   "metadata": {},
   "outputs": [],
   "source": [
    "s = \"I love python.\""
   ]
  },
  {
   "cell_type": "code",
   "execution_count": 87,
   "id": "a4006a51",
   "metadata": {},
   "outputs": [
    {
     "data": {
      "text/plain": [
       "'l'"
      ]
     },
     "execution_count": 87,
     "metadata": {},
     "output_type": "execute_result"
    }
   ],
   "source": [
    "s[2]"
   ]
  },
  {
   "cell_type": "code",
   "execution_count": 88,
   "id": "de8b972e",
   "metadata": {},
   "outputs": [
    {
     "data": {
      "text/plain": [
       "'e'"
      ]
     },
     "execution_count": 88,
     "metadata": {},
     "output_type": "execute_result"
    }
   ],
   "source": [
    "s[5]"
   ]
  },
  {
   "cell_type": "code",
   "execution_count": 89,
   "id": "f21b5c96",
   "metadata": {},
   "outputs": [
    {
     "data": {
      "text/plain": [
       "'lov'"
      ]
     },
     "execution_count": 89,
     "metadata": {},
     "output_type": "execute_result"
    }
   ],
   "source": [
    "s[2:5]"
   ]
  },
  {
   "cell_type": "code",
   "execution_count": 90,
   "id": "187695bd",
   "metadata": {},
   "outputs": [
    {
     "data": {
      "text/plain": [
       "'love'"
      ]
     },
     "execution_count": 90,
     "metadata": {},
     "output_type": "execute_result"
    }
   ],
   "source": [
    "s[2:6]"
   ]
  },
  {
   "cell_type": "code",
   "execution_count": 91,
   "id": "72e1b5a4",
   "metadata": {},
   "outputs": [
    {
     "data": {
      "text/plain": [
       "'py'"
      ]
     },
     "execution_count": 91,
     "metadata": {},
     "output_type": "execute_result"
    }
   ],
   "source": [
    "s[7:9]"
   ]
  },
  {
   "cell_type": "code",
   "execution_count": null,
   "id": "c862c78b",
   "metadata": {},
   "outputs": [],
   "source": []
  }
 ],
 "metadata": {
  "kernelspec": {
   "display_name": "Python (reco)",
   "language": "python",
   "name": "my_environment_name"
  },
  "language_info": {
   "codemirror_mode": {
    "name": "ipython",
    "version": 3
   },
   "file_extension": ".py",
   "mimetype": "text/x-python",
   "name": "python",
   "nbconvert_exporter": "python",
   "pygments_lexer": "ipython3",
   "version": "3.9.13"
  }
 },
 "nbformat": 4,
 "nbformat_minor": 5
}
