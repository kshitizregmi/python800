{
 "cells": [
  {
   "cell_type": "code",
   "execution_count": 23,
   "id": "fc7c0e3c",
   "metadata": {},
   "outputs": [
    {
     "name": "stdout",
     "output_type": "stream",
     "text": [
      "Enter any text to count vowel and consonant :oops hi\n"
     ]
    }
   ],
   "source": [
    "txt = input(\"Enter any text to count vowel and consonant :\")\n",
    "vowel = 0\n",
    "consonant = 0\n",
    "for index in range(len(txt)):\n",
    "    letter = txt[index]\n",
    "    if letter == 'a' or letter == 'e' or letter == 'i' or letter == '0' or letter == 'u':\n",
    "        vowel = vowel + 1\n",
    "        \n",
    "    elif letter == \" \":\n",
    "        continue\n",
    "        print(\"Continue doesnot run this linne it skips it (goto top)\")\n",
    "    else:\n",
    "        consonant = consonant + 1"
   ]
  },
  {
   "cell_type": "code",
   "execution_count": 24,
   "id": "778bb0b8",
   "metadata": {},
   "outputs": [
    {
     "name": "stdout",
     "output_type": "stream",
     "text": [
      "1\n"
     ]
    }
   ],
   "source": [
    "print(vowel)"
   ]
  },
  {
   "cell_type": "code",
   "execution_count": 25,
   "id": "798a5fa7",
   "metadata": {},
   "outputs": [
    {
     "name": "stdout",
     "output_type": "stream",
     "text": [
      "5\n"
     ]
    }
   ],
   "source": [
    "print(consonant)"
   ]
  },
  {
   "cell_type": "code",
   "execution_count": 33,
   "id": "863c04f7",
   "metadata": {},
   "outputs": [
    {
     "name": "stdout",
     "output_type": "stream",
     "text": [
      "Enter any text to count vowel and consonant :some text\n",
      "1\n",
      "3\n"
     ]
    }
   ],
   "source": [
    "txt = input(\"Enter any text to count vowel and consonant :\")\n",
    "vowel = 0\n",
    "consonant = 0\n",
    "for index in range(len(txt)):\n",
    "    letter = txt[index]\n",
    "    if letter == 'a' or letter == 'e' or letter == 'i' or letter == '0' or letter == 'u':\n",
    "        vowel = vowel + 1\n",
    "        \n",
    "    elif letter == \" \":\n",
    "        break\n",
    "        print(\"Break statement breaks the loops it doesn't run anymore\")\n",
    "    else:\n",
    "        consonant = consonant + 1\n",
    "        \n",
    "print(vowel)\n",
    "print(consonant)"
   ]
  },
  {
   "cell_type": "code",
   "execution_count": 41,
   "id": "10bee1c2",
   "metadata": {},
   "outputs": [
    {
     "name": "stdout",
     "output_type": "stream",
     "text": [
      "0\n",
      "1\n",
      "2\n",
      "4\n",
      "hi\n"
     ]
    }
   ],
   "source": [
    "for index in range(5):\n",
    "    if index == 3:\n",
    "        continue\n",
    "        \n",
    "    \n",
    "    print(index)\n"
   ]
  },
  {
   "cell_type": "code",
   "execution_count": 40,
   "id": "50c16e17",
   "metadata": {},
   "outputs": [
    {
     "name": "stdout",
     "output_type": "stream",
     "text": [
      "0\n",
      "1\n",
      "2\n",
      "hi\n"
     ]
    }
   ],
   "source": [
    "for index in range(5):\n",
    "    if index == 3:\n",
    "        break # exit loop based on conditon\n",
    "    print(index)\n",
    "print('hi')"
   ]
  },
  {
   "cell_type": "code",
   "execution_count": 43,
   "id": "cc1b1fae",
   "metadata": {},
   "outputs": [],
   "source": [
    "for index in range(5):\n",
    "    pass # pass is a place holder to write a future code"
   ]
  },
  {
   "cell_type": "code",
   "execution_count": 44,
   "id": "755eb86c",
   "metadata": {},
   "outputs": [
    {
     "name": "stdout",
     "output_type": "stream",
     "text": [
      "hi\n",
      "hi\n",
      "hi\n",
      "hi\n",
      "hi\n"
     ]
    }
   ],
   "source": [
    "for index in range(5):\n",
    "    pass\n",
    "    print(\"hi\")"
   ]
  },
  {
   "cell_type": "code",
   "execution_count": null,
   "id": "0932e0fa",
   "metadata": {},
   "outputs": [],
   "source": []
  }
 ],
 "metadata": {
  "kernelspec": {
   "display_name": "Python (reco)",
   "language": "python",
   "name": "my_environment_name"
  },
  "language_info": {
   "codemirror_mode": {
    "name": "ipython",
    "version": 3
   },
   "file_extension": ".py",
   "mimetype": "text/x-python",
   "name": "python",
   "nbconvert_exporter": "python",
   "pygments_lexer": "ipython3",
   "version": "3.9.13"
  }
 },
 "nbformat": 4,
 "nbformat_minor": 5
}
