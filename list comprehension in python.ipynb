{
 "cells": [
  {
   "cell_type": "markdown",
   "id": "374d19b5",
   "metadata": {},
   "source": [
    "# wap to find square of each number in a list"
   ]
  },
  {
   "cell_type": "code",
   "execution_count": 8,
   "id": "553eb0ad",
   "metadata": {},
   "outputs": [],
   "source": [
    "num = [2,3,6,8,9]"
   ]
  },
  {
   "cell_type": "code",
   "execution_count": 9,
   "id": "ddb2d988",
   "metadata": {},
   "outputs": [
    {
     "name": "stdout",
     "output_type": "stream",
     "text": [
      "[]\n",
      "[4]\n",
      "[4, 9]\n",
      "[4, 9, 36]\n",
      "[4, 9, 36, 64]\n"
     ]
    }
   ],
   "source": [
    "sq = list()\n",
    "for item in num:\n",
    "    print(sq)\n",
    "    sq.append(item ** 2)"
   ]
  },
  {
   "cell_type": "code",
   "execution_count": 10,
   "id": "213e0d1c",
   "metadata": {},
   "outputs": [
    {
     "data": {
      "text/plain": [
       "[4, 9, 36, 64, 81]"
      ]
     },
     "execution_count": 10,
     "metadata": {},
     "output_type": "execute_result"
    }
   ],
   "source": [
    "sq = list()\n",
    "for item in num:\n",
    "    sq.append(item ** 2)\n",
    "    \n",
    "sq"
   ]
  },
  {
   "cell_type": "code",
   "execution_count": 11,
   "id": "523d6792",
   "metadata": {},
   "outputs": [
    {
     "data": {
      "text/plain": [
       "[4, 9, 36, 64, 81]"
      ]
     },
     "execution_count": 11,
     "metadata": {},
     "output_type": "execute_result"
    }
   ],
   "source": [
    "[item ** 2 for item in num]"
   ]
  },
  {
   "cell_type": "code",
   "execution_count": 12,
   "id": "c9e7afb3",
   "metadata": {},
   "outputs": [],
   "source": [
    "num = [-1, 4,5,53]"
   ]
  },
  {
   "cell_type": "code",
   "execution_count": 13,
   "id": "03f3567d",
   "metadata": {},
   "outputs": [
    {
     "data": {
      "text/plain": [
       "[-1, 64, 125, 148877]"
      ]
     },
     "execution_count": 13,
     "metadata": {},
     "output_type": "execute_result"
    }
   ],
   "source": [
    "[item **3  for item in num]"
   ]
  },
  {
   "cell_type": "code",
   "execution_count": 14,
   "id": "bc9c2117",
   "metadata": {},
   "outputs": [],
   "source": [
    "fruits = ['APPLE', \"BANANA\", 'MANGO']"
   ]
  },
  {
   "cell_type": "code",
   "execution_count": 17,
   "id": "e65f24fb",
   "metadata": {},
   "outputs": [
    {
     "data": {
      "text/plain": [
       "['apple', 'banana', 'mango']"
      ]
     },
     "execution_count": 17,
     "metadata": {},
     "output_type": "execute_result"
    }
   ],
   "source": [
    "[item.lower() for item in fruits]"
   ]
  },
  {
   "cell_type": "code",
   "execution_count": 20,
   "id": "e29dee64",
   "metadata": {},
   "outputs": [
    {
     "name": "stdout",
     "output_type": "stream",
     "text": [
      "apple\n",
      "banana\n",
      "mango\n"
     ]
    }
   ],
   "source": [
    "for item in fruits:\n",
    "    print(item.lower())"
   ]
  },
  {
   "cell_type": "markdown",
   "id": "ea0660bb",
   "metadata": {},
   "source": [
    "# list comprehension and if condition"
   ]
  },
  {
   "cell_type": "code",
   "execution_count": 21,
   "id": "b60834a8",
   "metadata": {},
   "outputs": [
    {
     "data": {
      "text/plain": [
       "[-5, -4, -3, -2, -1, 0, 1, 2, 3, 4]"
      ]
     },
     "execution_count": 21,
     "metadata": {},
     "output_type": "execute_result"
    }
   ],
   "source": [
    "[item for item in range(-5, 5)]"
   ]
  },
  {
   "cell_type": "code",
   "execution_count": 23,
   "id": "2015eecf",
   "metadata": {},
   "outputs": [
    {
     "data": {
      "text/plain": [
       "[0, 1, 2, 3, 4]"
      ]
     },
     "execution_count": 23,
     "metadata": {},
     "output_type": "execute_result"
    }
   ],
   "source": [
    "[item for item in range(-5, 5) if item >= 0]"
   ]
  },
  {
   "cell_type": "code",
   "execution_count": 24,
   "id": "c90dcb63",
   "metadata": {},
   "outputs": [],
   "source": [
    "data = [1,2,3,4,5,6,7,8,9]\n",
    "# extract even number only using list comprehension"
   ]
  },
  {
   "cell_type": "code",
   "execution_count": 28,
   "id": "edfe1ed0",
   "metadata": {},
   "outputs": [
    {
     "data": {
      "text/plain": [
       "[2, 4, 6, 8]"
      ]
     },
     "execution_count": 28,
     "metadata": {},
     "output_type": "execute_result"
    }
   ],
   "source": [
    "[item for item in data if item % 2 == 0 ]"
   ]
  },
  {
   "cell_type": "code",
   "execution_count": 29,
   "id": "2ae6a068",
   "metadata": {},
   "outputs": [
    {
     "data": {
      "text/plain": [
       "[1, 3, 5, 7, 9]"
      ]
     },
     "execution_count": 29,
     "metadata": {},
     "output_type": "execute_result"
    }
   ],
   "source": [
    "[item for item in data if item % 2 != 0]"
   ]
  },
  {
   "cell_type": "code",
   "execution_count": 30,
   "id": "9404f8c9",
   "metadata": {},
   "outputs": [
    {
     "data": {
      "text/plain": [
       "[1, 3, 5, 7, 9]"
      ]
     },
     "execution_count": 30,
     "metadata": {},
     "output_type": "execute_result"
    }
   ],
   "source": [
    "[item for item in data if item % 2 == 1 ]"
   ]
  },
  {
   "cell_type": "markdown",
   "id": "01d7d2b1",
   "metadata": {},
   "source": [
    "# list comprehension using if and else"
   ]
  },
  {
   "cell_type": "code",
   "execution_count": 34,
   "id": "2b829ee5",
   "metadata": {},
   "outputs": [
    {
     "data": {
      "text/plain": [
       "[-5, -4, -3, -2, -1, 0, 1, 2, 3, 4]"
      ]
     },
     "execution_count": 34,
     "metadata": {},
     "output_type": "execute_result"
    }
   ],
   "source": [
    "[item for item in range(-5, 5)]"
   ]
  },
  {
   "cell_type": "code",
   "execution_count": 35,
   "id": "d9902024",
   "metadata": {},
   "outputs": [
    {
     "data": {
      "text/plain": [
       "[0, 0, 0, 0, 0, 0, 1, 2, 3, 4]"
      ]
     },
     "execution_count": 35,
     "metadata": {},
     "output_type": "execute_result"
    }
   ],
   "source": [
    "[0 if item<=0 else item for item in range(-5, 5)] # relu activation function"
   ]
  },
  {
   "cell_type": "code",
   "execution_count": null,
   "id": "445dcdcc",
   "metadata": {},
   "outputs": [],
   "source": []
  }
 ],
 "metadata": {
  "kernelspec": {
   "display_name": "Python (reco)",
   "language": "python",
   "name": "my_environment_name"
  },
  "language_info": {
   "codemirror_mode": {
    "name": "ipython",
    "version": 3
   },
   "file_extension": ".py",
   "mimetype": "text/x-python",
   "name": "python",
   "nbconvert_exporter": "python",
   "pygments_lexer": "ipython3",
   "version": "3.9.13"
  }
 },
 "nbformat": 4,
 "nbformat_minor": 5
}
