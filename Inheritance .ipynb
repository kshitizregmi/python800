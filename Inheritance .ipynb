{
 "cells": [
  {
   "cell_type": "code",
   "execution_count": 1,
   "id": "41a32c8d",
   "metadata": {},
   "outputs": [],
   "source": [
    "class Computer:\n",
    "    def __init__(self, gpu):\n",
    "        self.gpu = gpu\n",
    "\n",
    "        \n",
    "class Mobile:\n",
    "    def __init__(self, flash):\n",
    "        self.flash = flash\n",
    "    "
   ]
  },
  {
   "cell_type": "code",
   "execution_count": 2,
   "id": "1e873ef4",
   "metadata": {},
   "outputs": [],
   "source": [
    "mob = Mobile(True)"
   ]
  },
  {
   "cell_type": "code",
   "execution_count": 3,
   "id": "d461c01c",
   "metadata": {},
   "outputs": [
    {
     "ename": "AttributeError",
     "evalue": "'Mobile' object has no attribute 'gpu'",
     "output_type": "error",
     "traceback": [
      "\u001b[0;31m---------------------------------------------------------------------------\u001b[0m",
      "\u001b[0;31mAttributeError\u001b[0m                            Traceback (most recent call last)",
      "\u001b[0;32m/tmp/ipykernel_12255/1316868966.py\u001b[0m in \u001b[0;36m<module>\u001b[0;34m\u001b[0m\n\u001b[0;32m----> 1\u001b[0;31m \u001b[0mmob\u001b[0m\u001b[0;34m.\u001b[0m\u001b[0mgpu\u001b[0m\u001b[0;34m\u001b[0m\u001b[0;34m\u001b[0m\u001b[0m\n\u001b[0m",
      "\u001b[0;31mAttributeError\u001b[0m: 'Mobile' object has no attribute 'gpu'"
     ]
    }
   ],
   "source": [
    "mob.gpu # not allowed"
   ]
  },
  {
   "cell_type": "code",
   "execution_count": 5,
   "id": "bfe1d471",
   "metadata": {},
   "outputs": [],
   "source": [
    "class Computer:\n",
    "    def __init__(self, gpu):\n",
    "        self.gpu = gpu\n",
    "\n",
    "        \n",
    "class Mobile(Computer):\n",
    "    def __init__(self, flash, gpu):\n",
    "        self.flash = flash\n",
    "        super().__init__(gpu)\n",
    "    "
   ]
  },
  {
   "cell_type": "code",
   "execution_count": 8,
   "id": "6bdd49d2",
   "metadata": {},
   "outputs": [],
   "source": [
    "mob = Mobile(True, 'adreno')"
   ]
  },
  {
   "cell_type": "code",
   "execution_count": 9,
   "id": "257d0665",
   "metadata": {},
   "outputs": [
    {
     "data": {
      "text/plain": [
       "'adreno'"
      ]
     },
     "execution_count": 9,
     "metadata": {},
     "output_type": "execute_result"
    }
   ],
   "source": [
    "mob.gpu"
   ]
  },
  {
   "cell_type": "markdown",
   "id": "32e5e122",
   "metadata": {},
   "source": [
    "# Multiple Inheritance"
   ]
  },
  {
   "cell_type": "code",
   "execution_count": 14,
   "id": "a6884032",
   "metadata": {},
   "outputs": [],
   "source": [
    "class Father:\n",
    "    f_name = 'Ram'\n",
    "    def __init__(self):\n",
    "        pass\n",
    "\n",
    "class Mother:\n",
    "    m_name = \"Sita\"\n",
    "    def __init__(self):\n",
    "        pass\n",
    "    \n",
    "\n",
    "class Child(Father, Mother):\n",
    "    def __init__(self, name):\n",
    "        self.name = name\n",
    "        Father.__init__(self)\n",
    "        Mother.__init__(self)\n",
    "        \n",
    "    "
   ]
  },
  {
   "cell_type": "code",
   "execution_count": 15,
   "id": "1f9eca1b",
   "metadata": {},
   "outputs": [],
   "source": [
    "c = Child(\"Lov-Kush\")"
   ]
  },
  {
   "cell_type": "code",
   "execution_count": 16,
   "id": "e17ea387",
   "metadata": {},
   "outputs": [
    {
     "data": {
      "text/plain": [
       "'Ram'"
      ]
     },
     "execution_count": 16,
     "metadata": {},
     "output_type": "execute_result"
    }
   ],
   "source": [
    "c.f_name"
   ]
  },
  {
   "cell_type": "code",
   "execution_count": 17,
   "id": "e7ba5a77",
   "metadata": {},
   "outputs": [
    {
     "data": {
      "text/plain": [
       "'Sita'"
      ]
     },
     "execution_count": 17,
     "metadata": {},
     "output_type": "execute_result"
    }
   ],
   "source": [
    "c.m_name"
   ]
  },
  {
   "cell_type": "code",
   "execution_count": 18,
   "id": "3ebb6618",
   "metadata": {},
   "outputs": [
    {
     "data": {
      "text/plain": [
       "'Lov-Kush'"
      ]
     },
     "execution_count": 18,
     "metadata": {},
     "output_type": "execute_result"
    }
   ],
   "source": [
    "c.name"
   ]
  },
  {
   "cell_type": "markdown",
   "id": "82ad096c",
   "metadata": {},
   "source": [
    "# Multilevel Inheritance"
   ]
  },
  {
   "cell_type": "code",
   "execution_count": 23,
   "id": "cc13187c",
   "metadata": {},
   "outputs": [],
   "source": [
    "class A:\n",
    "    g_name = \"Dasarath\"\n",
    "    def __init__(self):\n",
    "        pass\n",
    "    \n",
    "class B(A):\n",
    "    f_name = \"Ram\"\n",
    "    def __init__(self):\n",
    "        A.__init__(self)\n",
    "        \n",
    "\n",
    "class C(B):\n",
    "    name = \"Lov-kush\"\n",
    "    def __init__(self):\n",
    "        B.__init__(self)"
   ]
  },
  {
   "cell_type": "code",
   "execution_count": 24,
   "id": "47cf540c",
   "metadata": {},
   "outputs": [],
   "source": [
    "child = C()"
   ]
  },
  {
   "cell_type": "code",
   "execution_count": 25,
   "id": "a7b150e2",
   "metadata": {},
   "outputs": [
    {
     "data": {
      "text/plain": [
       "'Dasarath'"
      ]
     },
     "execution_count": 25,
     "metadata": {},
     "output_type": "execute_result"
    }
   ],
   "source": [
    "child.g_name"
   ]
  },
  {
   "cell_type": "code",
   "execution_count": 26,
   "id": "932215f0",
   "metadata": {},
   "outputs": [
    {
     "data": {
      "text/plain": [
       "'Ram'"
      ]
     },
     "execution_count": 26,
     "metadata": {},
     "output_type": "execute_result"
    }
   ],
   "source": [
    "child.f_name"
   ]
  },
  {
   "cell_type": "code",
   "execution_count": 27,
   "id": "6ecc1a7d",
   "metadata": {},
   "outputs": [
    {
     "data": {
      "text/plain": [
       "'Lov-kush'"
      ]
     },
     "execution_count": 27,
     "metadata": {},
     "output_type": "execute_result"
    }
   ],
   "source": [
    "child.name"
   ]
  },
  {
   "cell_type": "markdown",
   "id": "70d7632a",
   "metadata": {},
   "source": [
    "# Are access specifiers used in python? — No but has concept of limiting behaviour of variables: private attribute are not inherited \n"
   ]
  },
  {
   "cell_type": "code",
   "execution_count": 34,
   "id": "9b77662c",
   "metadata": {},
   "outputs": [],
   "source": [
    "class Instructor:\n",
    "    # public\n",
    "    name = \"Kshitiz\"\n",
    "    # protected : agadi one underscore\n",
    "    _age = 25\n",
    "    \n",
    "    # private : agadi two underscore\n",
    "    __salary = 55975454455"
   ]
  },
  {
   "cell_type": "code",
   "execution_count": 35,
   "id": "2019bad0",
   "metadata": {},
   "outputs": [],
   "source": [
    "ins = Instructor()"
   ]
  },
  {
   "cell_type": "code",
   "execution_count": 36,
   "id": "dae6ab51",
   "metadata": {},
   "outputs": [
    {
     "data": {
      "text/plain": [
       "'Kshitiz'"
      ]
     },
     "execution_count": 36,
     "metadata": {},
     "output_type": "execute_result"
    }
   ],
   "source": [
    "ins.name"
   ]
  },
  {
   "cell_type": "code",
   "execution_count": 39,
   "id": "86e736f8",
   "metadata": {},
   "outputs": [
    {
     "data": {
      "text/plain": [
       "25"
      ]
     },
     "execution_count": 39,
     "metadata": {},
     "output_type": "execute_result"
    }
   ],
   "source": [
    "ins._age"
   ]
  },
  {
   "cell_type": "code",
   "execution_count": 40,
   "id": "bfda92c1",
   "metadata": {},
   "outputs": [
    {
     "ename": "AttributeError",
     "evalue": "'Instructor' object has no attribute '__salary'",
     "output_type": "error",
     "traceback": [
      "\u001b[0;31m---------------------------------------------------------------------------\u001b[0m",
      "\u001b[0;31mAttributeError\u001b[0m                            Traceback (most recent call last)",
      "\u001b[0;32m/tmp/ipykernel_12255/2988813454.py\u001b[0m in \u001b[0;36m<module>\u001b[0;34m\u001b[0m\n\u001b[0;32m----> 1\u001b[0;31m \u001b[0mins\u001b[0m\u001b[0;34m.\u001b[0m\u001b[0m__salary\u001b[0m\u001b[0;34m\u001b[0m\u001b[0;34m\u001b[0m\u001b[0m\n\u001b[0m",
      "\u001b[0;31mAttributeError\u001b[0m: 'Instructor' object has no attribute '__salary'"
     ]
    }
   ],
   "source": [
    "ins.__salary"
   ]
  },
  {
   "cell_type": "code",
   "execution_count": null,
   "id": "51a304d9",
   "metadata": {},
   "outputs": [],
   "source": []
  }
 ],
 "metadata": {
  "kernelspec": {
   "display_name": "Python (reco)",
   "language": "python",
   "name": "my_environment_name"
  },
  "language_info": {
   "codemirror_mode": {
    "name": "ipython",
    "version": 3
   },
   "file_extension": ".py",
   "mimetype": "text/x-python",
   "name": "python",
   "nbconvert_exporter": "python",
   "pygments_lexer": "ipython3",
   "version": "3.9.13"
  }
 },
 "nbformat": 4,
 "nbformat_minor": 5
}
