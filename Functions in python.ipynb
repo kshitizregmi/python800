{
 "cells": [
  {
   "cell_type": "markdown",
   "id": "bcf521cf",
   "metadata": {},
   "source": [
    "# functions\n",
    "\n",
    "syntax:\n",
    "\n",
    "```python\n",
    "\n",
    "def function_name(argument):\n",
    "    # function body\n",
    "    return expression\n",
    "\n",
    "```"
   ]
  },
  {
   "cell_type": "code",
   "execution_count": 1,
   "id": "c78edb5f",
   "metadata": {},
   "outputs": [
    {
     "name": "stdout",
     "output_type": "stream",
     "text": [
      "8\n"
     ]
    }
   ],
   "source": [
    "a = 5\n",
    "b = 3\n",
    "c = a + b\n",
    "print(c)"
   ]
  },
  {
   "cell_type": "code",
   "execution_count": 5,
   "id": "d3b9eb14",
   "metadata": {},
   "outputs": [],
   "source": [
    "def add_num():\n",
    "    a = 5\n",
    "    b = 3\n",
    "    c = a + b\n",
    "    print(c)"
   ]
  },
  {
   "cell_type": "code",
   "execution_count": 6,
   "id": "eb63c209",
   "metadata": {},
   "outputs": [
    {
     "name": "stdout",
     "output_type": "stream",
     "text": [
      "8\n"
     ]
    }
   ],
   "source": [
    "add_num()"
   ]
  },
  {
   "cell_type": "code",
   "execution_count": 7,
   "id": "aeab3c7d",
   "metadata": {},
   "outputs": [
    {
     "name": "stdout",
     "output_type": "stream",
     "text": [
      "8\n"
     ]
    }
   ],
   "source": [
    "add_num()"
   ]
  },
  {
   "cell_type": "code",
   "execution_count": 8,
   "id": "a8c05486",
   "metadata": {},
   "outputs": [],
   "source": [
    "# a, b are arugments or parameters passed by user to function\n",
    "def add_num(a, b): \n",
    "    c = a + b\n",
    "    print(c)"
   ]
  },
  {
   "cell_type": "code",
   "execution_count": 10,
   "id": "e004319d",
   "metadata": {},
   "outputs": [
    {
     "name": "stdout",
     "output_type": "stream",
     "text": [
      "17\n"
     ]
    }
   ],
   "source": [
    "add_num(a = 8, b = 9)"
   ]
  },
  {
   "cell_type": "code",
   "execution_count": 11,
   "id": "07dee95b",
   "metadata": {},
   "outputs": [
    {
     "name": "stdout",
     "output_type": "stream",
     "text": [
      "-80\n"
     ]
    }
   ],
   "source": [
    "add_num(a = -88, b = 8)"
   ]
  },
  {
   "cell_type": "code",
   "execution_count": 12,
   "id": "16650984",
   "metadata": {},
   "outputs": [
    {
     "name": "stdout",
     "output_type": "stream",
     "text": [
      "18\n"
     ]
    }
   ],
   "source": [
    "num = add_num(a = 9, b = 9)"
   ]
  },
  {
   "cell_type": "code",
   "execution_count": 13,
   "id": "1a6957a4",
   "metadata": {},
   "outputs": [],
   "source": [
    "num # not returned anything --function return nothing"
   ]
  },
  {
   "cell_type": "markdown",
   "id": "56f48475",
   "metadata": {},
   "source": [
    "# return statement in function"
   ]
  },
  {
   "cell_type": "code",
   "execution_count": 14,
   "id": "0a31269a",
   "metadata": {},
   "outputs": [],
   "source": [
    "# a, b are arugments or parameters passed by user to function\n",
    "def add_num(a, b): \n",
    "    c = a + b\n",
    "    return c # return statement returns a expression "
   ]
  },
  {
   "cell_type": "code",
   "execution_count": 16,
   "id": "a3d064d3",
   "metadata": {},
   "outputs": [],
   "source": [
    "total = add_num(a = 9, b = 8)"
   ]
  },
  {
   "cell_type": "code",
   "execution_count": 17,
   "id": "782f9ed4",
   "metadata": {},
   "outputs": [
    {
     "data": {
      "text/plain": [
       "17"
      ]
     },
     "execution_count": 17,
     "metadata": {},
     "output_type": "execute_result"
    }
   ],
   "source": [
    "total"
   ]
  },
  {
   "cell_type": "code",
   "execution_count": 18,
   "id": "c3d8a7ab",
   "metadata": {},
   "outputs": [
    {
     "data": {
      "text/plain": [
       "85"
      ]
     },
     "execution_count": 18,
     "metadata": {},
     "output_type": "execute_result"
    }
   ],
   "source": [
    "total * 5"
   ]
  },
  {
   "cell_type": "markdown",
   "id": "c1485900",
   "metadata": {},
   "source": [
    "# Using function calculate the volume of sphere with radius= r given by user \n",
    "\n",
    "$$volume = \\frac{4}{3} \\pi r^3$$"
   ]
  },
  {
   "cell_type": "code",
   "execution_count": 24,
   "id": "c739271e",
   "metadata": {},
   "outputs": [
    {
     "name": "stdout",
     "output_type": "stream",
     "text": [
      "Enter radius: 5\n",
      "523.5987755982989\n"
     ]
    }
   ],
   "source": [
    "import math\n",
    "def find_volume(r):\n",
    "    volume = 4/3 * math.pi * r **3\n",
    "    return volume\n",
    "\n",
    "r = float(input(\"Enter radius: \"))\n",
    "volume = find_volume(r)\n",
    "print(volume)"
   ]
  },
  {
   "cell_type": "code",
   "execution_count": null,
   "id": "f7988e1f",
   "metadata": {},
   "outputs": [],
   "source": []
  },
  {
   "cell_type": "code",
   "execution_count": null,
   "id": "79f07195",
   "metadata": {},
   "outputs": [],
   "source": []
  }
 ],
 "metadata": {
  "kernelspec": {
   "display_name": "Python (reco)",
   "language": "python",
   "name": "my_environment_name"
  },
  "language_info": {
   "codemirror_mode": {
    "name": "ipython",
    "version": 3
   },
   "file_extension": ".py",
   "mimetype": "text/x-python",
   "name": "python",
   "nbconvert_exporter": "python",
   "pygments_lexer": "ipython3",
   "version": "3.9.13"
  }
 },
 "nbformat": 4,
 "nbformat_minor": 5
}
