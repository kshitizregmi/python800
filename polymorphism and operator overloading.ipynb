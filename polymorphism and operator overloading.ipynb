{
 "cells": [
  {
   "cell_type": "markdown",
   "id": "e3830e8e",
   "metadata": {},
   "source": [
    "# operator overloading (polymorphism)"
   ]
  },
  {
   "cell_type": "code",
   "execution_count": 1,
   "id": "9b570f26",
   "metadata": {},
   "outputs": [
    {
     "data": {
      "text/plain": [
       "5"
      ]
     },
     "execution_count": 1,
     "metadata": {},
     "output_type": "execute_result"
    }
   ],
   "source": [
    "2 + 3 # "
   ]
  },
  {
   "cell_type": "code",
   "execution_count": 2,
   "id": "8173b5b9",
   "metadata": {},
   "outputs": [
    {
     "data": {
      "text/plain": [
       "'hi'"
      ]
     },
     "execution_count": 2,
     "metadata": {},
     "output_type": "execute_result"
    }
   ],
   "source": [
    "\"h\" + \"i\""
   ]
  },
  {
   "cell_type": "code",
   "execution_count": 3,
   "id": "ac0b4bba",
   "metadata": {},
   "outputs": [
    {
     "data": {
      "text/plain": [
       "[1, 2, 3, 8]"
      ]
     },
     "execution_count": 3,
     "metadata": {},
     "output_type": "execute_result"
    }
   ],
   "source": [
    "[1,2,3] + [8]"
   ]
  },
  {
   "cell_type": "markdown",
   "id": "4af358a1",
   "metadata": {},
   "source": [
    "# user defined operator overloading"
   ]
  },
  {
   "cell_type": "code",
   "execution_count": 4,
   "id": "5ea68383",
   "metadata": {},
   "outputs": [],
   "source": [
    "class Account:\n",
    "    def __init__(self, name, bal):\n",
    "        self.name = name\n",
    "        self.bal = bal"
   ]
  },
  {
   "cell_type": "code",
   "execution_count": 5,
   "id": "31a8c530",
   "metadata": {},
   "outputs": [],
   "source": [
    "ac1 = Account(\"Ram\", 65845844)\n",
    "ac2 = Account(\"Shyam\", 5795298)"
   ]
  },
  {
   "cell_type": "code",
   "execution_count": 6,
   "id": "4a931d30",
   "metadata": {},
   "outputs": [
    {
     "ename": "TypeError",
     "evalue": "unsupported operand type(s) for +: 'Account' and 'Account'",
     "output_type": "error",
     "traceback": [
      "\u001b[0;31m---------------------------------------------------------------------------\u001b[0m",
      "\u001b[0;31mTypeError\u001b[0m                                 Traceback (most recent call last)",
      "\u001b[0;32m/tmp/ipykernel_14900/2197426.py\u001b[0m in \u001b[0;36m<module>\u001b[0;34m\u001b[0m\n\u001b[0;32m----> 1\u001b[0;31m \u001b[0mac1\u001b[0m \u001b[0;34m+\u001b[0m \u001b[0mac2\u001b[0m\u001b[0;34m\u001b[0m\u001b[0;34m\u001b[0m\u001b[0m\n\u001b[0m",
      "\u001b[0;31mTypeError\u001b[0m: unsupported operand type(s) for +: 'Account' and 'Account'"
     ]
    }
   ],
   "source": [
    "ac1 + ac2"
   ]
  },
  {
   "cell_type": "markdown",
   "id": "e290c1b2",
   "metadata": {},
   "source": [
    "`+` doesnot now how to add two Account object since Account is user defined class. \n",
    "However, we want to add balance of two Account object. Therefore, we need to overload the `+` operator. This can happen using dunders for add the dunder is `__add__()`"
   ]
  },
  {
   "cell_type": "code",
   "execution_count": 10,
   "id": "7b556dae",
   "metadata": {},
   "outputs": [],
   "source": [
    "class Account:\n",
    "    def __init__(self, name, bal):\n",
    "        self.name = name\n",
    "        self.bal = bal\n",
    "        \n",
    "    def __add__(self, otherobj):\n",
    "        return self.bal + otherobj.bal\n",
    "        "
   ]
  },
  {
   "cell_type": "code",
   "execution_count": 11,
   "id": "dd9fb241",
   "metadata": {},
   "outputs": [],
   "source": [
    "ac1 = Account(\"Ram\", 65845844)\n",
    "ac2 = Account(\"Shyam\", 5795298)"
   ]
  },
  {
   "cell_type": "code",
   "execution_count": 12,
   "id": "3b5c5a2b",
   "metadata": {},
   "outputs": [
    {
     "data": {
      "text/plain": [
       "71641142"
      ]
     },
     "execution_count": 12,
     "metadata": {},
     "output_type": "execute_result"
    }
   ],
   "source": [
    "ac1 + ac2"
   ]
  },
  {
   "cell_type": "code",
   "execution_count": 13,
   "id": "4e3fd33b",
   "metadata": {},
   "outputs": [
    {
     "ename": "AttributeError",
     "evalue": "'int' object has no attribute 'bal'",
     "output_type": "error",
     "traceback": [
      "\u001b[0;31m---------------------------------------------------------------------------\u001b[0m",
      "\u001b[0;31mAttributeError\u001b[0m                            Traceback (most recent call last)",
      "\u001b[0;32m/tmp/ipykernel_14900/352623678.py\u001b[0m in \u001b[0;36m<module>\u001b[0;34m\u001b[0m\n\u001b[0;32m----> 1\u001b[0;31m \u001b[0mac1\u001b[0m \u001b[0;34m+\u001b[0m \u001b[0;36m500\u001b[0m\u001b[0;34m\u001b[0m\u001b[0;34m\u001b[0m\u001b[0m\n\u001b[0m",
      "\u001b[0;32m/tmp/ipykernel_14900/3298886099.py\u001b[0m in \u001b[0;36m__add__\u001b[0;34m(self, otherobj)\u001b[0m\n\u001b[1;32m      5\u001b[0m \u001b[0;34m\u001b[0m\u001b[0m\n\u001b[1;32m      6\u001b[0m     \u001b[0;32mdef\u001b[0m \u001b[0m__add__\u001b[0m\u001b[0;34m(\u001b[0m\u001b[0mself\u001b[0m\u001b[0;34m,\u001b[0m \u001b[0motherobj\u001b[0m\u001b[0;34m)\u001b[0m\u001b[0;34m:\u001b[0m\u001b[0;34m\u001b[0m\u001b[0;34m\u001b[0m\u001b[0m\n\u001b[0;32m----> 7\u001b[0;31m         \u001b[0;32mreturn\u001b[0m \u001b[0mself\u001b[0m\u001b[0;34m.\u001b[0m\u001b[0mbal\u001b[0m \u001b[0;34m+\u001b[0m \u001b[0motherobj\u001b[0m\u001b[0;34m.\u001b[0m\u001b[0mbal\u001b[0m\u001b[0;34m\u001b[0m\u001b[0;34m\u001b[0m\u001b[0m\n\u001b[0m\u001b[1;32m      8\u001b[0m \u001b[0;34m\u001b[0m\u001b[0m\n",
      "\u001b[0;31mAttributeError\u001b[0m: 'int' object has no attribute 'bal'"
     ]
    }
   ],
   "source": [
    "ac1 + 500"
   ]
  },
  {
   "cell_type": "markdown",
   "id": "b1901e51",
   "metadata": {},
   "source": [
    "# Polymorphism can occur in inheritance by overriding the parent class method or function on child class\n"
   ]
  },
  {
   "cell_type": "code",
   "execution_count": 17,
   "id": "bbff8d45",
   "metadata": {},
   "outputs": [],
   "source": [
    "class A:\n",
    "    def display(self):\n",
    "        print(\"This is A's display\")\n",
    "        \n",
    "class B(A):\n",
    "    def __init__(self):\n",
    "        super().__init__()\n",
    "        \n",
    "    def display(self):\n",
    "        print(\"This is B's display\")"
   ]
  },
  {
   "cell_type": "code",
   "execution_count": 18,
   "id": "1aba86aa",
   "metadata": {},
   "outputs": [],
   "source": [
    "obj = B()"
   ]
  },
  {
   "cell_type": "code",
   "execution_count": 19,
   "id": "cca9fcea",
   "metadata": {},
   "outputs": [
    {
     "name": "stdout",
     "output_type": "stream",
     "text": [
      "This is B's display\n"
     ]
    }
   ],
   "source": [
    "obj.display()"
   ]
  },
  {
   "cell_type": "code",
   "execution_count": null,
   "id": "6d045838",
   "metadata": {},
   "outputs": [],
   "source": []
  }
 ],
 "metadata": {
  "kernelspec": {
   "display_name": "Python (reco)",
   "language": "python",
   "name": "my_environment_name"
  },
  "language_info": {
   "codemirror_mode": {
    "name": "ipython",
    "version": 3
   },
   "file_extension": ".py",
   "mimetype": "text/x-python",
   "name": "python",
   "nbconvert_exporter": "python",
   "pygments_lexer": "ipython3",
   "version": "3.9.13"
  }
 },
 "nbformat": 4,
 "nbformat_minor": 5
}
