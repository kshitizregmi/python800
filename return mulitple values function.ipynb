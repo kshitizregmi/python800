{
 "cells": [
  {
   "cell_type": "markdown",
   "id": "1108120f",
   "metadata": {},
   "source": [
    "# Return Multiple values from function — In tuples"
   ]
  },
  {
   "cell_type": "code",
   "execution_count": 1,
   "id": "ab4ea404",
   "metadata": {},
   "outputs": [],
   "source": [
    "def arithmatic_operation(x, y):\n",
    "    total = x + y\n",
    "    diff  = x - y\n",
    "    rem   = x % y\n",
    "    quotient = x / y\n",
    "    \n",
    "    return total, diff, rem, quotient\n"
   ]
  },
  {
   "cell_type": "code",
   "execution_count": 2,
   "id": "0a30a464",
   "metadata": {},
   "outputs": [
    {
     "data": {
      "text/plain": [
       "(10, 6, 0, 4.0)"
      ]
     },
     "execution_count": 2,
     "metadata": {},
     "output_type": "execute_result"
    }
   ],
   "source": [
    "arithmatic_operation(x = 8, y = 2)"
   ]
  },
  {
   "cell_type": "code",
   "execution_count": 3,
   "id": "3bb213a9",
   "metadata": {},
   "outputs": [],
   "source": [
    "# unpacking of tuples\n",
    "total, difference, remainder, quotient = arithmatic_operation(x = 8, y = 2)"
   ]
  },
  {
   "cell_type": "code",
   "execution_count": 4,
   "id": "207ac9a7",
   "metadata": {},
   "outputs": [
    {
     "data": {
      "text/plain": [
       "10"
      ]
     },
     "execution_count": 4,
     "metadata": {},
     "output_type": "execute_result"
    }
   ],
   "source": [
    "total"
   ]
  },
  {
   "cell_type": "code",
   "execution_count": 5,
   "id": "5f5e93a5",
   "metadata": {},
   "outputs": [
    {
     "data": {
      "text/plain": [
       "6"
      ]
     },
     "execution_count": 5,
     "metadata": {},
     "output_type": "execute_result"
    }
   ],
   "source": [
    "difference"
   ]
  },
  {
   "cell_type": "code",
   "execution_count": 7,
   "id": "3ef0f949",
   "metadata": {},
   "outputs": [
    {
     "data": {
      "text/plain": [
       "0"
      ]
     },
     "execution_count": 7,
     "metadata": {},
     "output_type": "execute_result"
    }
   ],
   "source": [
    "remainder"
   ]
  },
  {
   "cell_type": "code",
   "execution_count": 8,
   "id": "beffd167",
   "metadata": {},
   "outputs": [
    {
     "data": {
      "text/plain": [
       "4.0"
      ]
     },
     "execution_count": 8,
     "metadata": {},
     "output_type": "execute_result"
    }
   ],
   "source": [
    "quotient"
   ]
  },
  {
   "cell_type": "code",
   "execution_count": 9,
   "id": "79f0cdab",
   "metadata": {},
   "outputs": [],
   "source": [
    "a, b = (55,6) # unpacking of tuples"
   ]
  },
  {
   "cell_type": "code",
   "execution_count": 10,
   "id": "3bf2d954",
   "metadata": {},
   "outputs": [
    {
     "data": {
      "text/plain": [
       "55"
      ]
     },
     "execution_count": 10,
     "metadata": {},
     "output_type": "execute_result"
    }
   ],
   "source": [
    "a"
   ]
  },
  {
   "cell_type": "code",
   "execution_count": 11,
   "id": "9290aed7",
   "metadata": {},
   "outputs": [
    {
     "data": {
      "text/plain": [
       "6"
      ]
     },
     "execution_count": 11,
     "metadata": {},
     "output_type": "execute_result"
    }
   ],
   "source": [
    "b"
   ]
  },
  {
   "cell_type": "code",
   "execution_count": null,
   "id": "f34dcb3a",
   "metadata": {},
   "outputs": [],
   "source": []
  }
 ],
 "metadata": {
  "kernelspec": {
   "display_name": "Python 3 (ipykernel)",
   "language": "python",
   "name": "python3"
  },
  "language_info": {
   "codemirror_mode": {
    "name": "ipython",
    "version": 3
   },
   "file_extension": ".py",
   "mimetype": "text/x-python",
   "name": "python",
   "nbconvert_exporter": "python",
   "pygments_lexer": "ipython3",
   "version": "3.9.13"
  }
 },
 "nbformat": 4,
 "nbformat_minor": 5
}
