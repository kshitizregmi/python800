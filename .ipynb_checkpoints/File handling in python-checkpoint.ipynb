{
 "cells": [
  {
   "cell_type": "markdown",
   "id": "f50813c4",
   "metadata": {},
   "source": [
    "# open and read file "
   ]
  },
  {
   "cell_type": "code",
   "execution_count": 1,
   "id": "418ed92f",
   "metadata": {},
   "outputs": [],
   "source": [
    "f = open('read.txt', 'r')"
   ]
  },
  {
   "cell_type": "code",
   "execution_count": 2,
   "id": "b4139fad",
   "metadata": {},
   "outputs": [
    {
     "data": {
      "text/plain": [
       "<_io.TextIOWrapper name='read.txt' mode='r' encoding='UTF-8'>"
      ]
     },
     "execution_count": 2,
     "metadata": {},
     "output_type": "execute_result"
    }
   ],
   "source": [
    "f"
   ]
  },
  {
   "cell_type": "code",
   "execution_count": 3,
   "id": "6e2533e2",
   "metadata": {},
   "outputs": [],
   "source": [
    "text = f.read()"
   ]
  },
  {
   "cell_type": "code",
   "execution_count": 4,
   "id": "88ec7af3",
   "metadata": {},
   "outputs": [
    {
     "data": {
      "text/plain": [
       "'The move has, however, raised the hackles of Nepali officials and the private sector as this concession will not be applicable to the hydroelectricity exported by Nepal and result in Nepali power producers losing competitive edge in the Indian power market.\\n\\nDuring the South Asia (BBIN) Power Summit organised by the Confederation of Indian Industries (CII) earlier this month, representatives of the Nepal government and the private sector raised concerns about the possible impact of the Indian policy on Nepali hydropower export.\\n'"
      ]
     },
     "execution_count": 4,
     "metadata": {},
     "output_type": "execute_result"
    }
   ],
   "source": [
    "text"
   ]
  },
  {
   "cell_type": "code",
   "execution_count": 5,
   "id": "ec6e2554",
   "metadata": {},
   "outputs": [],
   "source": [
    "f.close()"
   ]
  },
  {
   "cell_type": "code",
   "execution_count": 6,
   "id": "2046cbc3",
   "metadata": {},
   "outputs": [],
   "source": [
    "with open('read.txt', 'r') as f:\n",
    "    text = f.read()"
   ]
  },
  {
   "cell_type": "code",
   "execution_count": 7,
   "id": "c95df639",
   "metadata": {},
   "outputs": [
    {
     "data": {
      "text/plain": [
       "'The move has, however, raised the hackles of Nepali officials and the private sector as this concession will not be applicable to the hydroelectricity exported by Nepal and result in Nepali power producers losing competitive edge in the Indian power market.\\n\\nDuring the South Asia (BBIN) Power Summit organised by the Confederation of Indian Industries (CII) earlier this month, representatives of the Nepal government and the private sector raised concerns about the possible impact of the Indian policy on Nepali hydropower export.\\n'"
      ]
     },
     "execution_count": 7,
     "metadata": {},
     "output_type": "execute_result"
    }
   ],
   "source": [
    "text"
   ]
  },
  {
   "cell_type": "code",
   "execution_count": 8,
   "id": "22f9f44b",
   "metadata": {},
   "outputs": [],
   "source": [
    "with open('read.txt', 'r') as f:\n",
    "    text = f.readlines()"
   ]
  },
  {
   "cell_type": "code",
   "execution_count": 9,
   "id": "94b4f45c",
   "metadata": {},
   "outputs": [
    {
     "data": {
      "text/plain": [
       "['The move has, however, raised the hackles of Nepali officials and the private sector as this concession will not be applicable to the hydroelectricity exported by Nepal and result in Nepali power producers losing competitive edge in the Indian power market.\\n',\n",
       " '\\n',\n",
       " 'During the South Asia (BBIN) Power Summit organised by the Confederation of Indian Industries (CII) earlier this month, representatives of the Nepal government and the private sector raised concerns about the possible impact of the Indian policy on Nepali hydropower export.\\n']"
      ]
     },
     "execution_count": 9,
     "metadata": {},
     "output_type": "execute_result"
    }
   ],
   "source": [
    "text"
   ]
  },
  {
   "cell_type": "code",
   "execution_count": 10,
   "id": "d45a2332",
   "metadata": {},
   "outputs": [],
   "source": [
    "with open('read.txt', 'r') as f:\n",
    "    text = f.readline()"
   ]
  },
  {
   "cell_type": "code",
   "execution_count": 11,
   "id": "1a8876f5",
   "metadata": {},
   "outputs": [
    {
     "data": {
      "text/plain": [
       "'The move has, however, raised the hackles of Nepali officials and the private sector as this concession will not be applicable to the hydroelectricity exported by Nepal and result in Nepali power producers losing competitive edge in the Indian power market.\\n'"
      ]
     },
     "execution_count": 11,
     "metadata": {},
     "output_type": "execute_result"
    }
   ],
   "source": [
    "text"
   ]
  },
  {
   "cell_type": "markdown",
   "id": "f1665d77",
   "metadata": {},
   "source": [
    "# write mode"
   ]
  },
  {
   "cell_type": "code",
   "execution_count": 12,
   "id": "54dae73c",
   "metadata": {},
   "outputs": [],
   "source": [
    "with open(\"navakokitab.txt\", 'w') as f: # writefile\n",
    "    f.write(\"Yo navako kitab lekhya ho hai.\")"
   ]
  },
  {
   "cell_type": "code",
   "execution_count": 13,
   "id": "bc10ec6c",
   "metadata": {},
   "outputs": [
    {
     "data": {
      "text/plain": [
       "'Yo navako kitab lekhya ho hai.'"
      ]
     },
     "execution_count": 13,
     "metadata": {},
     "output_type": "execute_result"
    }
   ],
   "source": [
    "with open('navakokitab.txt', 'r') as f: # read file\n",
    "    text = f.read()\n",
    "    \n",
    "text"
   ]
  },
  {
   "cell_type": "code",
   "execution_count": 14,
   "id": "9ec83d54",
   "metadata": {},
   "outputs": [],
   "source": [
    "with open(\"navakokitab.txt\", 'w') as f:\n",
    "    f.write(\"\"\"\n",
    "    navakokitab chai pailei exist garxa \n",
    "    tara write mode le naya file banauxa ani purano hatxa\n",
    "    \"\"\")"
   ]
  },
  {
   "cell_type": "code",
   "execution_count": 16,
   "id": "8ae16f80",
   "metadata": {},
   "outputs": [
    {
     "name": "stdout",
     "output_type": "stream",
     "text": [
      "\n",
      "    navakokitab chai pailei exist garxa \n",
      "    tara write mode le naya file banauxa ani purano hatxa\n",
      "    \n"
     ]
    }
   ],
   "source": [
    "with open('navakokitab.txt', 'r') as f: # read file\n",
    "    text = f.read()\n",
    "    \n",
    "print(text)"
   ]
  },
  {
   "cell_type": "markdown",
   "id": "f0e0052c",
   "metadata": {},
   "source": [
    "# append mode\n",
    "\n",
    "* If file exist appends on EOL on file.\n",
    "* if file doesnot exist it creates it and writes on file"
   ]
  },
  {
   "cell_type": "code",
   "execution_count": 21,
   "id": "b5f4300d",
   "metadata": {},
   "outputs": [],
   "source": [
    "with open('newfile.txt', 'a') as f:\n",
    "    f.write(\"Append mode creates a new file if doesn't exist\")"
   ]
  },
  {
   "cell_type": "code",
   "execution_count": 22,
   "id": "56f42636",
   "metadata": {},
   "outputs": [
    {
     "name": "stdout",
     "output_type": "stream",
     "text": [
      "Append mode creates a new file if doesn't exist\n"
     ]
    }
   ],
   "source": [
    "with open(\"newfile.txt\", 'r') as f:\n",
    "    print(f.read())"
   ]
  },
  {
   "cell_type": "code",
   "execution_count": 23,
   "id": "015783e5",
   "metadata": {},
   "outputs": [],
   "source": [
    "with open(\"newfile.txt\", 'a') as f:\n",
    "    f.write(\"newfile.txt already exists append mode appends data on EOL\")"
   ]
  },
  {
   "cell_type": "code",
   "execution_count": 24,
   "id": "a21fcb00",
   "metadata": {},
   "outputs": [
    {
     "name": "stdout",
     "output_type": "stream",
     "text": [
      "Append mode creates a new file if doesn't existnewfile.txt already exists append mode appends data on EOL\n"
     ]
    }
   ],
   "source": [
    "with open('newfile.txt', 'r') as f:\n",
    "    print(f.read())"
   ]
  },
  {
   "cell_type": "markdown",
   "id": "2f8aab6b",
   "metadata": {},
   "source": [
    "# File handling using exception handling"
   ]
  },
  {
   "cell_type": "code",
   "execution_count": 25,
   "id": "2b65c170",
   "metadata": {},
   "outputs": [
    {
     "ename": "FileNotFoundError",
     "evalue": "[Errno 2] No such file or directory: 'python800.txt'",
     "output_type": "error",
     "traceback": [
      "\u001b[0;31m---------------------------------------------------------------------------\u001b[0m",
      "\u001b[0;31mFileNotFoundError\u001b[0m                         Traceback (most recent call last)",
      "Input \u001b[0;32mIn [25]\u001b[0m, in \u001b[0;36m<cell line: 1>\u001b[0;34m()\u001b[0m\n\u001b[0;32m----> 1\u001b[0m \u001b[38;5;28;01mwith\u001b[39;00m \u001b[38;5;28;43mopen\u001b[39;49m\u001b[43m(\u001b[49m\u001b[38;5;124;43m\"\u001b[39;49m\u001b[38;5;124;43mpython800.txt\u001b[39;49m\u001b[38;5;124;43m\"\u001b[39;49m\u001b[43m,\u001b[49m\u001b[43m \u001b[49m\u001b[38;5;124;43m'\u001b[39;49m\u001b[38;5;124;43mr\u001b[39;49m\u001b[38;5;124;43m'\u001b[39;49m\u001b[43m)\u001b[49m \u001b[38;5;28;01mas\u001b[39;00m f:\n\u001b[1;32m      2\u001b[0m     text \u001b[38;5;241m=\u001b[39m f\u001b[38;5;241m.\u001b[39mread()\n",
      "\u001b[0;31mFileNotFoundError\u001b[0m: [Errno 2] No such file or directory: 'python800.txt'"
     ]
    }
   ],
   "source": [
    "with open(\"python800.txt\", 'r') as f:\n",
    "    text = f.read()"
   ]
  },
  {
   "cell_type": "code",
   "execution_count": 28,
   "id": "5acb2b02",
   "metadata": {},
   "outputs": [
    {
     "name": "stdout",
     "output_type": "stream",
     "text": [
      "[Errno 2] No such file or directory: 'python800.txt'\n",
      "Creating new file python800.txt\n",
      "This statement is executed no mater what\n",
      "It is used to close a file or flush the memory\n"
     ]
    }
   ],
   "source": [
    "try:\n",
    "    with open(\"python800.txt\", 'r') as f:\n",
    "        text = f.read()\n",
    "    print(\"File read successful\")\n",
    "except FileNotFoundError as e:\n",
    "    print(str(e))\n",
    "    print(\"Creating new file python800.txt\")\n",
    "    with open('python800.txt', 'w') as f:\n",
    "        f.write(\"This file didn't exist we created it because excption occured\")\n",
    "\n",
    "finally:\n",
    "    print(\"This statement is executed no mater what\")\n",
    "    print(\"It is used to close a file or flush the memory\")"
   ]
  },
  {
   "cell_type": "markdown",
   "id": "fd81fc87",
   "metadata": {},
   "source": [
    "# how to delete file in python"
   ]
  },
  {
   "cell_type": "code",
   "execution_count": 29,
   "id": "4490b7a3",
   "metadata": {},
   "outputs": [],
   "source": [
    "import os"
   ]
  },
  {
   "cell_type": "code",
   "execution_count": 31,
   "id": "fe83e8a4",
   "metadata": {},
   "outputs": [
    {
     "data": {
      "text/plain": [
       "True"
      ]
     },
     "execution_count": 31,
     "metadata": {},
     "output_type": "execute_result"
    }
   ],
   "source": [
    "os.path.exists('python800.txt')"
   ]
  },
  {
   "cell_type": "code",
   "execution_count": 32,
   "id": "804cec18",
   "metadata": {},
   "outputs": [
    {
     "name": "stdout",
     "output_type": "stream",
     "text": [
      "File exist\n",
      "File removed\n"
     ]
    }
   ],
   "source": [
    "if os.path.exists('python800.txt'):\n",
    "    print(\"File exist\")\n",
    "    os.remove('python800.txt')\n",
    "    print(\"File removed\")\n",
    "    "
   ]
  },
  {
   "cell_type": "code",
   "execution_count": null,
   "id": "52b1275c",
   "metadata": {},
   "outputs": [],
   "source": []
  }
 ],
 "metadata": {
  "kernelspec": {
   "display_name": "Python 3 (ipykernel)",
   "language": "python",
   "name": "python3"
  },
  "language_info": {
   "codemirror_mode": {
    "name": "ipython",
    "version": 3
   },
   "file_extension": ".py",
   "mimetype": "text/x-python",
   "name": "python",
   "nbconvert_exporter": "python",
   "pygments_lexer": "ipython3",
   "version": "3.8.10"
  }
 },
 "nbformat": 4,
 "nbformat_minor": 5
}
