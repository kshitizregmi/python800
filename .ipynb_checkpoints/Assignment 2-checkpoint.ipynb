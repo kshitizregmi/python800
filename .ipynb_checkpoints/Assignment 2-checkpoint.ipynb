{
 "cells": [
  {
   "cell_type": "markdown",
   "id": "e34fcefd",
   "metadata": {},
   "source": [
    "# Assignment: The volume of a sphere with radius r is 4/3 π r3. What is the volume of a sphere with radius 5?\n"
   ]
  },
  {
   "cell_type": "code",
   "execution_count": 2,
   "id": "d473afea",
   "metadata": {},
   "outputs": [
    {
     "name": "stdout",
     "output_type": "stream",
     "text": [
      "Enter radius(r)= 5\n",
      "The volume of sphere is 523.33\n"
     ]
    }
   ],
   "source": [
    "r = float(input(\"Enter radius(r)= \"))\n",
    "\n",
    "    \n",
    "PI = 3.14\n",
    "\n",
    "volume = 4/3 * PI * r ** 3\n",
    "\n",
    "print(f\"The volume of sphere is {round(volume, 2)}\")"
   ]
  },
  {
   "cell_type": "code",
   "execution_count": 3,
   "id": "56200e49",
   "metadata": {},
   "outputs": [
    {
     "name": "stdout",
     "output_type": "stream",
     "text": [
      "The volume of sphere is 523.3333333333334\n"
     ]
    }
   ],
   "source": [
    "print(f\"The volume of sphere is {volume}\")"
   ]
  },
  {
   "cell_type": "code",
   "execution_count": 4,
   "id": "a54c1fb2",
   "metadata": {},
   "outputs": [
    {
     "name": "stdout",
     "output_type": "stream",
     "text": [
      "The volume of sphere is 523.3333333333334\n"
     ]
    }
   ],
   "source": [
    "print(\"The volume of sphere is {}\".format(volume))"
   ]
  },
  {
   "cell_type": "code",
   "execution_count": 5,
   "id": "0cf815fc",
   "metadata": {},
   "outputs": [],
   "source": [
    "# wap if given input is 10 or not if 10 print"
   ]
  },
  {
   "cell_type": "code",
   "execution_count": 6,
   "id": "a793ed30",
   "metadata": {},
   "outputs": [
    {
     "name": "stdout",
     "output_type": "stream",
     "text": [
      "Enter a number 10\n",
      "The number is 10\n"
     ]
    }
   ],
   "source": [
    "num = int(input(\"Enter a number \"))\n",
    "if num == 10:\n",
    "    print(\"The number is 10\")\n",
    "else:\n",
    "    print(\"The number is not 10\")"
   ]
  },
  {
   "cell_type": "code",
   "execution_count": 7,
   "id": "85a159f0",
   "metadata": {},
   "outputs": [
    {
     "name": "stdout",
     "output_type": "stream",
     "text": [
      "Enter your age: 22\n",
      "Congratulations you can vote\n"
     ]
    }
   ],
   "source": [
    "# eigible vote or not\n",
    "age = int(input(\"Enter your age: \"))\n",
    "if age >= 15:\n",
    "    print(\"Congratulations you can vote\")\n",
    "    \n",
    "else:\n",
    "    print(\"Sorry! you can't vote\")"
   ]
  },
  {
   "cell_type": "code",
   "execution_count": null,
   "id": "43dab232",
   "metadata": {},
   "outputs": [],
   "source": [
    "# multiple of 5"
   ]
  },
  {
   "cell_type": "code",
   "execution_count": 8,
   "id": "7d203658",
   "metadata": {},
   "outputs": [
    {
     "name": "stdout",
     "output_type": "stream",
     "text": [
      "Enter a number 5\n",
      "Hello\n"
     ]
    }
   ],
   "source": [
    "num = int(input(\"Enter a number \"))\n",
    "\n",
    "if num % 5 == 0:\n",
    "    print(\"Hello\")\n",
    "else:\n",
    "    print(\"Bye\")"
   ]
  },
  {
   "cell_type": "code",
   "execution_count": null,
   "id": "1d7bb230",
   "metadata": {},
   "outputs": [],
   "source": []
  }
 ],
 "metadata": {
  "kernelspec": {
   "display_name": "Python (reco)",
   "language": "python",
   "name": "my_environment_name"
  },
  "language_info": {
   "codemirror_mode": {
    "name": "ipython",
    "version": 3
   },
   "file_extension": ".py",
   "mimetype": "text/x-python",
   "name": "python",
   "nbconvert_exporter": "python",
   "pygments_lexer": "ipython3",
   "version": "3.9.13"
  }
 },
 "nbformat": 4,
 "nbformat_minor": 5
}
