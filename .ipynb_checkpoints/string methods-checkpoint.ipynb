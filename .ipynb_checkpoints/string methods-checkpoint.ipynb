{
 "cells": [
  {
   "cell_type": "code",
   "execution_count": 1,
   "id": "597f0c1f",
   "metadata": {},
   "outputs": [],
   "source": [
    "text = \"Leonel Messi is a GOAT\""
   ]
  },
  {
   "cell_type": "code",
   "execution_count": 3,
   "id": "6558bc21",
   "metadata": {},
   "outputs": [
    {
     "data": {
      "text/plain": [
       "'Leonel'"
      ]
     },
     "execution_count": 3,
     "metadata": {},
     "output_type": "execute_result"
    }
   ],
   "source": [
    "text[0:6]"
   ]
  },
  {
   "cell_type": "code",
   "execution_count": 4,
   "id": "f1e5bc06",
   "metadata": {},
   "outputs": [
    {
     "data": {
      "text/plain": [
       "'onel Messi is a GOAT'"
      ]
     },
     "execution_count": 4,
     "metadata": {},
     "output_type": "execute_result"
    }
   ],
   "source": [
    "text[2:]"
   ]
  },
  {
   "cell_type": "code",
   "execution_count": 5,
   "id": "0ff0be80",
   "metadata": {},
   "outputs": [
    {
     "data": {
      "text/plain": [
       "'Le'"
      ]
     },
     "execution_count": 5,
     "metadata": {},
     "output_type": "execute_result"
    }
   ],
   "source": [
    "text[:2]"
   ]
  },
  {
   "cell_type": "code",
   "execution_count": 7,
   "id": "d6faa966",
   "metadata": {},
   "outputs": [
    {
     "data": {
      "text/plain": [
       "'Me'"
      ]
     },
     "execution_count": 7,
     "metadata": {},
     "output_type": "execute_result"
    }
   ],
   "source": [
    "text[7:9]"
   ]
  },
  {
   "cell_type": "code",
   "execution_count": 9,
   "id": "86efe6a5",
   "metadata": {},
   "outputs": [
    {
     "data": {
      "text/plain": [
       "'Loe '"
      ]
     },
     "execution_count": 9,
     "metadata": {},
     "output_type": "execute_result"
    }
   ],
   "source": [
    "text[0:7:2]"
   ]
  },
  {
   "cell_type": "code",
   "execution_count": 10,
   "id": "193f3371",
   "metadata": {},
   "outputs": [],
   "source": [
    "name = \"kshitiz\""
   ]
  },
  {
   "cell_type": "code",
   "execution_count": 11,
   "id": "d0647e3d",
   "metadata": {},
   "outputs": [
    {
     "data": {
      "text/plain": [
       "'kshitiz'"
      ]
     },
     "execution_count": 11,
     "metadata": {},
     "output_type": "execute_result"
    }
   ],
   "source": [
    "name"
   ]
  },
  {
   "cell_type": "code",
   "execution_count": 12,
   "id": "30f1f6ca",
   "metadata": {},
   "outputs": [
    {
     "data": {
      "text/plain": [
       "'kshitizkshitiz'"
      ]
     },
     "execution_count": 12,
     "metadata": {},
     "output_type": "execute_result"
    }
   ],
   "source": [
    "name + name # concat"
   ]
  },
  {
   "cell_type": "code",
   "execution_count": 13,
   "id": "20f7ec00",
   "metadata": {},
   "outputs": [
    {
     "data": {
      "text/plain": [
       "'kshitizkshitiz'"
      ]
     },
     "execution_count": 13,
     "metadata": {},
     "output_type": "execute_result"
    }
   ],
   "source": [
    "name * 2 "
   ]
  },
  {
   "cell_type": "markdown",
   "id": "1cbddf82",
   "metadata": {},
   "source": [
    "# string methods"
   ]
  },
  {
   "cell_type": "code",
   "execution_count": 14,
   "id": "e6099de5",
   "metadata": {},
   "outputs": [],
   "source": [
    "name = \"k$hitiz\""
   ]
  },
  {
   "cell_type": "code",
   "execution_count": 15,
   "id": "b594cb51",
   "metadata": {},
   "outputs": [
    {
     "data": {
      "text/plain": [
       "'k$hitiz'"
      ]
     },
     "execution_count": 15,
     "metadata": {},
     "output_type": "execute_result"
    }
   ],
   "source": [
    "name"
   ]
  },
  {
   "cell_type": "code",
   "execution_count": 16,
   "id": "7b6d4d0e",
   "metadata": {},
   "outputs": [
    {
     "data": {
      "text/plain": [
       "'$'"
      ]
     },
     "execution_count": 16,
     "metadata": {},
     "output_type": "execute_result"
    }
   ],
   "source": [
    "name[1]"
   ]
  },
  {
   "cell_type": "code",
   "execution_count": 17,
   "id": "feb8dcf8",
   "metadata": {},
   "outputs": [
    {
     "ename": "TypeError",
     "evalue": "'str' object does not support item assignment",
     "output_type": "error",
     "traceback": [
      "\u001b[0;31m---------------------------------------------------------------------------\u001b[0m",
      "\u001b[0;31mTypeError\u001b[0m                                 Traceback (most recent call last)",
      "\u001b[0;32m/tmp/ipykernel_8503/2744130990.py\u001b[0m in \u001b[0;36m<module>\u001b[0;34m\u001b[0m\n\u001b[0;32m----> 1\u001b[0;31m \u001b[0mname\u001b[0m\u001b[0;34m[\u001b[0m\u001b[0;36m1\u001b[0m\u001b[0;34m]\u001b[0m \u001b[0;34m=\u001b[0m \u001b[0;34m's'\u001b[0m\u001b[0;34m\u001b[0m\u001b[0;34m\u001b[0m\u001b[0m\n\u001b[0m",
      "\u001b[0;31mTypeError\u001b[0m: 'str' object does not support item assignment"
     ]
    }
   ],
   "source": [
    "name[1] = 's' # python string are immutable"
   ]
  },
  {
   "cell_type": "markdown",
   "id": "8fb0b3f4",
   "metadata": {},
   "source": [
    "Immutable: same memory location ma update garna mildaina"
   ]
  },
  {
   "cell_type": "markdown",
   "id": "dddba57f",
   "metadata": {},
   "source": [
    "# .replace() method in string"
   ]
  },
  {
   "cell_type": "code",
   "execution_count": 23,
   "id": "84bd498c",
   "metadata": {},
   "outputs": [],
   "source": [
    "name = 'k$hitiz'"
   ]
  },
  {
   "cell_type": "code",
   "execution_count": 24,
   "id": "d1963a67",
   "metadata": {},
   "outputs": [
    {
     "data": {
      "text/plain": [
       "'kshitiz'"
      ]
     },
     "execution_count": 24,
     "metadata": {},
     "output_type": "execute_result"
    }
   ],
   "source": [
    "name.replace(\"$\", 's')"
   ]
  },
  {
   "cell_type": "code",
   "execution_count": 25,
   "id": "93e77265",
   "metadata": {},
   "outputs": [
    {
     "data": {
      "text/plain": [
       "'k$hitiz'"
      ]
     },
     "execution_count": 25,
     "metadata": {},
     "output_type": "execute_result"
    }
   ],
   "source": [
    "name"
   ]
  },
  {
   "cell_type": "code",
   "execution_count": 26,
   "id": "ff256745",
   "metadata": {},
   "outputs": [],
   "source": [
    "name = name.replace(\"$\", 's')"
   ]
  },
  {
   "cell_type": "code",
   "execution_count": 27,
   "id": "ec8fff1a",
   "metadata": {},
   "outputs": [
    {
     "data": {
      "text/plain": [
       "'kshitiz'"
      ]
     },
     "execution_count": 27,
     "metadata": {},
     "output_type": "execute_result"
    }
   ],
   "source": [
    "name"
   ]
  },
  {
   "cell_type": "code",
   "execution_count": 28,
   "id": "479107cf",
   "metadata": {},
   "outputs": [],
   "source": [
    "name = 'k$hitiz $ '"
   ]
  },
  {
   "cell_type": "code",
   "execution_count": 29,
   "id": "b7301423",
   "metadata": {},
   "outputs": [
    {
     "data": {
      "text/plain": [
       "'kshitiz s '"
      ]
     },
     "execution_count": 29,
     "metadata": {},
     "output_type": "execute_result"
    }
   ],
   "source": [
    "name.replace(\"$\", 's') # sabai occurances lai replace garxa"
   ]
  },
  {
   "cell_type": "code",
   "execution_count": 30,
   "id": "bac27635",
   "metadata": {},
   "outputs": [
    {
     "data": {
      "text/plain": [
       "'k$hitej $ '"
      ]
     },
     "execution_count": 30,
     "metadata": {},
     "output_type": "execute_result"
    }
   ],
   "source": [
    "name.replace('tiz', 'tej')"
   ]
  },
  {
   "cell_type": "markdown",
   "id": "751adf8e",
   "metadata": {},
   "source": [
    "# .upper() and .lower()"
   ]
  },
  {
   "cell_type": "code",
   "execution_count": 33,
   "id": "6d377d2b",
   "metadata": {},
   "outputs": [
    {
     "name": "stdout",
     "output_type": "stream",
     "text": [
      "Enter a msg: HI EVERYONE\n",
      "hi everyone\n"
     ]
    }
   ],
   "source": [
    "msg = input(\"Enter a msg: \")\n",
    "msg = msg.lower() # convert string to lowercase\n",
    "print(msg)"
   ]
  },
  {
   "cell_type": "code",
   "execution_count": 34,
   "id": "89f14726",
   "metadata": {},
   "outputs": [
    {
     "name": "stdout",
     "output_type": "stream",
     "text": [
      "Enter a msg: hi everyone\n",
      "HI EVERYONE\n"
     ]
    }
   ],
   "source": [
    "msg = input(\"Enter a msg: \")\n",
    "msg = msg.upper() # convert text to uppercase\n",
    "print(msg)"
   ]
  },
  {
   "cell_type": "markdown",
   "id": "549e68ae",
   "metadata": {},
   "source": [
    "# .split() method in strings"
   ]
  },
  {
   "cell_type": "code",
   "execution_count": 39,
   "id": "a889f169",
   "metadata": {},
   "outputs": [],
   "source": [
    "txt = \"Mbappe is a Legend.\""
   ]
  },
  {
   "cell_type": "code",
   "execution_count": 40,
   "id": "d4439682",
   "metadata": {},
   "outputs": [],
   "source": [
    "words = txt.split(\" \")"
   ]
  },
  {
   "cell_type": "code",
   "execution_count": 41,
   "id": "a7988bb6",
   "metadata": {},
   "outputs": [
    {
     "data": {
      "text/plain": [
       "['Mbappe', 'is', 'a', 'Legend.']"
      ]
     },
     "execution_count": 41,
     "metadata": {},
     "output_type": "execute_result"
    }
   ],
   "source": [
    "words"
   ]
  },
  {
   "cell_type": "code",
   "execution_count": 42,
   "id": "c1eb68d4",
   "metadata": {},
   "outputs": [
    {
     "data": {
      "text/plain": [
       "list"
      ]
     },
     "execution_count": 42,
     "metadata": {},
     "output_type": "execute_result"
    }
   ],
   "source": [
    "type(words)"
   ]
  },
  {
   "cell_type": "markdown",
   "id": "518e5a98",
   "metadata": {},
   "source": [
    "# .strip(), .stripe(), .rstripe()"
   ]
  },
  {
   "cell_type": "code",
   "execution_count": 48,
   "id": "c170fc32",
   "metadata": {},
   "outputs": [],
   "source": [
    "text = \" This is fun. \""
   ]
  },
  {
   "cell_type": "code",
   "execution_count": 49,
   "id": "0c4d9f30",
   "metadata": {},
   "outputs": [
    {
     "data": {
      "text/plain": [
       "'This is fun.'"
      ]
     },
     "execution_count": 49,
     "metadata": {},
     "output_type": "execute_result"
    }
   ],
   "source": [
    "text.strip() # removes extra spaces before and end of the text"
   ]
  },
  {
   "cell_type": "code",
   "execution_count": 50,
   "id": "cee1b060",
   "metadata": {},
   "outputs": [
    {
     "data": {
      "text/plain": [
       "'This is fun. '"
      ]
     },
     "execution_count": 50,
     "metadata": {},
     "output_type": "execute_result"
    }
   ],
   "source": [
    "text.lstrip() # removes all spaces in left of string"
   ]
  },
  {
   "cell_type": "code",
   "execution_count": 52,
   "id": "900fffad",
   "metadata": {},
   "outputs": [
    {
     "data": {
      "text/plain": [
       "' This is fun.'"
      ]
     },
     "execution_count": 52,
     "metadata": {},
     "output_type": "execute_result"
    }
   ],
   "source": [
    "text.rstrip() # removes all spaces on the right of string"
   ]
  },
  {
   "cell_type": "markdown",
   "id": "e99507a9",
   "metadata": {},
   "source": [
    "# .join() method is string"
   ]
  },
  {
   "cell_type": "code",
   "execution_count": 62,
   "id": "6b99795a",
   "metadata": {},
   "outputs": [],
   "source": [
    "txt = \"I love Football.\""
   ]
  },
  {
   "cell_type": "code",
   "execution_count": 63,
   "id": "e23af423",
   "metadata": {},
   "outputs": [
    {
     "data": {
      "text/plain": [
       "'I love Football.'"
      ]
     },
     "execution_count": 63,
     "metadata": {},
     "output_type": "execute_result"
    }
   ],
   "source": [
    "txt"
   ]
  },
  {
   "cell_type": "code",
   "execution_count": 64,
   "id": "209577b0",
   "metadata": {},
   "outputs": [],
   "source": [
    "txt = txt.split()"
   ]
  },
  {
   "cell_type": "code",
   "execution_count": 65,
   "id": "af7ea410",
   "metadata": {},
   "outputs": [
    {
     "data": {
      "text/plain": [
       "['I', 'love', 'Football.']"
      ]
     },
     "execution_count": 65,
     "metadata": {},
     "output_type": "execute_result"
    }
   ],
   "source": [
    "txt"
   ]
  },
  {
   "cell_type": "code",
   "execution_count": 66,
   "id": "d3dde156",
   "metadata": {},
   "outputs": [
    {
     "data": {
      "text/plain": [
       "'I love Football.'"
      ]
     },
     "execution_count": 66,
     "metadata": {},
     "output_type": "execute_result"
    }
   ],
   "source": [
    "\" \".join(txt)"
   ]
  },
  {
   "cell_type": "code",
   "execution_count": null,
   "id": "89c71558",
   "metadata": {},
   "outputs": [],
   "source": []
  }
 ],
 "metadata": {
  "kernelspec": {
   "display_name": "Python (reco)",
   "language": "python",
   "name": "my_environment_name"
  },
  "language_info": {
   "codemirror_mode": {
    "name": "ipython",
    "version": 3
   },
   "file_extension": ".py",
   "mimetype": "text/x-python",
   "name": "python",
   "nbconvert_exporter": "python",
   "pygments_lexer": "ipython3",
   "version": "3.9.13"
  }
 },
 "nbformat": 4,
 "nbformat_minor": 5
}
