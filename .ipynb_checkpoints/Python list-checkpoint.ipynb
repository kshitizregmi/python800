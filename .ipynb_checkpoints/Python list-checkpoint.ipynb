{
 "cells": [
  {
   "cell_type": "markdown",
   "id": "b86d5154",
   "metadata": {},
   "source": [
    "# list -- collection of item under one variable name\n"
   ]
  },
  {
   "cell_type": "code",
   "execution_count": 1,
   "id": "1184dfab",
   "metadata": {},
   "outputs": [],
   "source": [
    "cars = ['Mercedes', 'BMW', \"Audi\"]"
   ]
  },
  {
   "cell_type": "code",
   "execution_count": 2,
   "id": "06410fe0",
   "metadata": {},
   "outputs": [
    {
     "data": {
      "text/plain": [
       "['Mercedes', 'BMW', 'Audi']"
      ]
     },
     "execution_count": 2,
     "metadata": {},
     "output_type": "execute_result"
    }
   ],
   "source": [
    "cars"
   ]
  },
  {
   "cell_type": "code",
   "execution_count": 3,
   "id": "f905027b",
   "metadata": {},
   "outputs": [
    {
     "data": {
      "text/plain": [
       "list"
      ]
     },
     "execution_count": 3,
     "metadata": {},
     "output_type": "execute_result"
    }
   ],
   "source": [
    "type(cars)"
   ]
  },
  {
   "cell_type": "markdown",
   "id": "c5365e06",
   "metadata": {},
   "source": [
    "# Creating empty list in python"
   ]
  },
  {
   "cell_type": "code",
   "execution_count": 4,
   "id": "d2d2a42d",
   "metadata": {},
   "outputs": [],
   "source": [
    "empty_list = [] # empty list"
   ]
  },
  {
   "cell_type": "code",
   "execution_count": 5,
   "id": "18918496",
   "metadata": {},
   "outputs": [
    {
     "data": {
      "text/plain": [
       "[]"
      ]
     },
     "execution_count": 5,
     "metadata": {},
     "output_type": "execute_result"
    }
   ],
   "source": [
    "empty_list"
   ]
  },
  {
   "cell_type": "code",
   "execution_count": 6,
   "id": "1595f86b",
   "metadata": {},
   "outputs": [
    {
     "data": {
      "text/plain": [
       "list"
      ]
     },
     "execution_count": 6,
     "metadata": {},
     "output_type": "execute_result"
    }
   ],
   "source": [
    "type(empty_list)"
   ]
  },
  {
   "cell_type": "code",
   "execution_count": 9,
   "id": "88f05621",
   "metadata": {},
   "outputs": [],
   "source": [
    "new_empty_list = list() # create empty list using list() constructor"
   ]
  },
  {
   "cell_type": "code",
   "execution_count": 10,
   "id": "fa1e76c5",
   "metadata": {},
   "outputs": [
    {
     "data": {
      "text/plain": [
       "list"
      ]
     },
     "execution_count": 10,
     "metadata": {},
     "output_type": "execute_result"
    }
   ],
   "source": [
    "type(new_empty_list)"
   ]
  },
  {
   "cell_type": "code",
   "execution_count": 11,
   "id": "41b7151f",
   "metadata": {},
   "outputs": [
    {
     "data": {
      "text/plain": [
       "[]"
      ]
     },
     "execution_count": 11,
     "metadata": {},
     "output_type": "execute_result"
    }
   ],
   "source": [
    "new_empty_list"
   ]
  },
  {
   "cell_type": "markdown",
   "id": "34d99232",
   "metadata": {},
   "source": [
    "# list can store mutliple data type "
   ]
  },
  {
   "cell_type": "code",
   "execution_count": 12,
   "id": "c9a94a41",
   "metadata": {},
   "outputs": [],
   "source": [
    "list1 = [1, 1.6, True, \"computer\"]"
   ]
  },
  {
   "cell_type": "code",
   "execution_count": 13,
   "id": "5738bffb",
   "metadata": {},
   "outputs": [
    {
     "data": {
      "text/plain": [
       "[1, 1.6, True, 'computer']"
      ]
     },
     "execution_count": 13,
     "metadata": {},
     "output_type": "execute_result"
    }
   ],
   "source": [
    "list1"
   ]
  },
  {
   "cell_type": "markdown",
   "id": "8be259bc",
   "metadata": {},
   "source": [
    "# indexing and slicing in list"
   ]
  },
  {
   "cell_type": "code",
   "execution_count": 14,
   "id": "4f53d391",
   "metadata": {},
   "outputs": [],
   "source": [
    "cars = ['BMW', 'Mercedes', \"Audi\", 'Nissan', 'Tata', 'Tesla']"
   ]
  },
  {
   "cell_type": "code",
   "execution_count": 15,
   "id": "5df6f2b1",
   "metadata": {},
   "outputs": [
    {
     "data": {
      "text/plain": [
       "['BMW', 'Mercedes', 'Audi', 'Nissan', 'Tata', 'Tesla']"
      ]
     },
     "execution_count": 15,
     "metadata": {},
     "output_type": "execute_result"
    }
   ],
   "source": [
    "cars"
   ]
  },
  {
   "cell_type": "code",
   "execution_count": 16,
   "id": "896e0c82",
   "metadata": {},
   "outputs": [
    {
     "data": {
      "text/plain": [
       "'BMW'"
      ]
     },
     "execution_count": 16,
     "metadata": {},
     "output_type": "execute_result"
    }
   ],
   "source": [
    "cars[0] # indexing"
   ]
  },
  {
   "cell_type": "code",
   "execution_count": 22,
   "id": "f756c6ea",
   "metadata": {},
   "outputs": [
    {
     "data": {
      "text/plain": [
       "list"
      ]
     },
     "execution_count": 22,
     "metadata": {},
     "output_type": "execute_result"
    }
   ],
   "source": [
    "type(cars)"
   ]
  },
  {
   "cell_type": "code",
   "execution_count": 21,
   "id": "4ecaf915",
   "metadata": {},
   "outputs": [
    {
     "data": {
      "text/plain": [
       "str"
      ]
     },
     "execution_count": 21,
     "metadata": {},
     "output_type": "execute_result"
    }
   ],
   "source": [
    "type(cars[0])"
   ]
  },
  {
   "cell_type": "code",
   "execution_count": 17,
   "id": "686330b8",
   "metadata": {},
   "outputs": [
    {
     "data": {
      "text/plain": [
       "'Tesla'"
      ]
     },
     "execution_count": 17,
     "metadata": {},
     "output_type": "execute_result"
    }
   ],
   "source": [
    "cars[5] # indexing"
   ]
  },
  {
   "cell_type": "code",
   "execution_count": 18,
   "id": "89dd01d0",
   "metadata": {},
   "outputs": [
    {
     "data": {
      "text/plain": [
       "'Nissan'"
      ]
     },
     "execution_count": 18,
     "metadata": {},
     "output_type": "execute_result"
    }
   ],
   "source": [
    "cars[3] # indexing"
   ]
  },
  {
   "cell_type": "code",
   "execution_count": 19,
   "id": "1ca5f336",
   "metadata": {},
   "outputs": [
    {
     "data": {
      "text/plain": [
       "['Audi', 'Nissan', 'Tata', 'Tesla']"
      ]
     },
     "execution_count": 19,
     "metadata": {},
     "output_type": "execute_result"
    }
   ],
   "source": [
    "cars[2:] # slicing"
   ]
  },
  {
   "cell_type": "code",
   "execution_count": 20,
   "id": "5207f8f5",
   "metadata": {},
   "outputs": [
    {
     "data": {
      "text/plain": [
       "['Audi', 'Nissan', 'Tata']"
      ]
     },
     "execution_count": 20,
     "metadata": {},
     "output_type": "execute_result"
    }
   ],
   "source": [
    "cars[2:5] # slicing"
   ]
  },
  {
   "cell_type": "markdown",
   "id": "5a5d88aa",
   "metadata": {},
   "source": [
    "# Negative indexing"
   ]
  },
  {
   "cell_type": "code",
   "execution_count": 23,
   "id": "8dab062b",
   "metadata": {},
   "outputs": [],
   "source": [
    "cars = ['BMW', 'Mercedes', \"Audi\", 'Nissan', 'Tata', 'Tesla']"
   ]
  },
  {
   "cell_type": "code",
   "execution_count": 24,
   "id": "9b41ef0f",
   "metadata": {},
   "outputs": [
    {
     "data": {
      "text/plain": [
       "'Tesla'"
      ]
     },
     "execution_count": 24,
     "metadata": {},
     "output_type": "execute_result"
    }
   ],
   "source": [
    "cars[-1] # negative indexing"
   ]
  },
  {
   "cell_type": "code",
   "execution_count": 25,
   "id": "22362fad",
   "metadata": {},
   "outputs": [
    {
     "data": {
      "text/plain": [
       "'Tata'"
      ]
     },
     "execution_count": 25,
     "metadata": {},
     "output_type": "execute_result"
    }
   ],
   "source": [
    "cars[-2]"
   ]
  },
  {
   "cell_type": "code",
   "execution_count": 26,
   "id": "f2763971",
   "metadata": {},
   "outputs": [
    {
     "data": {
      "text/plain": [
       "'BMW'"
      ]
     },
     "execution_count": 26,
     "metadata": {},
     "output_type": "execute_result"
    }
   ],
   "source": [
    "cars[-6]"
   ]
  },
  {
   "cell_type": "markdown",
   "id": "c550eefd",
   "metadata": {},
   "source": [
    "# loops in python list"
   ]
  },
  {
   "cell_type": "code",
   "execution_count": 27,
   "id": "af704557",
   "metadata": {},
   "outputs": [
    {
     "name": "stdout",
     "output_type": "stream",
     "text": [
      "The index value is 0 and the car name is BMW\n",
      "The index value is 1 and the car name is Mercedes\n",
      "The index value is 2 and the car name is Audi\n",
      "The index value is 3 and the car name is Nissan\n",
      "The index value is 4 and the car name is Tata\n",
      "The index value is 5 and the car name is Tesla\n"
     ]
    }
   ],
   "source": [
    "cars = ['BMW', 'Mercedes', \"Audi\", 'Nissan', 'Tata', 'Tesla']\n",
    "\n",
    "for index in range(len(cars)):\n",
    "    car_name = cars[index]\n",
    "    print(f\"The index value is {index} and the car name is {car_name}\")"
   ]
  },
  {
   "cell_type": "markdown",
   "id": "72df7c5f",
   "metadata": {},
   "source": [
    "# Alternative for loop"
   ]
  },
  {
   "cell_type": "code",
   "execution_count": 28,
   "id": "563e2ba9",
   "metadata": {},
   "outputs": [
    {
     "name": "stdout",
     "output_type": "stream",
     "text": [
      "BMW\n",
      "Mercedes\n",
      "Audi\n",
      "Nissan\n",
      "Tata\n",
      "Tesla\n"
     ]
    }
   ],
   "source": [
    "cars = ['BMW', 'Mercedes', \"Audi\", 'Nissan', 'Tata', 'Tesla']\n",
    "for item in cars:\n",
    "    print(item)"
   ]
  },
  {
   "cell_type": "markdown",
   "id": "45cb8af3",
   "metadata": {},
   "source": [
    "# WAP a program to find mean of given list"
   ]
  },
  {
   "cell_type": "code",
   "execution_count": 29,
   "id": "9b29ac24",
   "metadata": {},
   "outputs": [
    {
     "data": {
      "text/plain": [
       "6.111111111111111"
      ]
     },
     "execution_count": 29,
     "metadata": {},
     "output_type": "execute_result"
    }
   ],
   "source": [
    "nums = [1,22,1,6,2,3,11,0,9]\n",
    "sum(nums)/len(nums)"
   ]
  },
  {
   "cell_type": "code",
   "execution_count": 36,
   "id": "168ef5d1",
   "metadata": {},
   "outputs": [
    {
     "data": {
      "text/plain": [
       "6.11"
      ]
     },
     "execution_count": 36,
     "metadata": {},
     "output_type": "execute_result"
    }
   ],
   "source": [
    "total = 0\n",
    "for index in range(len(nums)):\n",
    "    item = nums[index]\n",
    "    total = total + item\n",
    "    \n",
    "mean = total/len(nums)\n",
    "round(mean, 2)"
   ]
  },
  {
   "cell_type": "code",
   "execution_count": 37,
   "id": "fd9d100c",
   "metadata": {},
   "outputs": [
    {
     "data": {
      "text/plain": [
       "6.11"
      ]
     },
     "execution_count": 37,
     "metadata": {},
     "output_type": "execute_result"
    }
   ],
   "source": [
    "total = 0\n",
    "for item in nums:\n",
    "    total = total + item\n",
    "    \n",
    "mean = total/len(nums)\n",
    "round(mean, 2)"
   ]
  },
  {
   "cell_type": "markdown",
   "id": "fbef9714",
   "metadata": {},
   "source": [
    "# Membership operator in python ( in and not in are membership operators)"
   ]
  },
  {
   "cell_type": "code",
   "execution_count": 38,
   "id": "4e2c034b",
   "metadata": {},
   "outputs": [],
   "source": [
    "cars = ['BMW', 'Mercedes', \"Audi\", 'Nissan', 'Tata', 'Tesla']"
   ]
  },
  {
   "cell_type": "code",
   "execution_count": 39,
   "id": "ead46000",
   "metadata": {},
   "outputs": [
    {
     "data": {
      "text/plain": [
       "True"
      ]
     },
     "execution_count": 39,
     "metadata": {},
     "output_type": "execute_result"
    }
   ],
   "source": [
    "\"Tata\" in cars"
   ]
  },
  {
   "cell_type": "code",
   "execution_count": 40,
   "id": "cef72c7f",
   "metadata": {},
   "outputs": [
    {
     "data": {
      "text/plain": [
       "False"
      ]
     },
     "execution_count": 40,
     "metadata": {},
     "output_type": "execute_result"
    }
   ],
   "source": [
    "\"Fortuner\" in cars"
   ]
  },
  {
   "cell_type": "code",
   "execution_count": 41,
   "id": "187252da",
   "metadata": {},
   "outputs": [
    {
     "data": {
      "text/plain": [
       "True"
      ]
     },
     "execution_count": 41,
     "metadata": {},
     "output_type": "execute_result"
    }
   ],
   "source": [
    "\"Fortuner\" not in cars"
   ]
  },
  {
   "cell_type": "code",
   "execution_count": null,
   "id": "f077b50e",
   "metadata": {},
   "outputs": [],
   "source": []
  }
 ],
 "metadata": {
  "kernelspec": {
   "display_name": "Python (reco)",
   "language": "python",
   "name": "my_environment_name"
  },
  "language_info": {
   "codemirror_mode": {
    "name": "ipython",
    "version": 3
   },
   "file_extension": ".py",
   "mimetype": "text/x-python",
   "name": "python",
   "nbconvert_exporter": "python",
   "pygments_lexer": "ipython3",
   "version": "3.9.13"
  }
 },
 "nbformat": 4,
 "nbformat_minor": 5
}
