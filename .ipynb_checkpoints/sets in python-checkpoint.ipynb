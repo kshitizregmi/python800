{
 "cells": [
  {
   "cell_type": "markdown",
   "id": "3210337e",
   "metadata": {},
   "source": [
    "# Sets are used to store multiple items in a single variable with no duplication. Mutable – add or remove possible\n"
   ]
  },
  {
   "cell_type": "code",
   "execution_count": 5,
   "id": "b5caa80e",
   "metadata": {},
   "outputs": [],
   "source": [
    "A = {\"Papaya\", 'Ball', 'Cat'}"
   ]
  },
  {
   "cell_type": "code",
   "execution_count": 6,
   "id": "addfc053",
   "metadata": {},
   "outputs": [
    {
     "data": {
      "text/plain": [
       "{'Ball', 'Cat', 'Papaya'}"
      ]
     },
     "execution_count": 6,
     "metadata": {},
     "output_type": "execute_result"
    }
   ],
   "source": [
    "A # unordered"
   ]
  },
  {
   "cell_type": "code",
   "execution_count": 7,
   "id": "80f0f2ea",
   "metadata": {},
   "outputs": [
    {
     "ename": "TypeError",
     "evalue": "'set' object is not subscriptable",
     "output_type": "error",
     "traceback": [
      "\u001b[0;31m---------------------------------------------------------------------------\u001b[0m",
      "\u001b[0;31mTypeError\u001b[0m                                 Traceback (most recent call last)",
      "\u001b[0;32m/tmp/ipykernel_10020/303350297.py\u001b[0m in \u001b[0;36m<module>\u001b[0;34m\u001b[0m\n\u001b[0;32m----> 1\u001b[0;31m \u001b[0mA\u001b[0m\u001b[0;34m[\u001b[0m\u001b[0;36m0\u001b[0m\u001b[0;34m]\u001b[0m\u001b[0;34m\u001b[0m\u001b[0;34m\u001b[0m\u001b[0m\n\u001b[0m",
      "\u001b[0;31mTypeError\u001b[0m: 'set' object is not subscriptable"
     ]
    }
   ],
   "source": [
    "A[0] # cannot index set"
   ]
  },
  {
   "cell_type": "markdown",
   "id": "9ac82da7",
   "metadata": {},
   "source": [
    "# remove() to remove items : If the item to remove does not exist,remove() will raise an error. "
   ]
  },
  {
   "cell_type": "code",
   "execution_count": 8,
   "id": "9074ebf6",
   "metadata": {},
   "outputs": [],
   "source": [
    "A = {\"Papaya\", 'Ball', 'Cat'}"
   ]
  },
  {
   "cell_type": "code",
   "execution_count": 9,
   "id": "c11b0e43",
   "metadata": {},
   "outputs": [],
   "source": [
    "A.remove(\"Cat\")"
   ]
  },
  {
   "cell_type": "code",
   "execution_count": 10,
   "id": "1e050912",
   "metadata": {},
   "outputs": [
    {
     "data": {
      "text/plain": [
       "{'Ball', 'Papaya'}"
      ]
     },
     "execution_count": 10,
     "metadata": {},
     "output_type": "execute_result"
    }
   ],
   "source": [
    "A"
   ]
  },
  {
   "cell_type": "code",
   "execution_count": 11,
   "id": "bffca21e",
   "metadata": {},
   "outputs": [
    {
     "ename": "KeyError",
     "evalue": "'Orange'",
     "output_type": "error",
     "traceback": [
      "\u001b[0;31m---------------------------------------------------------------------------\u001b[0m",
      "\u001b[0;31mKeyError\u001b[0m                                  Traceback (most recent call last)",
      "\u001b[0;32m/tmp/ipykernel_10020/2959755438.py\u001b[0m in \u001b[0;36m<module>\u001b[0;34m\u001b[0m\n\u001b[0;32m----> 1\u001b[0;31m \u001b[0mA\u001b[0m\u001b[0;34m.\u001b[0m\u001b[0mremove\u001b[0m\u001b[0;34m(\u001b[0m\u001b[0;34m\"Orange\"\u001b[0m\u001b[0;34m)\u001b[0m\u001b[0;34m\u001b[0m\u001b[0;34m\u001b[0m\u001b[0m\n\u001b[0m",
      "\u001b[0;31mKeyError\u001b[0m: 'Orange'"
     ]
    }
   ],
   "source": [
    "A.remove(\"Orange\") # navako cheej falna paidaina"
   ]
  },
  {
   "cell_type": "markdown",
   "id": "b8bf1fcf",
   "metadata": {},
   "source": [
    "# Use add() method to add items in set "
   ]
  },
  {
   "cell_type": "code",
   "execution_count": 20,
   "id": "a0a289cb",
   "metadata": {},
   "outputs": [],
   "source": [
    "fruits = {'orange', 'banana', 'mango', 'mango'}"
   ]
  },
  {
   "cell_type": "code",
   "execution_count": 21,
   "id": "cbe924f6",
   "metadata": {},
   "outputs": [
    {
     "data": {
      "text/plain": [
       "{'banana', 'mango', 'orange'}"
      ]
     },
     "execution_count": 21,
     "metadata": {},
     "output_type": "execute_result"
    }
   ],
   "source": [
    "fruits"
   ]
  },
  {
   "cell_type": "code",
   "execution_count": 15,
   "id": "b9e2f4f8",
   "metadata": {},
   "outputs": [],
   "source": [
    "fruits.add(\"Kiwi\")"
   ]
  },
  {
   "cell_type": "code",
   "execution_count": 16,
   "id": "6c09366e",
   "metadata": {},
   "outputs": [
    {
     "data": {
      "text/plain": [
       "{'Kiwi', 'banana', 'mango', 'orange'}"
      ]
     },
     "execution_count": 16,
     "metadata": {},
     "output_type": "execute_result"
    }
   ],
   "source": [
    "fruits"
   ]
  },
  {
   "cell_type": "code",
   "execution_count": 17,
   "id": "1fdb2be5",
   "metadata": {},
   "outputs": [],
   "source": [
    "fruits.add(\"papaya\")"
   ]
  },
  {
   "cell_type": "code",
   "execution_count": 18,
   "id": "17dbda76",
   "metadata": {},
   "outputs": [
    {
     "data": {
      "text/plain": [
       "{'Kiwi', 'banana', 'mango', 'orange', 'papaya'}"
      ]
     },
     "execution_count": 18,
     "metadata": {},
     "output_type": "execute_result"
    }
   ],
   "source": [
    "fruits"
   ]
  },
  {
   "cell_type": "markdown",
   "id": "fec755d0",
   "metadata": {},
   "source": [
    "# Typecasting"
   ]
  },
  {
   "cell_type": "code",
   "execution_count": 22,
   "id": "faa42957",
   "metadata": {},
   "outputs": [
    {
     "data": {
      "text/plain": [
       "['banana', 'papaya', 'orange', 'Kiwi', 'mango']"
      ]
     },
     "execution_count": 22,
     "metadata": {},
     "output_type": "execute_result"
    }
   ],
   "source": [
    "fruits = {'Kiwi', 'banana', 'mango', 'orange', 'papaya'}\n",
    "list_fruits = list(fruits)\n",
    "list_fruits"
   ]
  },
  {
   "cell_type": "code",
   "execution_count": 23,
   "id": "3fc3ea78",
   "metadata": {},
   "outputs": [],
   "source": [
    "f = ['banana', 'papaya', 'orange', 'Kiwi', 'mango', 'mango']"
   ]
  },
  {
   "cell_type": "code",
   "execution_count": 24,
   "id": "af2c0ed9",
   "metadata": {},
   "outputs": [
    {
     "data": {
      "text/plain": [
       "['banana', 'papaya', 'orange', 'Kiwi', 'mango', 'mango']"
      ]
     },
     "execution_count": 24,
     "metadata": {},
     "output_type": "execute_result"
    }
   ],
   "source": [
    "f"
   ]
  },
  {
   "cell_type": "code",
   "execution_count": 25,
   "id": "5f1f73a5",
   "metadata": {},
   "outputs": [
    {
     "data": {
      "text/plain": [
       "{'Kiwi', 'banana', 'mango', 'orange', 'papaya'}"
      ]
     },
     "execution_count": 25,
     "metadata": {},
     "output_type": "execute_result"
    }
   ],
   "source": [
    "set(f) # removes duplicate "
   ]
  },
  {
   "cell_type": "markdown",
   "id": "cdeaf7f9",
   "metadata": {},
   "source": [
    "# loops in set"
   ]
  },
  {
   "cell_type": "code",
   "execution_count": 26,
   "id": "54ea65c3",
   "metadata": {},
   "outputs": [
    {
     "name": "stdout",
     "output_type": "stream",
     "text": [
      "banana\n",
      "papaya\n",
      "orange\n",
      "Kiwi\n",
      "mango\n"
     ]
    }
   ],
   "source": [
    "fruits = {'Kiwi', 'banana', 'mango', 'orange', 'papaya'}\n",
    "for item in fruits:\n",
    "    print(item)"
   ]
  },
  {
   "cell_type": "markdown",
   "id": "13d129ad",
   "metadata": {},
   "source": [
    "# set methods"
   ]
  },
  {
   "cell_type": "code",
   "execution_count": 27,
   "id": "5a4a9e6c",
   "metadata": {},
   "outputs": [],
   "source": [
    "A = {\"apple\", \"banana\", \"cherry\"}\n",
    "B = {\"google\", \"microsoft\", \"apple\"}"
   ]
  },
  {
   "cell_type": "code",
   "execution_count": 29,
   "id": "babebe8f",
   "metadata": {},
   "outputs": [
    {
     "data": {
      "text/plain": [
       "{'apple'}"
      ]
     },
     "execution_count": 29,
     "metadata": {},
     "output_type": "execute_result"
    }
   ],
   "source": [
    "A.intersection(B)"
   ]
  },
  {
   "cell_type": "code",
   "execution_count": 30,
   "id": "4a7f5ba9",
   "metadata": {},
   "outputs": [
    {
     "data": {
      "text/plain": [
       "{'apple'}"
      ]
     },
     "execution_count": 30,
     "metadata": {},
     "output_type": "execute_result"
    }
   ],
   "source": [
    "B.intersection(A)"
   ]
  },
  {
   "cell_type": "code",
   "execution_count": 31,
   "id": "7c24c922",
   "metadata": {},
   "outputs": [
    {
     "data": {
      "text/plain": [
       "{'apple', 'banana', 'cherry', 'google', 'microsoft'}"
      ]
     },
     "execution_count": 31,
     "metadata": {},
     "output_type": "execute_result"
    }
   ],
   "source": [
    "A.union(B)"
   ]
  },
  {
   "cell_type": "code",
   "execution_count": 32,
   "id": "86f3bc00",
   "metadata": {},
   "outputs": [
    {
     "data": {
      "text/plain": [
       "{'apple', 'banana', 'cherry', 'google', 'microsoft'}"
      ]
     },
     "execution_count": 32,
     "metadata": {},
     "output_type": "execute_result"
    }
   ],
   "source": [
    "B.union(A)"
   ]
  },
  {
   "cell_type": "code",
   "execution_count": 33,
   "id": "d4893db9",
   "metadata": {},
   "outputs": [
    {
     "data": {
      "text/plain": [
       "{'banana', 'cherry'}"
      ]
     },
     "execution_count": 33,
     "metadata": {},
     "output_type": "execute_result"
    }
   ],
   "source": [
    "A - B"
   ]
  },
  {
   "cell_type": "code",
   "execution_count": 35,
   "id": "a15e2a43",
   "metadata": {},
   "outputs": [
    {
     "data": {
      "text/plain": [
       "{'google', 'microsoft'}"
      ]
     },
     "execution_count": 35,
     "metadata": {},
     "output_type": "execute_result"
    }
   ],
   "source": [
    "B - A"
   ]
  },
  {
   "cell_type": "code",
   "execution_count": 36,
   "id": "6c73ab3d",
   "metadata": {},
   "outputs": [
    {
     "data": {
      "text/plain": [
       "{'banana', 'cherry'}"
      ]
     },
     "execution_count": 36,
     "metadata": {},
     "output_type": "execute_result"
    }
   ],
   "source": [
    "A.difference(B)"
   ]
  },
  {
   "cell_type": "code",
   "execution_count": 37,
   "id": "1bf05880",
   "metadata": {},
   "outputs": [
    {
     "data": {
      "text/plain": [
       "{'google', 'microsoft'}"
      ]
     },
     "execution_count": 37,
     "metadata": {},
     "output_type": "execute_result"
    }
   ],
   "source": [
    "B.difference(A)"
   ]
  },
  {
   "cell_type": "code",
   "execution_count": null,
   "id": "e110d8d4",
   "metadata": {},
   "outputs": [],
   "source": []
  }
 ],
 "metadata": {
  "kernelspec": {
   "display_name": "Python (reco)",
   "language": "python",
   "name": "my_environment_name"
  },
  "language_info": {
   "codemirror_mode": {
    "name": "ipython",
    "version": 3
   },
   "file_extension": ".py",
   "mimetype": "text/x-python",
   "name": "python",
   "nbconvert_exporter": "python",
   "pygments_lexer": "ipython3",
   "version": "3.9.13"
  }
 },
 "nbformat": 4,
 "nbformat_minor": 5
}
