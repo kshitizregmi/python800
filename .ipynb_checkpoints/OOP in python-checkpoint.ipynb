{
 "cells": [
  {
   "cell_type": "code",
   "execution_count": 1,
   "id": "8e4a2315",
   "metadata": {},
   "outputs": [],
   "source": [
    "# creating empty class\n",
    "class Mammal: \n",
    "    pass"
   ]
  },
  {
   "cell_type": "code",
   "execution_count": 2,
   "id": "7390f879",
   "metadata": {},
   "outputs": [],
   "source": [
    "# create object from class / instance of class\n",
    "human = Mammal()"
   ]
  },
  {
   "cell_type": "code",
   "execution_count": 3,
   "id": "5637ca1e",
   "metadata": {},
   "outputs": [
    {
     "data": {
      "text/plain": [
       "__main__.Mammal"
      ]
     },
     "execution_count": 3,
     "metadata": {},
     "output_type": "execute_result"
    }
   ],
   "source": [
    "type(human)"
   ]
  },
  {
   "cell_type": "code",
   "execution_count": 4,
   "id": "96af14d8",
   "metadata": {},
   "outputs": [
    {
     "name": "stdout",
     "output_type": "stream",
     "text": [
      "<class '__main__.Mammal'>\n"
     ]
    }
   ],
   "source": [
    "if __name__ == '__main__': # main is entrypoint of python program\n",
    "    human = Mammal()\n",
    "    print(type(human))"
   ]
  },
  {
   "cell_type": "code",
   "execution_count": 5,
   "id": "59684243",
   "metadata": {},
   "outputs": [
    {
     "data": {
      "text/plain": [
       "'__main__'"
      ]
     },
     "execution_count": 5,
     "metadata": {},
     "output_type": "execute_result"
    }
   ],
   "source": [
    "__name__ # __name__ is dunders in python"
   ]
  },
  {
   "cell_type": "markdown",
   "id": "bc9f5510",
   "metadata": {},
   "source": [
    "# class attributes"
   ]
  },
  {
   "cell_type": "code",
   "execution_count": 7,
   "id": "58eeadf5",
   "metadata": {},
   "outputs": [],
   "source": [
    "class Mammal:\n",
    "    has_hair = True # class attribute is same for all object of a class"
   ]
  },
  {
   "cell_type": "code",
   "execution_count": 8,
   "id": "5f25d399",
   "metadata": {},
   "outputs": [
    {
     "data": {
      "text/plain": [
       "True"
      ]
     },
     "execution_count": 8,
     "metadata": {},
     "output_type": "execute_result"
    }
   ],
   "source": [
    "human = Mammal()\n",
    "human.has_hair"
   ]
  },
  {
   "cell_type": "code",
   "execution_count": 9,
   "id": "261b6de6",
   "metadata": {},
   "outputs": [
    {
     "data": {
      "text/plain": [
       "True"
      ]
     },
     "execution_count": 9,
     "metadata": {},
     "output_type": "execute_result"
    }
   ],
   "source": [
    "cow = Mammal()\n",
    "cow.has_hair"
   ]
  },
  {
   "cell_type": "markdown",
   "id": "9cd1bb60",
   "metadata": {},
   "source": [
    "# object attribute"
   ]
  },
  {
   "cell_type": "code",
   "execution_count": 10,
   "id": "a1a3bd90",
   "metadata": {},
   "outputs": [],
   "source": [
    "class Mammal:\n",
    "    has_hair = True           # class attribute\n",
    "    \n",
    "    def __init__(self, legs): # object attribute initilizer\n",
    "        self.legs = legs      # object atttribute\n",
    "        "
   ]
  },
  {
   "cell_type": "code",
   "execution_count": 12,
   "id": "2e30b527",
   "metadata": {},
   "outputs": [],
   "source": [
    "human = Mammal(2)"
   ]
  },
  {
   "cell_type": "code",
   "execution_count": 13,
   "id": "c822c954",
   "metadata": {},
   "outputs": [
    {
     "data": {
      "text/plain": [
       "True"
      ]
     },
     "execution_count": 13,
     "metadata": {},
     "output_type": "execute_result"
    }
   ],
   "source": [
    "human.has_hair # class attribute is same for all objects"
   ]
  },
  {
   "cell_type": "code",
   "execution_count": 14,
   "id": "e9651236",
   "metadata": {},
   "outputs": [
    {
     "data": {
      "text/plain": [
       "2"
      ]
     },
     "execution_count": 14,
     "metadata": {},
     "output_type": "execute_result"
    }
   ],
   "source": [
    "human.legs    # object attribut is different for all objects"
   ]
  },
  {
   "cell_type": "code",
   "execution_count": 16,
   "id": "62d3a1c4",
   "metadata": {},
   "outputs": [],
   "source": [
    "cow = Mammal(4)"
   ]
  },
  {
   "cell_type": "code",
   "execution_count": 17,
   "id": "bf6c0dbd",
   "metadata": {},
   "outputs": [
    {
     "data": {
      "text/plain": [
       "True"
      ]
     },
     "execution_count": 17,
     "metadata": {},
     "output_type": "execute_result"
    }
   ],
   "source": [
    "cow.has_hair # class attribute is same for all objects"
   ]
  },
  {
   "cell_type": "code",
   "execution_count": 18,
   "id": "fe61e74e",
   "metadata": {},
   "outputs": [
    {
     "data": {
      "text/plain": [
       "4"
      ]
     },
     "execution_count": 18,
     "metadata": {},
     "output_type": "execute_result"
    }
   ],
   "source": [
    "cow.legs    # object attribut is different for all objects"
   ]
  },
  {
   "cell_type": "markdown",
   "id": "407b63f4",
   "metadata": {},
   "source": [
    "# what is self ?"
   ]
  },
  {
   "cell_type": "code",
   "execution_count": 23,
   "id": "10192007",
   "metadata": {},
   "outputs": [],
   "source": [
    "class Mammal:\n",
    "    has_hair = True \n",
    "    \n",
    "    def __init__(self, legs):\n",
    "        print(type(self))      # self is an object\n",
    "        self.legs = legs      "
   ]
  },
  {
   "cell_type": "code",
   "execution_count": 24,
   "id": "218a4919",
   "metadata": {},
   "outputs": [
    {
     "name": "stdout",
     "output_type": "stream",
     "text": [
      "<class '__main__.Mammal'>\n"
     ]
    }
   ],
   "source": [
    "cow = Mammal(4)"
   ]
  },
  {
   "cell_type": "markdown",
   "id": "9d7cd2d4",
   "metadata": {},
   "source": [
    "# methods in user created class"
   ]
  },
  {
   "cell_type": "code",
   "execution_count": 25,
   "id": "784b9863",
   "metadata": {},
   "outputs": [],
   "source": [
    "class Mammal:\n",
    "    has_hair = True \n",
    "    def __init__(self, legs):\n",
    "        self.legs = legs     \n",
    "        \n",
    "    def display_legs(self):\n",
    "        print(self.legs)"
   ]
  },
  {
   "cell_type": "code",
   "execution_count": 26,
   "id": "e23bff04",
   "metadata": {},
   "outputs": [],
   "source": [
    "cow = Mammal(4)"
   ]
  },
  {
   "cell_type": "code",
   "execution_count": 27,
   "id": "d7ff06b4",
   "metadata": {},
   "outputs": [
    {
     "name": "stdout",
     "output_type": "stream",
     "text": [
      "4\n"
     ]
    }
   ],
   "source": [
    "cow.display_legs()"
   ]
  },
  {
   "cell_type": "code",
   "execution_count": 28,
   "id": "78c7d1e2",
   "metadata": {},
   "outputs": [
    {
     "name": "stdout",
     "output_type": "stream",
     "text": [
      "2\n"
     ]
    }
   ],
   "source": [
    "human = Mammal(2)\n",
    "human.display_legs()"
   ]
  },
  {
   "cell_type": "code",
   "execution_count": null,
   "id": "9bdf4c1c",
   "metadata": {},
   "outputs": [],
   "source": []
  }
 ],
 "metadata": {
  "kernelspec": {
   "display_name": "Python (reco)",
   "language": "python",
   "name": "my_environment_name"
  },
  "language_info": {
   "codemirror_mode": {
    "name": "ipython",
    "version": 3
   },
   "file_extension": ".py",
   "mimetype": "text/x-python",
   "name": "python",
   "nbconvert_exporter": "python",
   "pygments_lexer": "ipython3",
   "version": "3.9.13"
  }
 },
 "nbformat": 4,
 "nbformat_minor": 5
}
