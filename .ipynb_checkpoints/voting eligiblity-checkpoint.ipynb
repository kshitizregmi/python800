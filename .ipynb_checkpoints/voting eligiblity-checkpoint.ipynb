{
 "cells": [
  {
   "cell_type": "code",
   "execution_count": 3,
   "id": "d35e2991",
   "metadata": {},
   "outputs": [
    {
     "name": "stdout",
     "output_type": "stream",
     "text": [
      "Enter your age: 12\n",
      "You are not eligible to vote\n"
     ]
    }
   ],
   "source": [
    "def check_eligiblity(age):\n",
    "    if age >= 18:\n",
    "        return True\n",
    "    else:\n",
    "        return False\n",
    "\n",
    "age = int(input(\"Enter your age: \"))\n",
    "\n",
    "status = check_eligiblity(age)\n",
    "\n",
    "if status:\n",
    "    print(\"you are eligible to vote\")\n",
    "else:\n",
    "    print(\"You are not eligible to vote\")"
   ]
  },
  {
   "cell_type": "code",
   "execution_count": 5,
   "id": "33d06dbd",
   "metadata": {},
   "outputs": [
    {
     "name": "stdout",
     "output_type": "stream",
     "text": [
      "Enter your age: 12\n",
      "You are not eligible to vote\n"
     ]
    }
   ],
   "source": [
    "def check_eligiblity(age):\n",
    "    if age < 18:\n",
    "        print(\"You are not eligible to vote\")\n",
    "    else:\n",
    "        print(\"You are eligible to vote\")\n",
    "        \n",
    "age = int(input(\"Enter your age: \"))\n",
    "check_eligiblity(age)"
   ]
  },
  {
   "cell_type": "code",
   "execution_count": 7,
   "id": "594862bb",
   "metadata": {},
   "outputs": [
    {
     "name": "stdout",
     "output_type": "stream",
     "text": [
      "You are not eligible to vote\n"
     ]
    }
   ],
   "source": [
    "check_eligiblity(age)"
   ]
  },
  {
   "cell_type": "code",
   "execution_count": null,
   "id": "944a6820",
   "metadata": {},
   "outputs": [],
   "source": []
  }
 ],
 "metadata": {
  "kernelspec": {
   "display_name": "Python (reco)",
   "language": "python",
   "name": "my_environment_name"
  },
  "language_info": {
   "codemirror_mode": {
    "name": "ipython",
    "version": 3
   },
   "file_extension": ".py",
   "mimetype": "text/x-python",
   "name": "python",
   "nbconvert_exporter": "python",
   "pygments_lexer": "ipython3",
   "version": "3.9.13"
  }
 },
 "nbformat": 4,
 "nbformat_minor": 5
}
