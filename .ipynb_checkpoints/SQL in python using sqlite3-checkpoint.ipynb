{
 "cells": [
  {
   "cell_type": "markdown",
   "id": "ec8d82b6",
   "metadata": {},
   "source": [
    "# CRUID in databse\n",
    "\n",
    "* create\n",
    "* read\n",
    "* update\n",
    "* Insert\n",
    "* Delete"
   ]
  },
  {
   "cell_type": "markdown",
   "id": "087c9366",
   "metadata": {},
   "source": [
    "# Connect and Create a New Database"
   ]
  },
  {
   "cell_type": "code",
   "execution_count": 1,
   "id": "e6629a83",
   "metadata": {},
   "outputs": [],
   "source": [
    "import sqlite3"
   ]
  },
  {
   "cell_type": "code",
   "execution_count": 2,
   "id": "9f4bd2fb",
   "metadata": {},
   "outputs": [],
   "source": [
    "con = sqlite3.connect('std.db')"
   ]
  },
  {
   "cell_type": "markdown",
   "id": "d844b6a9",
   "metadata": {},
   "source": [
    "# we need cursor to execute sql query"
   ]
  },
  {
   "cell_type": "code",
   "execution_count": 4,
   "id": "81426c00",
   "metadata": {},
   "outputs": [],
   "source": [
    "cur = con.cursor()"
   ]
  },
  {
   "cell_type": "markdown",
   "id": "ccfb7f30",
   "metadata": {},
   "source": [
    "# Creating table in SQL\n",
    "\n",
    "\n",
    "```sql\n",
    "\n",
    "create table table_name \n",
    "(roll_no int, name varchar(20), address varchar(50)\n",
    "```"
   ]
  },
  {
   "cell_type": "code",
   "execution_count": 7,
   "id": "6f20f99e",
   "metadata": {},
   "outputs": [],
   "source": [
    "create_table = \"\"\"\n",
    "Create table student\n",
    "(roll_no int not null, \n",
    "name varchar(20), \n",
    "address varchar (50))\n",
    "\"\"\""
   ]
  },
  {
   "cell_type": "code",
   "execution_count": 8,
   "id": "54d3da5c",
   "metadata": {},
   "outputs": [
    {
     "data": {
      "text/plain": [
       "<sqlite3.Cursor at 0x7f373c5f2c00>"
      ]
     },
     "execution_count": 8,
     "metadata": {},
     "output_type": "execute_result"
    }
   ],
   "source": [
    "cur.execute(create_table)"
   ]
  },
  {
   "cell_type": "markdown",
   "id": "d1b05851",
   "metadata": {},
   "source": [
    "# Insert statement in sql\n",
    "\n",
    "```sql\n",
    "INSERT INTO TABLE (COL_1, COL_2 ... COL_N)\n",
    "VALUES\n",
    "(VAL_1, VAL_2, ... , VAL_N)\n",
    "```"
   ]
  },
  {
   "cell_type": "code",
   "execution_count": 11,
   "id": "1cf84f92",
   "metadata": {},
   "outputs": [],
   "source": [
    "insert_data = \"\"\"\n",
    "Insert into student \n",
    "(roll_no, name, address)\n",
    "values\n",
    "(1, 'Kshitiz', 'Patan'),\n",
    "(2, 'Prakash', 'Kathmandu'),\n",
    "(3, 'Shraddha', 'Bhaktapur')\n",
    "\"\"\""
   ]
  },
  {
   "cell_type": "code",
   "execution_count": 12,
   "id": "075534ee",
   "metadata": {},
   "outputs": [
    {
     "data": {
      "text/plain": [
       "<sqlite3.Cursor at 0x7f373c5f2c00>"
      ]
     },
     "execution_count": 12,
     "metadata": {},
     "output_type": "execute_result"
    }
   ],
   "source": [
    "cur.execute(insert_data)"
   ]
  },
  {
   "cell_type": "markdown",
   "id": "b60c5ca8",
   "metadata": {},
   "source": [
    "# Read in SQL/ Select statement in sql\n",
    "\n",
    "```sql\n",
    "\n",
    "Select * from table_name\n",
    "\n",
    "```\n"
   ]
  },
  {
   "cell_type": "code",
   "execution_count": 13,
   "id": "0ef747ec",
   "metadata": {},
   "outputs": [],
   "source": [
    "read_query = \"\"\"\n",
    "select * from student\n",
    "\"\"\""
   ]
  },
  {
   "cell_type": "code",
   "execution_count": 14,
   "id": "3709feb5",
   "metadata": {},
   "outputs": [
    {
     "data": {
      "text/plain": [
       "<sqlite3.Cursor at 0x7f373c5f2c00>"
      ]
     },
     "execution_count": 14,
     "metadata": {},
     "output_type": "execute_result"
    }
   ],
   "source": [
    "cur.execute(read_query)"
   ]
  },
  {
   "cell_type": "code",
   "execution_count": 15,
   "id": "fb5f5741",
   "metadata": {},
   "outputs": [
    {
     "data": {
      "text/plain": [
       "[(1, 'Kshitiz', 'Patan'),\n",
       " (2, 'Prakash', 'Kathmandu'),\n",
       " (3, 'Shraddha', 'Bhaktapur')]"
      ]
     },
     "execution_count": 15,
     "metadata": {},
     "output_type": "execute_result"
    }
   ],
   "source": [
    "cur.execute(read_query).fetchall()"
   ]
  },
  {
   "cell_type": "code",
   "execution_count": 16,
   "id": "f76a71c4",
   "metadata": {},
   "outputs": [],
   "source": [
    "query = \"\"\"\n",
    "select name from student\n",
    "where roll_no = 2\n",
    "\"\"\""
   ]
  },
  {
   "cell_type": "code",
   "execution_count": 17,
   "id": "a2ae8865",
   "metadata": {},
   "outputs": [
    {
     "data": {
      "text/plain": [
       "[('Prakash',)]"
      ]
     },
     "execution_count": 17,
     "metadata": {},
     "output_type": "execute_result"
    }
   ],
   "source": [
    "cur.execute(query).fetchall()"
   ]
  },
  {
   "cell_type": "code",
   "execution_count": 19,
   "id": "8bfd739a",
   "metadata": {},
   "outputs": [
    {
     "data": {
      "text/plain": [
       "[('Kshitiz',)]"
      ]
     },
     "execution_count": 19,
     "metadata": {},
     "output_type": "execute_result"
    }
   ],
   "source": [
    "cur.execute(\"select name from student where roll_no = 1\").fetchall()"
   ]
  },
  {
   "cell_type": "code",
   "execution_count": 20,
   "id": "a46b8e8c",
   "metadata": {},
   "outputs": [],
   "source": [
    "# find name of people who lives in patan"
   ]
  },
  {
   "cell_type": "code",
   "execution_count": 25,
   "id": "7ab1798b",
   "metadata": {},
   "outputs": [
    {
     "data": {
      "text/plain": [
       "[('Kshitiz', 1)]"
      ]
     },
     "execution_count": 25,
     "metadata": {},
     "output_type": "execute_result"
    }
   ],
   "source": [
    "cur.execute(\"SeLect name, roll_no from student where address = 'Patan'\").fetchall()"
   ]
  },
  {
   "cell_type": "markdown",
   "id": "e3123b9b",
   "metadata": {},
   "source": [
    "# Update in SQL\n",
    "\n",
    "```sql\n",
    "\n",
    "update table_name\n",
    "set col_name = val\n",
    "where \n",
    "condition1\n",
    "\n",
    "```"
   ]
  },
  {
   "cell_type": "code",
   "execution_count": 26,
   "id": "5508b754",
   "metadata": {},
   "outputs": [],
   "source": [
    "query = \"\"\"\n",
    "update student\n",
    "set name = 'Kshitiz Regmi'\n",
    "where \n",
    "roll_no = 1\n",
    "\"\"\""
   ]
  },
  {
   "cell_type": "code",
   "execution_count": 27,
   "id": "c7b9cae0",
   "metadata": {},
   "outputs": [
    {
     "data": {
      "text/plain": [
       "<sqlite3.Cursor at 0x7f373c5f2c00>"
      ]
     },
     "execution_count": 27,
     "metadata": {},
     "output_type": "execute_result"
    }
   ],
   "source": [
    "cur.execute(query)"
   ]
  },
  {
   "cell_type": "code",
   "execution_count": 28,
   "id": "f17a36f2",
   "metadata": {},
   "outputs": [
    {
     "data": {
      "text/plain": [
       "[(1, 'Kshitiz Regmi', 'Patan'),\n",
       " (2, 'Prakash', 'Kathmandu'),\n",
       " (3, 'Shraddha', 'Bhaktapur')]"
      ]
     },
     "execution_count": 28,
     "metadata": {},
     "output_type": "execute_result"
    }
   ],
   "source": [
    "cur.execute(\"select * from student\").fetchall()"
   ]
  },
  {
   "cell_type": "markdown",
   "id": "23679d6e",
   "metadata": {},
   "source": [
    "# Delete in SQL"
   ]
  },
  {
   "cell_type": "code",
   "execution_count": 30,
   "id": "a6bd1a08",
   "metadata": {},
   "outputs": [
    {
     "data": {
      "text/plain": [
       "<sqlite3.Cursor at 0x7f373c5f2c00>"
      ]
     },
     "execution_count": 30,
     "metadata": {},
     "output_type": "execute_result"
    }
   ],
   "source": [
    "cur.execute(\"delete from student where roll_no = 1\")"
   ]
  },
  {
   "cell_type": "code",
   "execution_count": 32,
   "id": "6b99b162",
   "metadata": {},
   "outputs": [
    {
     "data": {
      "text/plain": [
       "[(2, 'Prakash', 'Kathmandu'), (3, 'Shraddha', 'Bhaktapur')]"
      ]
     },
     "execution_count": 32,
     "metadata": {},
     "output_type": "execute_result"
    }
   ],
   "source": [
    "cur.execute(\"select * from student\").fetchall()"
   ]
  },
  {
   "cell_type": "code",
   "execution_count": null,
   "id": "695faf3b",
   "metadata": {},
   "outputs": [],
   "source": []
  }
 ],
 "metadata": {
  "kernelspec": {
   "display_name": "Python (reco)",
   "language": "python",
   "name": "my_environment_name"
  },
  "language_info": {
   "codemirror_mode": {
    "name": "ipython",
    "version": 3
   },
   "file_extension": ".py",
   "mimetype": "text/x-python",
   "name": "python",
   "nbconvert_exporter": "python",
   "pygments_lexer": "ipython3",
   "version": "3.9.13"
  }
 },
 "nbformat": 4,
 "nbformat_minor": 5
}
