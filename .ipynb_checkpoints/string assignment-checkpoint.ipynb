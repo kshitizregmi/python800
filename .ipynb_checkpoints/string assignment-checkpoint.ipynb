{
 "cells": [
  {
   "cell_type": "code",
   "execution_count": 1,
   "id": "099547cc",
   "metadata": {},
   "outputs": [],
   "source": [
    "txt = \"I Like Orange Apple Banana and kiwi.\""
   ]
  },
  {
   "cell_type": "code",
   "execution_count": 2,
   "id": "5c8ba85c",
   "metadata": {},
   "outputs": [],
   "source": [
    "txt = txt.lower()"
   ]
  },
  {
   "cell_type": "code",
   "execution_count": 3,
   "id": "4f6bb5cf",
   "metadata": {},
   "outputs": [
    {
     "data": {
      "text/plain": [
       "'i like orange apple banana and kiwi.'"
      ]
     },
     "execution_count": 3,
     "metadata": {},
     "output_type": "execute_result"
    }
   ],
   "source": [
    "txt"
   ]
  },
  {
   "cell_type": "code",
   "execution_count": 5,
   "id": "c13da716",
   "metadata": {},
   "outputs": [],
   "source": [
    "txt = txt.replace('i like ' , '')"
   ]
  },
  {
   "cell_type": "code",
   "execution_count": 6,
   "id": "682b00a6",
   "metadata": {},
   "outputs": [
    {
     "data": {
      "text/plain": [
       "'orange apple banana and kiwi.'"
      ]
     },
     "execution_count": 6,
     "metadata": {},
     "output_type": "execute_result"
    }
   ],
   "source": [
    "txt"
   ]
  },
  {
   "cell_type": "code",
   "execution_count": 8,
   "id": "793914f6",
   "metadata": {},
   "outputs": [],
   "source": [
    "txt = txt.replace(' and ', \" \")"
   ]
  },
  {
   "cell_type": "code",
   "execution_count": 9,
   "id": "edd2be26",
   "metadata": {},
   "outputs": [
    {
     "data": {
      "text/plain": [
       "'orange apple banana kiwi.'"
      ]
     },
     "execution_count": 9,
     "metadata": {},
     "output_type": "execute_result"
    }
   ],
   "source": [
    "txt"
   ]
  },
  {
   "cell_type": "code",
   "execution_count": 11,
   "id": "bd4fc0f0",
   "metadata": {},
   "outputs": [],
   "source": [
    "txt = txt.replace('.', '')"
   ]
  },
  {
   "cell_type": "code",
   "execution_count": 13,
   "id": "7f4f35d2",
   "metadata": {},
   "outputs": [
    {
     "data": {
      "text/plain": [
       "['orange', 'apple', 'banana', 'kiwi']"
      ]
     },
     "execution_count": 13,
     "metadata": {},
     "output_type": "execute_result"
    }
   ],
   "source": [
    "txt.split()"
   ]
  },
  {
   "cell_type": "code",
   "execution_count": 15,
   "id": "e0ff08ca",
   "metadata": {
    "scrolled": true
   },
   "outputs": [
    {
     "data": {
      "text/plain": [
       "'Hi my name is'"
      ]
     },
     "execution_count": 15,
     "metadata": {},
     "output_type": "execute_result"
    }
   ],
   "source": [
    "\"Hi my name is\""
   ]
  },
  {
   "cell_type": "code",
   "execution_count": 16,
   "id": "585b764a",
   "metadata": {},
   "outputs": [
    {
     "data": {
      "text/plain": [
       "['Hi', 'my', 'name', 'is']"
      ]
     },
     "execution_count": 16,
     "metadata": {},
     "output_type": "execute_result"
    }
   ],
   "source": [
    "\"Hi my name is\".split(\" \")"
   ]
  },
  {
   "cell_type": "code",
   "execution_count": 17,
   "id": "4558a86f",
   "metadata": {},
   "outputs": [
    {
     "data": {
      "text/plain": [
       "'Hi my name is'"
      ]
     },
     "execution_count": 17,
     "metadata": {},
     "output_type": "execute_result"
    }
   ],
   "source": [
    "\" \".join(['Hi', 'my', 'name', 'is'])"
   ]
  },
  {
   "cell_type": "code",
   "execution_count": 18,
   "id": "3fb2623d",
   "metadata": {},
   "outputs": [
    {
     "data": {
      "text/plain": [
       "' hi hello '"
      ]
     },
     "execution_count": 18,
     "metadata": {},
     "output_type": "execute_result"
    }
   ],
   "source": [
    "' hi hello '"
   ]
  },
  {
   "cell_type": "code",
   "execution_count": 21,
   "id": "d033614b",
   "metadata": {},
   "outputs": [
    {
     "data": {
      "text/plain": [
       "'hi hello'"
      ]
     },
     "execution_count": 21,
     "metadata": {},
     "output_type": "execute_result"
    }
   ],
   "source": [
    "' hi hello '.strip()"
   ]
  },
  {
   "cell_type": "code",
   "execution_count": 22,
   "id": "3579b7c8",
   "metadata": {},
   "outputs": [
    {
     "data": {
      "text/plain": [
       "'hi hello '"
      ]
     },
     "execution_count": 22,
     "metadata": {},
     "output_type": "execute_result"
    }
   ],
   "source": [
    "' hi hello '.lstrip()"
   ]
  },
  {
   "cell_type": "code",
   "execution_count": 23,
   "id": "cdbe20d3",
   "metadata": {},
   "outputs": [
    {
     "data": {
      "text/plain": [
       "' hi hello'"
      ]
     },
     "execution_count": 23,
     "metadata": {},
     "output_type": "execute_result"
    }
   ],
   "source": [
    "' hi hello '.rstrip()"
   ]
  },
  {
   "cell_type": "code",
   "execution_count": null,
   "id": "aa8ec96d",
   "metadata": {},
   "outputs": [],
   "source": []
  }
 ],
 "metadata": {
  "kernelspec": {
   "display_name": "Python (reco)",
   "language": "python",
   "name": "my_environment_name"
  },
  "language_info": {
   "codemirror_mode": {
    "name": "ipython",
    "version": 3
   },
   "file_extension": ".py",
   "mimetype": "text/x-python",
   "name": "python",
   "nbconvert_exporter": "python",
   "pygments_lexer": "ipython3",
   "version": "3.9.13"
  }
 },
 "nbformat": 4,
 "nbformat_minor": 5
}
