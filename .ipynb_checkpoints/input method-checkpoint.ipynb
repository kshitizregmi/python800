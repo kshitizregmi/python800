{
 "cells": [
  {
   "cell_type": "markdown",
   "id": "c20a6386",
   "metadata": {},
   "source": [
    "# Suppose we want to add two integers numbers given by user as input, How we going to do that? — using input() method\n"
   ]
  },
  {
   "cell_type": "code",
   "execution_count": null,
   "id": "c9fb14e8",
   "metadata": {},
   "outputs": [],
   "source": [
    "input(\"Enter a number\")"
   ]
  },
  {
   "cell_type": "code",
   "execution_count": 9,
   "id": "bfaf1f29",
   "metadata": {},
   "outputs": [
    {
     "name": "stdout",
     "output_type": "stream",
     "text": [
      "Enter a number : 9\n"
     ]
    }
   ],
   "source": [
    "num1 = input(\"Enter a number : \")"
   ]
  },
  {
   "cell_type": "code",
   "execution_count": 10,
   "id": "99572a01",
   "metadata": {},
   "outputs": [
    {
     "data": {
      "text/plain": [
       "'9'"
      ]
     },
     "execution_count": 10,
     "metadata": {},
     "output_type": "execute_result"
    }
   ],
   "source": [
    "num1"
   ]
  },
  {
   "cell_type": "code",
   "execution_count": null,
   "id": "7d119352",
   "metadata": {},
   "outputs": [],
   "source": [
    "num1 = input(\"Enter a number:\")\n",
    "\n",
    "num2 = input(\"Enter a number: \")\n",
    "\n",
    "total = num1 + num2 \n",
    "print(f\"The sum is {total}\")"
   ]
  },
  {
   "cell_type": "code",
   "execution_count": 1,
   "id": "66ecf16e",
   "metadata": {},
   "outputs": [
    {
     "name": "stdout",
     "output_type": "stream",
     "text": [
      "Enter a number : 88\n"
     ]
    },
    {
     "data": {
      "text/plain": [
       "str"
      ]
     },
     "execution_count": 1,
     "metadata": {},
     "output_type": "execute_result"
    }
   ],
   "source": [
    "test = input(\"Enter a number : \")\n",
    "type(test)"
   ]
  },
  {
   "cell_type": "markdown",
   "id": "8d4c9d7e",
   "metadata": {},
   "source": [
    "# Type casting -- explicit"
   ]
  },
  {
   "cell_type": "code",
   "execution_count": 4,
   "id": "81e86409",
   "metadata": {},
   "outputs": [],
   "source": [
    "x = '5'"
   ]
  },
  {
   "cell_type": "code",
   "execution_count": 5,
   "id": "286897a9",
   "metadata": {},
   "outputs": [],
   "source": [
    "y = int(x)"
   ]
  },
  {
   "cell_type": "code",
   "execution_count": 6,
   "id": "f956a4c0",
   "metadata": {},
   "outputs": [
    {
     "data": {
      "text/plain": [
       "5"
      ]
     },
     "execution_count": 6,
     "metadata": {},
     "output_type": "execute_result"
    }
   ],
   "source": [
    "y"
   ]
  },
  {
   "cell_type": "code",
   "execution_count": 7,
   "id": "7a0581a4",
   "metadata": {},
   "outputs": [
    {
     "data": {
      "text/plain": [
       "int"
      ]
     },
     "execution_count": 7,
     "metadata": {},
     "output_type": "execute_result"
    }
   ],
   "source": [
    "type(y)"
   ]
  },
  {
   "cell_type": "code",
   "execution_count": 12,
   "id": "dde6e93b",
   "metadata": {},
   "outputs": [
    {
     "name": "stdout",
     "output_type": "stream",
     "text": [
      "Enter a number:9\n",
      "Enter a number: 6\n",
      "The sum is 15\n"
     ]
    }
   ],
   "source": [
    "num1 = int(input(\"Enter a number:\"))\n",
    "\n",
    "num2 = int(input(\"Enter a number: \"))\n",
    "\n",
    "total = num1 + num2 \n",
    "print(f\"The sum is {total}\")"
   ]
  },
  {
   "cell_type": "code",
   "execution_count": null,
   "id": "0cddab78",
   "metadata": {},
   "outputs": [],
   "source": []
  }
 ],
 "metadata": {
  "kernelspec": {
   "display_name": "Python (reco)",
   "language": "python",
   "name": "my_environment_name"
  },
  "language_info": {
   "codemirror_mode": {
    "name": "ipython",
    "version": 3
   },
   "file_extension": ".py",
   "mimetype": "text/x-python",
   "name": "python",
   "nbconvert_exporter": "python",
   "pygments_lexer": "ipython3",
   "version": "3.9.13"
  }
 },
 "nbformat": 4,
 "nbformat_minor": 5
}
