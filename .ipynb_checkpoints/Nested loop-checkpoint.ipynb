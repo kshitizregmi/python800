{
 "cells": [
  {
   "cell_type": "code",
   "execution_count": 1,
   "id": "ee5f896e",
   "metadata": {},
   "outputs": [
    {
     "name": "stdout",
     "output_type": "stream",
     "text": [
      "------\n",
      "i = 0\n",
      "-------\n",
      "j = 0\n",
      "j = 1\n",
      "j = 2\n",
      "------\n",
      "i = 1\n",
      "-------\n",
      "j = 0\n",
      "j = 1\n",
      "j = 2\n",
      "------\n",
      "i = 2\n",
      "-------\n",
      "j = 0\n",
      "j = 1\n",
      "j = 2\n",
      "------\n",
      "i = 3\n",
      "-------\n",
      "j = 0\n",
      "j = 1\n",
      "j = 2\n",
      "------\n",
      "i = 4\n",
      "-------\n",
      "j = 0\n",
      "j = 1\n",
      "j = 2\n"
     ]
    }
   ],
   "source": [
    "for i in range(5):\n",
    "    print(\"------\")\n",
    "    print(f\"i = {i}\")\n",
    "    print(\"-------\")\n",
    "    \n",
    "    for j in range(3):\n",
    "        print(f\"j = {j}\")"
   ]
  },
  {
   "cell_type": "code",
   "execution_count": 10,
   "id": "77207d6f",
   "metadata": {},
   "outputs": [],
   "source": [
    "num = [[3,4,5], [9,33,21,1], [2,7]]"
   ]
  },
  {
   "cell_type": "code",
   "execution_count": 11,
   "id": "e539ea0c",
   "metadata": {},
   "outputs": [],
   "source": [
    "mean_values = []\n",
    "for item in num:\n",
    "    total = 0\n",
    "    for tokens in item:\n",
    "        total = total + tokens\n",
    "    mean = total/len(item)\n",
    "    mean_values.append(mean)"
   ]
  },
  {
   "cell_type": "code",
   "execution_count": 12,
   "id": "a6eea22c",
   "metadata": {},
   "outputs": [
    {
     "data": {
      "text/plain": [
       "[4.0, 16.0, 4.5]"
      ]
     },
     "execution_count": 12,
     "metadata": {},
     "output_type": "execute_result"
    }
   ],
   "source": [
    "mean_values"
   ]
  },
  {
   "cell_type": "code",
   "execution_count": 13,
   "id": "8c178c9d",
   "metadata": {},
   "outputs": [],
   "source": [
    "item = [3,4,5]\n",
    "total = 0\n",
    "for tokens in item:\n",
    "    total = total + tokens\n",
    "mean = total/len(item)"
   ]
  },
  {
   "cell_type": "code",
   "execution_count": 14,
   "id": "d6d0b620",
   "metadata": {},
   "outputs": [
    {
     "data": {
      "text/plain": [
       "4.0"
      ]
     },
     "execution_count": 14,
     "metadata": {},
     "output_type": "execute_result"
    }
   ],
   "source": [
    "mean"
   ]
  },
  {
   "cell_type": "code",
   "execution_count": null,
   "id": "f71165a1",
   "metadata": {},
   "outputs": [],
   "source": []
  }
 ],
 "metadata": {
  "kernelspec": {
   "display_name": "Python 3 (ipykernel)",
   "language": "python",
   "name": "python3"
  },
  "language_info": {
   "codemirror_mode": {
    "name": "ipython",
    "version": 3
   },
   "file_extension": ".py",
   "mimetype": "text/x-python",
   "name": "python",
   "nbconvert_exporter": "python",
   "pygments_lexer": "ipython3",
   "version": "3.8.10"
  }
 },
 "nbformat": 4,
 "nbformat_minor": 5
}
