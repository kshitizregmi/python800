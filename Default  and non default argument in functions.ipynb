{
 "cells": [
  {
   "cell_type": "code",
   "execution_count": 1,
   "id": "6f1b1187",
   "metadata": {},
   "outputs": [],
   "source": [
    "def greet(name, msg):\n",
    "    print(f\"Hello, {name} {msg}\")"
   ]
  },
  {
   "cell_type": "code",
   "execution_count": 3,
   "id": "07c5c9f7",
   "metadata": {},
   "outputs": [
    {
     "name": "stdout",
     "output_type": "stream",
     "text": [
      "Hello, Kshitiz Good morning\n"
     ]
    }
   ],
   "source": [
    "greet(\"Kshitiz\", 'Good morning')"
   ]
  },
  {
   "cell_type": "code",
   "execution_count": 4,
   "id": "2dcac25c",
   "metadata": {},
   "outputs": [
    {
     "name": "stdout",
     "output_type": "stream",
     "text": [
      "Hello, Ram Good morning\n"
     ]
    }
   ],
   "source": [
    "greet(\"Ram\", \"Good morning\")"
   ]
  },
  {
   "cell_type": "code",
   "execution_count": 7,
   "id": "a647b02c",
   "metadata": {},
   "outputs": [
    {
     "name": "stdout",
     "output_type": "stream",
     "text": [
      "Hello, Shyam Good morning\n"
     ]
    }
   ],
   "source": [
    "greet(\"Shyam\", \"Good morning\")"
   ]
  },
  {
   "cell_type": "markdown",
   "id": "baae2326",
   "metadata": {},
   "source": [
    "# Default argument"
   ]
  },
  {
   "cell_type": "code",
   "execution_count": 8,
   "id": "922990f1",
   "metadata": {},
   "outputs": [],
   "source": [
    "def greet(name, msg = 'Good Morning'): # msg is default argument\n",
    "    print(f\"Hello, {name} {msg}\")"
   ]
  },
  {
   "cell_type": "code",
   "execution_count": 9,
   "id": "e93962bb",
   "metadata": {},
   "outputs": [
    {
     "name": "stdout",
     "output_type": "stream",
     "text": [
      "Hello, Kshitiz Good Morning\n"
     ]
    }
   ],
   "source": [
    "greet(\"Kshitiz\")"
   ]
  },
  {
   "cell_type": "code",
   "execution_count": 10,
   "id": "2d58600f",
   "metadata": {},
   "outputs": [
    {
     "name": "stdout",
     "output_type": "stream",
     "text": [
      "Hello, Ram Good Morning\n"
     ]
    }
   ],
   "source": [
    "greet(\"Ram\")"
   ]
  },
  {
   "cell_type": "code",
   "execution_count": 11,
   "id": "001facaf",
   "metadata": {},
   "outputs": [
    {
     "name": "stdout",
     "output_type": "stream",
     "text": [
      "Hello, Shyam Good Afternoon\n"
     ]
    }
   ],
   "source": [
    "# Good afternoon overwrites default argument msg value\n",
    "greet(\"Shyam\", \"Good Afternoon\") "
   ]
  },
  {
   "cell_type": "code",
   "execution_count": 12,
   "id": "017d85e0",
   "metadata": {},
   "outputs": [
    {
     "name": "stdout",
     "output_type": "stream",
     "text": [
      "Hello, hari Good everning\n"
     ]
    }
   ],
   "source": [
    "greet(msg = \"Good everning\", name = \"hari\")"
   ]
  },
  {
   "cell_type": "code",
   "execution_count": 15,
   "id": "e68d4edb",
   "metadata": {},
   "outputs": [
    {
     "name": "stdout",
     "output_type": "stream",
     "text": [
      "Hello, Good Evening Hari\n"
     ]
    }
   ],
   "source": [
    "greet(\"Good Evening\",\"Hari\") # name = Good Evening , msg = Hari"
   ]
  },
  {
   "cell_type": "markdown",
   "id": "9ce6537a",
   "metadata": {},
   "source": [
    "# default vs non default argument"
   ]
  },
  {
   "cell_type": "code",
   "execution_count": 16,
   "id": "5fab85db",
   "metadata": {},
   "outputs": [
    {
     "ename": "SyntaxError",
     "evalue": "non-default argument follows default argument (1514870747.py, line 1)",
     "output_type": "error",
     "traceback": [
      "\u001b[0;36m  File \u001b[0;32m\"/tmp/ipykernel_11163/1514870747.py\"\u001b[0;36m, line \u001b[0;32m1\u001b[0m\n\u001b[0;31m    def greet(msg = 'Good Morning', name):\u001b[0m\n\u001b[0m                                        ^\u001b[0m\n\u001b[0;31mSyntaxError\u001b[0m\u001b[0;31m:\u001b[0m non-default argument follows default argument\n"
     ]
    }
   ],
   "source": [
    "def greet(msg = 'Good Morning', name): # msg is default argument and name is non default argument\n",
    "    print(f\"Hello, {name} {msg}\")"
   ]
  },
  {
   "cell_type": "code",
   "execution_count": null,
   "id": "e71f305c",
   "metadata": {},
   "outputs": [],
   "source": []
  }
 ],
 "metadata": {
  "kernelspec": {
   "display_name": "Python 3 (ipykernel)",
   "language": "python",
   "name": "python3"
  },
  "language_info": {
   "codemirror_mode": {
    "name": "ipython",
    "version": 3
   },
   "file_extension": ".py",
   "mimetype": "text/x-python",
   "name": "python",
   "nbconvert_exporter": "python",
   "pygments_lexer": "ipython3",
   "version": "3.9.13"
  }
 },
 "nbformat": 4,
 "nbformat_minor": 5
}
