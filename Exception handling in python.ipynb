{
 "cells": [
  {
   "cell_type": "code",
   "execution_count": 4,
   "id": "9a074ac8",
   "metadata": {},
   "outputs": [
    {
     "name": "stdout",
     "output_type": "stream",
     "text": [
      "Enter first number : 5\n",
      "Enter second number : 0\n"
     ]
    },
    {
     "ename": "ZeroDivisionError",
     "evalue": "division by zero",
     "output_type": "error",
     "traceback": [
      "\u001b[0;31m---------------------------------------------------------------------------\u001b[0m",
      "\u001b[0;31mZeroDivisionError\u001b[0m                         Traceback (most recent call last)",
      "Input \u001b[0;32mIn [4]\u001b[0m, in \u001b[0;36m<cell line: 3>\u001b[0;34m()\u001b[0m\n\u001b[1;32m      1\u001b[0m a \u001b[38;5;241m=\u001b[39m \u001b[38;5;28mint\u001b[39m(\u001b[38;5;28minput\u001b[39m(\u001b[38;5;124m\"\u001b[39m\u001b[38;5;124mEnter first number : \u001b[39m\u001b[38;5;124m\"\u001b[39m))\n\u001b[1;32m      2\u001b[0m b \u001b[38;5;241m=\u001b[39m \u001b[38;5;28mint\u001b[39m(\u001b[38;5;28minput\u001b[39m(\u001b[38;5;124m\"\u001b[39m\u001b[38;5;124mEnter second number : \u001b[39m\u001b[38;5;124m\"\u001b[39m))\n\u001b[0;32m----> 3\u001b[0m c \u001b[38;5;241m=\u001b[39m \u001b[43ma\u001b[49m\u001b[43m \u001b[49m\u001b[38;5;241;43m/\u001b[39;49m\u001b[43m \u001b[49m\u001b[43mb\u001b[49m \n\u001b[1;32m      4\u001b[0m \u001b[38;5;28mprint\u001b[39m(\u001b[38;5;124mf\u001b[39m\u001b[38;5;124m\"\u001b[39m\u001b[38;5;124mThe quotient is \u001b[39m\u001b[38;5;132;01m{\u001b[39;00mc\u001b[38;5;132;01m}\u001b[39;00m\u001b[38;5;124m\"\u001b[39m)\n\u001b[1;32m      5\u001b[0m \u001b[38;5;28mprint\u001b[39m(\u001b[38;5;124m\"\u001b[39m\u001b[38;5;124mhi\u001b[39m\u001b[38;5;124m\"\u001b[39m)\n",
      "\u001b[0;31mZeroDivisionError\u001b[0m: division by zero"
     ]
    }
   ],
   "source": [
    "a = int(input(\"Enter first number : \"))\n",
    "b = int(input(\"Enter second number : \"))\n",
    "c = a / b \n",
    "print(f\"The quotient is {c}\")\n",
    "print(\"test\")"
   ]
  },
  {
   "cell_type": "markdown",
   "id": "cfe37e3c",
   "metadata": {},
   "source": [
    "# ZeroDivisionError  is an exception we cannot divide a number by zero , (logic correct)\n",
    "\n",
    "* we want to handle this because it breaks the program. We do it by using exception handling\n",
    "\n",
    "* In python we use \n",
    "`try ... except ...`"
   ]
  },
  {
   "cell_type": "code",
   "execution_count": 5,
   "id": "51a98450",
   "metadata": {},
   "outputs": [
    {
     "name": "stdout",
     "output_type": "stream",
     "text": [
      "Enter first number : 5\n",
      "Enter second number : 0\n",
      "Error occured...\n",
      "division by zero\n",
      "test\n"
     ]
    }
   ],
   "source": [
    "a = int(input(\"Enter first number : \"))\n",
    "b = int(input(\"Enter second number : \"))\n",
    "try:\n",
    "    c = a / b \n",
    "    print(f\"The quotient is {c}\")\n",
    "except ZeroDivisionError as e:\n",
    "    print(\"Error occured...\")\n",
    "    print(str(e))\n",
    "    \n",
    "print(\"test\")"
   ]
  },
  {
   "cell_type": "code",
   "execution_count": 6,
   "id": "4161c243",
   "metadata": {},
   "outputs": [
    {
     "name": "stdout",
     "output_type": "stream",
     "text": [
      "Enter first number : 5\n",
      "Enter second number : 0\n",
      "Error occured...\n",
      "division by zero\n",
      "test\n"
     ]
    }
   ],
   "source": [
    "a = int(input(\"Enter first number : \"))\n",
    "b = int(input(\"Enter second number : \"))\n",
    "try:\n",
    "    c = a / b \n",
    "    print(f\"The quotient is {c}\")\n",
    "except Exception as e:\n",
    "    print(\"Error occured...\")\n",
    "    print(str(e))\n",
    "    \n",
    "print(\"test\")"
   ]
  },
  {
   "cell_type": "code",
   "execution_count": 8,
   "id": "9bbb3340",
   "metadata": {},
   "outputs": [
    {
     "name": "stdout",
     "output_type": "stream",
     "text": [
      "Enter first number : 5\n",
      "Enter second number : 0\n",
      "Error occured...\n",
      "test\n"
     ]
    }
   ],
   "source": [
    "a = int(input(\"Enter first number : \"))\n",
    "b = int(input(\"Enter second number : \"))\n",
    "try:\n",
    "    c = a / b \n",
    "    print(f\"The quotient is {c}\")\n",
    "except:\n",
    "    print(\"Error occured...\")\n",
    "    \n",
    "print(\"test\")"
   ]
  },
  {
   "cell_type": "code",
   "execution_count": null,
   "id": "ae383bd2",
   "metadata": {},
   "outputs": [],
   "source": []
  }
 ],
 "metadata": {
  "kernelspec": {
   "display_name": "Python 3 (ipykernel)",
   "language": "python",
   "name": "python3"
  },
  "language_info": {
   "codemirror_mode": {
    "name": "ipython",
    "version": 3
   },
   "file_extension": ".py",
   "mimetype": "text/x-python",
   "name": "python",
   "nbconvert_exporter": "python",
   "pygments_lexer": "ipython3",
   "version": "3.8.10"
  }
 },
 "nbformat": 4,
 "nbformat_minor": 5
}
