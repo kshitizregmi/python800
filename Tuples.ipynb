{
 "cells": [
  {
   "cell_type": "markdown",
   "id": "fc9079e0",
   "metadata": {},
   "source": [
    "# Tuple items are ordered, unchangeable, and allow duplicate values."
   ]
  },
  {
   "cell_type": "code",
   "execution_count": 12,
   "id": "708b5269",
   "metadata": {},
   "outputs": [],
   "source": [
    "car = (\"audi\", 'mercedes', 'bmw', 'audi')"
   ]
  },
  {
   "cell_type": "code",
   "execution_count": 13,
   "id": "074d6649",
   "metadata": {},
   "outputs": [
    {
     "data": {
      "text/plain": [
       "('audi', 'mercedes', 'bmw', 'audi')"
      ]
     },
     "execution_count": 13,
     "metadata": {},
     "output_type": "execute_result"
    }
   ],
   "source": [
    "car"
   ]
  },
  {
   "cell_type": "code",
   "execution_count": 14,
   "id": "980f3564",
   "metadata": {},
   "outputs": [
    {
     "data": {
      "text/plain": [
       "tuple"
      ]
     },
     "execution_count": 14,
     "metadata": {},
     "output_type": "execute_result"
    }
   ],
   "source": [
    "type(car)"
   ]
  },
  {
   "cell_type": "code",
   "execution_count": 15,
   "id": "7b4c64f8",
   "metadata": {},
   "outputs": [
    {
     "data": {
      "text/plain": [
       "'mercedes'"
      ]
     },
     "execution_count": 15,
     "metadata": {},
     "output_type": "execute_result"
    }
   ],
   "source": [
    "car[1]"
   ]
  },
  {
   "cell_type": "code",
   "execution_count": 16,
   "id": "55766829",
   "metadata": {},
   "outputs": [
    {
     "data": {
      "text/plain": [
       "'audi'"
      ]
     },
     "execution_count": 16,
     "metadata": {},
     "output_type": "execute_result"
    }
   ],
   "source": [
    "car[-1]"
   ]
  },
  {
   "cell_type": "code",
   "execution_count": 18,
   "id": "499831e1",
   "metadata": {},
   "outputs": [
    {
     "ename": "TypeError",
     "evalue": "'tuple' object does not support item assignment",
     "output_type": "error",
     "traceback": [
      "\u001b[0;31m---------------------------------------------------------------------------\u001b[0m",
      "\u001b[0;31mTypeError\u001b[0m                                 Traceback (most recent call last)",
      "\u001b[0;32m/tmp/ipykernel_9337/3438004235.py\u001b[0m in \u001b[0;36m<module>\u001b[0;34m\u001b[0m\n\u001b[0;32m----> 1\u001b[0;31m \u001b[0mcar\u001b[0m\u001b[0;34m[\u001b[0m\u001b[0;36m0\u001b[0m\u001b[0;34m]\u001b[0m \u001b[0;34m=\u001b[0m \u001b[0;34m\"Tesla\"\u001b[0m\u001b[0;34m\u001b[0m\u001b[0;34m\u001b[0m\u001b[0m\n\u001b[0m",
      "\u001b[0;31mTypeError\u001b[0m: 'tuple' object does not support item assignment"
     ]
    }
   ],
   "source": [
    "car[0] = \"Tesla\" # Unchangable or immutable"
   ]
  },
  {
   "cell_type": "markdown",
   "id": "ea33ecda",
   "metadata": {},
   "source": [
    "# Tuples are unchangeable, meaning that we cannot change, add or remove items after the tuple has been created.\n"
   ]
  },
  {
   "cell_type": "code",
   "execution_count": 19,
   "id": "8be85cb3",
   "metadata": {},
   "outputs": [
    {
     "data": {
      "text/plain": [
       "('audi', 'mercedes', 'bmw', 'audi')"
      ]
     },
     "execution_count": 19,
     "metadata": {},
     "output_type": "execute_result"
    }
   ],
   "source": [
    "car"
   ]
  },
  {
   "cell_type": "code",
   "execution_count": 21,
   "id": "07fb91ce",
   "metadata": {},
   "outputs": [
    {
     "ename": "AttributeError",
     "evalue": "'tuple' object has no attribute 'append'",
     "output_type": "error",
     "traceback": [
      "\u001b[0;31m---------------------------------------------------------------------------\u001b[0m",
      "\u001b[0;31mAttributeError\u001b[0m                            Traceback (most recent call last)",
      "\u001b[0;32m/tmp/ipykernel_9337/1106107747.py\u001b[0m in \u001b[0;36m<module>\u001b[0;34m\u001b[0m\n\u001b[0;32m----> 1\u001b[0;31m \u001b[0mcar\u001b[0m\u001b[0;34m.\u001b[0m\u001b[0mappend\u001b[0m\u001b[0;34m(\u001b[0m\u001b[0;34m'tesla'\u001b[0m\u001b[0;34m)\u001b[0m\u001b[0;34m\u001b[0m\u001b[0;34m\u001b[0m\u001b[0m\n\u001b[0m",
      "\u001b[0;31mAttributeError\u001b[0m: 'tuple' object has no attribute 'append'"
     ]
    }
   ],
   "source": [
    "car.append('tesla')"
   ]
  },
  {
   "cell_type": "markdown",
   "id": "9eaee942",
   "metadata": {},
   "source": [
    "# we cannot change, add or remove items after the tuple has been created but type conversion to list can make it happen\n"
   ]
  },
  {
   "cell_type": "code",
   "execution_count": 24,
   "id": "9174b44d",
   "metadata": {},
   "outputs": [
    {
     "name": "stdout",
     "output_type": "stream",
     "text": [
      "After type casting the data type of car is <class 'list'>\n",
      "['audi', 'mercedes', 'bmw', 'audi']\n",
      "After type casting the data type of car is <class 'tuple'>\n",
      "('audi', 'mercedes', 'bmw', 'audi', 'Tesla')\n"
     ]
    }
   ],
   "source": [
    "car = (\"audi\", 'mercedes', 'bmw', 'audi')\n",
    "\n",
    "car = list(car)\n",
    "print(f\"After type casting the data type of car is {type(car)}\")\n",
    "print(car)\n",
    "\n",
    "car.append(\"Tesla\")\n",
    "\n",
    "car = tuple(car)\n",
    "print(f\"After type casting the data type of car is {type(car)}\")\n",
    "print(car)"
   ]
  },
  {
   "cell_type": "markdown",
   "id": "28e20e82",
   "metadata": {},
   "source": [
    "# loops in tuples"
   ]
  },
  {
   "cell_type": "code",
   "execution_count": 28,
   "id": "e91efe4e",
   "metadata": {},
   "outputs": [
    {
     "name": "stdout",
     "output_type": "stream",
     "text": [
      "audi\n",
      "mercedes\n",
      "bmw\n",
      "audi\n"
     ]
    }
   ],
   "source": [
    "car = (\"audi\", 'mercedes', 'bmw', 'audi')\n",
    "\n",
    "for index in range(len(car)):\n",
    "    item = car[index] # indexing\n",
    "    print(item)"
   ]
  },
  {
   "cell_type": "code",
   "execution_count": 29,
   "id": "68cc8cc2",
   "metadata": {},
   "outputs": [
    {
     "name": "stdout",
     "output_type": "stream",
     "text": [
      "audi\n",
      "mercedes\n",
      "bmw\n",
      "audi\n"
     ]
    }
   ],
   "source": [
    "for item in car:\n",
    "    print(item)"
   ]
  },
  {
   "cell_type": "code",
   "execution_count": 30,
   "id": "73aa842c",
   "metadata": {},
   "outputs": [
    {
     "name": "stdout",
     "output_type": "stream",
     "text": [
      "0 audi\n",
      "1 mercedes\n",
      "2 bmw\n",
      "3 audi\n"
     ]
    }
   ],
   "source": [
    "for index, item in enumerate(car):\n",
    "    print(index, item)"
   ]
  },
  {
   "cell_type": "code",
   "execution_count": null,
   "id": "78ef5301",
   "metadata": {},
   "outputs": [],
   "source": []
  }
 ],
 "metadata": {
  "kernelspec": {
   "display_name": "Python (reco)",
   "language": "python",
   "name": "my_environment_name"
  },
  "language_info": {
   "codemirror_mode": {
    "name": "ipython",
    "version": 3
   },
   "file_extension": ".py",
   "mimetype": "text/x-python",
   "name": "python",
   "nbconvert_exporter": "python",
   "pygments_lexer": "ipython3",
   "version": "3.9.13"
  }
 },
 "nbformat": 4,
 "nbformat_minor": 5
}
