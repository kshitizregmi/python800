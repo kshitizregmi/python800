{
 "cells": [
  {
   "cell_type": "markdown",
   "id": "3b4c935d",
   "metadata": {},
   "source": [
    "# calculate mean of given list using while loop"
   ]
  },
  {
   "cell_type": "code",
   "execution_count": null,
   "id": "fdef6663",
   "metadata": {},
   "outputs": [],
   "source": [
    "num = [2,7,2,1,9,6]"
   ]
  },
  {
   "cell_type": "code",
   "execution_count": null,
   "id": "4d256afa",
   "metadata": {},
   "outputs": [],
   "source": [
    "index = 0\n",
    "end = len(num)\n",
    "\n",
    "total = 0\n",
    "while index < end:\n",
    "    data = num[index]\n",
    "    total = total + data\n",
    "    index = index + 1\n",
    "\n"
   ]
  },
  {
   "cell_type": "code",
   "execution_count": null,
   "id": "3e636a7b",
   "metadata": {},
   "outputs": [],
   "source": [
    "total/len(num)"
   ]
  },
  {
   "cell_type": "markdown",
   "id": "bb796a72",
   "metadata": {},
   "source": [
    "# use while loop to find factorial of a number"
   ]
  },
  {
   "cell_type": "code",
   "execution_count": 1,
   "id": "d2d643d4",
   "metadata": {},
   "outputs": [],
   "source": [
    "num = 5\n",
    "\n",
    "index = 1\n",
    "factorial = 1\n",
    "\n",
    "while index <=num:\n",
    "    factorial = index * factorial\n",
    "    \n",
    "    index = index + 1"
   ]
  },
  {
   "cell_type": "code",
   "execution_count": 3,
   "id": "58be56e6",
   "metadata": {},
   "outputs": [
    {
     "data": {
      "text/plain": [
       "120"
      ]
     },
     "execution_count": 3,
     "metadata": {},
     "output_type": "execute_result"
    }
   ],
   "source": [
    "factorial"
   ]
  },
  {
   "cell_type": "code",
   "execution_count": null,
   "id": "8c6fbdf0",
   "metadata": {},
   "outputs": [],
   "source": []
  }
 ],
 "metadata": {
  "kernelspec": {
   "display_name": "Python 3 (ipykernel)",
   "language": "python",
   "name": "python3"
  },
  "language_info": {
   "codemirror_mode": {
    "name": "ipython",
    "version": 3
   },
   "file_extension": ".py",
   "mimetype": "text/x-python",
   "name": "python",
   "nbconvert_exporter": "python",
   "pygments_lexer": "ipython3",
   "version": "3.8.10"
  }
 },
 "nbformat": 4,
 "nbformat_minor": 5
}
