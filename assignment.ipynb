{
 "cells": [
  {
   "cell_type": "markdown",
   "id": "7f83e332",
   "metadata": {},
   "source": [
    "# Write a Python function that takes a list and returns a new list with unique elements of the first list. \n"
   ]
  },
  {
   "cell_type": "code",
   "execution_count": 1,
   "id": "be959b71",
   "metadata": {},
   "outputs": [],
   "source": [
    "def find_unique(some_list):\n",
    "    unique = set(some_list)\n",
    "    unique_values_list = list(unique)\n",
    "    return unique_values_list"
   ]
  },
  {
   "cell_type": "code",
   "execution_count": 2,
   "id": "85360754",
   "metadata": {},
   "outputs": [],
   "source": [
    "x = [2,2,1,4,5,4]"
   ]
  },
  {
   "cell_type": "code",
   "execution_count": 3,
   "id": "bfa44274",
   "metadata": {},
   "outputs": [
    {
     "data": {
      "text/plain": [
       "[1, 2, 4, 5]"
      ]
     },
     "execution_count": 3,
     "metadata": {},
     "output_type": "execute_result"
    }
   ],
   "source": [
    "find_unique(x)"
   ]
  },
  {
   "cell_type": "markdown",
   "id": "750a34c4",
   "metadata": {},
   "source": [
    "# Write a Python function that accepts a string and calculate the number of upper-case letters and lower-case letters.\n"
   ]
  },
  {
   "cell_type": "code",
   "execution_count": 4,
   "id": "5376058e",
   "metadata": {},
   "outputs": [],
   "source": [
    "txt = \"HellO\""
   ]
  },
  {
   "cell_type": "code",
   "execution_count": 9,
   "id": "28cc08ed",
   "metadata": {},
   "outputs": [
    {
     "name": "stdout",
     "output_type": "stream",
     "text": [
      "The total no of uppercase letter is 2\n",
      "The total no of lowercase letter is 3\n"
     ]
    }
   ],
   "source": [
    "def count_up_lo(txt):\n",
    "    up = 0\n",
    "    lo = 0\n",
    "    for item in txt:\n",
    "        status = item.isupper()\n",
    "        if status:\n",
    "            up = up + 1\n",
    "        else:\n",
    "            lo = lo + 1\n",
    "    return up, lo\n",
    "        \n",
    "up, lo = count_up_lo(txt)\n",
    "print(f'The total no of uppercase letter is {up}')\n",
    "print(f'The total no of lowercase letter is {lo}')"
   ]
  },
  {
   "cell_type": "markdown",
   "id": "bc8f38b1",
   "metadata": {},
   "source": [
    "# Classwork:  Write a function to check if the given input number is prime or not if prime return true else return false"
   ]
  },
  {
   "cell_type": "code",
   "execution_count": 13,
   "id": "e554d662",
   "metadata": {},
   "outputs": [],
   "source": [
    "def is_prime(num):\n",
    "    for index in range(2, num):\n",
    "        if num % index == 0:\n",
    "            return False\n",
    "        \n",
    "    return True"
   ]
  },
  {
   "cell_type": "code",
   "execution_count": 24,
   "id": "24404178",
   "metadata": {},
   "outputs": [
    {
     "data": {
      "text/plain": [
       "True"
      ]
     },
     "execution_count": 24,
     "metadata": {},
     "output_type": "execute_result"
    }
   ],
   "source": [
    "is_prime(11)"
   ]
  },
  {
   "cell_type": "markdown",
   "id": "b6c0af55",
   "metadata": {},
   "source": [
    "# factorial"
   ]
  },
  {
   "cell_type": "code",
   "execution_count": 27,
   "id": "7842201f",
   "metadata": {},
   "outputs": [],
   "source": [
    "def fact(num):\n",
    "    factorial = 1\n",
    "    for numbers in range(1, num + 1):\n",
    "        factorial = factorial * numbers\n",
    "        \n",
    "    return factorial"
   ]
  },
  {
   "cell_type": "code",
   "execution_count": 28,
   "id": "a04c8d8e",
   "metadata": {},
   "outputs": [
    {
     "data": {
      "text/plain": [
       "120"
      ]
     },
     "execution_count": 28,
     "metadata": {},
     "output_type": "execute_result"
    }
   ],
   "source": [
    "fact(5)"
   ]
  },
  {
   "cell_type": "code",
   "execution_count": 29,
   "id": "66f91126",
   "metadata": {},
   "outputs": [
    {
     "data": {
      "text/plain": [
       "720"
      ]
     },
     "execution_count": 29,
     "metadata": {},
     "output_type": "execute_result"
    }
   ],
   "source": [
    "fact(6)"
   ]
  },
  {
   "cell_type": "code",
   "execution_count": null,
   "id": "8ce750af",
   "metadata": {},
   "outputs": [],
   "source": []
  }
 ],
 "metadata": {
  "kernelspec": {
   "display_name": "Python (reco)",
   "language": "python",
   "name": "my_environment_name"
  },
  "language_info": {
   "codemirror_mode": {
    "name": "ipython",
    "version": 3
   },
   "file_extension": ".py",
   "mimetype": "text/x-python",
   "name": "python",
   "nbconvert_exporter": "python",
   "pygments_lexer": "ipython3",
   "version": "3.9.13"
  }
 },
 "nbformat": 4,
 "nbformat_minor": 5
}
